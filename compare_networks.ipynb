{
 "cells": [
  {
   "cell_type": "code",
   "execution_count": 1,
   "id": "2bd50719",
   "metadata": {},
   "outputs": [],
   "source": [
    "from IPython.display import Markdown, display"
   ]
  },
  {
   "cell_type": "markdown",
   "id": "4044c191",
   "metadata": {},
   "source": [
    "# Compare Networks\n",
    "---\n",
    "This notebook serves the purpose of analysing all generated graphs within this project, in order to neatly compare the network metrics and relevant plots. It uses the `Markdown` files, that were generated automatically from the function `generate_markdown` on a `nx.Graph` object. We are analysing:\n",
    "\n",
    "1. Projections \n",
    "\n",
    "2. Backboning Techniques "
   ]
  },
  {
   "cell_type": "markdown",
   "id": "72ba4a0b",
   "metadata": {},
   "source": [
    "## Projections\n",
    "---"
   ]
  },
  {
   "cell_type": "code",
   "execution_count": 2,
   "id": "1b1e81b1",
   "metadata": {},
   "outputs": [
    {
     "data": {
      "text/markdown": [
       "# Generic Summary of Unipartite Graph **Simple_Weight**\n",
       "---\n",
       "Created: 15/11/21\n",
       "Computation Time: 177.86sec\n",
       "\n",
       "## Basic Statistics\n",
       "---\n",
       "<table>\n",
       "<tr><th align=\"center\"><img width=\"441\" height=\"1\"><p><small>Network Statistic</small></p></th><th align=\"center\"><img width=\"441\" height=\"1\"><p><small>Result</small></p></th></tr>\n",
       "<tr><td>Number of Nodes</td><td>120867</td></tr>\n",
       "<tr><td>Number of Edges</td><td>11058181</td></tr>\n",
       "<tr><td>Global Density</td><td>0.0015139160648380996</td></tr>\n",
       "</table>\n",
       "\n",
       "## Degree Statistics\n",
       "---\n",
       "<table>\n",
       "<tr><th align=\"center\"><img width=\"441\" height=\"1\"><p><small>Network Statistic</small></p></th><th align=\"center\"><img width=\"441\" height=\"1\"><p><small>Result</small></p></th></tr>\n",
       "<tr><td>Average Degree</td><td>182.98097909272175</td></tr>\n",
       "<tr><td>Five-Number-Summary Degrees</td><td>[    0.     3.    19.    82. 29649.]</td></tr>\n",
       "</table>\n",
       "\n",
       "## Edge Weight Statistics\n",
       "---\n",
       "<table>\n",
       "<tr><th align=\"center\"><img width=\"441\" height=\"1\"><p><small>Network Statistic</small></p></th><th align=\"center\"><img width=\"441\" height=\"1\"><p><small>Result</small></p></th></tr>\n",
       "<tr><td>Average Edge Weight</td><td>1.5210834403958482</td></tr>\n",
       "<tr><td>Five-Number-Summary Edge Weights</td><td>[  1.   1.   1.   1. 954.]</td></tr>\n",
       "</table>\n",
       "\n",
       "## Clustering Statistics\n",
       "---\n",
       "<table>\n",
       "<tr><th align=\"center\"><img width=\"441\" height=\"1\"><p><small>Network Statistic</small></p></th><th align=\"center\"><img width=\"441\" height=\"1\"><p><small>Result</small></p></th></tr>\n",
       "<tr><td>Average LCC</td><td>None</td></tr>\n",
       "<tr><td>Five-Number-Summary LCC</td><td>None</td></tr>\n",
       "</table>\n",
       "\n",
       "## Connected Components Statistics\n",
       "---\n",
       "<table>\n",
       "<tr><th align=\"center\"><img width=\"441\" height=\"1\"><p><small>Network Statistic</small></p></th><th align=\"center\"><img width=\"441\" height=\"1\"><p><small>Result</small></p></th></tr>\n",
       "<tr><td>Number of CC</td><td>15067</td></tr>\n",
       "<tr><td>Average CC Size</td><td>8.021968540519016</td></tr>\n",
       "<tr><td>Five-Number-Summary of CC Sizes</td><td>[    1.     1.     1.     1. 99907.]</td></tr>\n",
       "<tr><td>Average CC Density</td><td>0.19077740495208304</td></tr>\n",
       "<tr><td>Five-Number-Summary of CC Densities</td><td>[0. 0. 0. 0. 1.]</td></tr>\n",
       "</table>\n",
       "\n",
       "## Centrality Statistics\n",
       "---\n",
       "<table>\n",
       "<tr><th align=\"center\"><img width=\"441\" height=\"1\"><p><small>Network Statistic</small></p></th><th align=\"center\"><img width=\"441\" height=\"1\"><p><small>Result</small></p></th></tr>\n",
       "<tr><td>Degree Centrality</td><td>['r17', 'r302', 'r616', 'r654', 'r8', 'r76', 'r58', 'r518', 'r508', 'r84']</td></tr>\n",
       "<tr><td>Betweenness Centrality</td><td>None</td></tr>\n",
       "</table>\n",
       "\n",
       "## Degree Distribution Plot\n",
       "---\n",
       "![image](data/graph_summaries/projections/simple_weight/assets/degree_distribution.jpg)\n",
       "\n",
       "## Edge Weight Distribution Plot\n",
       "---\n",
       "![image](data/graph_summaries/projections/simple_weight/assets/edge_weight_distribution.jpg)\n",
       "\n",
       "## Ccdf Degree Distribution Plot\n",
       "---\n",
       "![image](data/graph_summaries/projections/simple_weight/assets/ccdf_degree_distribution.jpg)\n",
       "\n"
      ],
      "text/plain": [
       "<IPython.core.display.Markdown object>"
      ]
     },
     "metadata": {},
     "output_type": "display_data"
    }
   ],
   "source": [
    "display(Markdown('data/graph_summaries/projections/simple_weight/simple_weight.md'))"
   ]
  },
  {
   "cell_type": "code",
   "execution_count": 4,
   "id": "a2c4d054",
   "metadata": {},
   "outputs": [
    {
     "data": {
      "text/markdown": [
       "# Generic Summary of Unipartite Graph **Jaccard**\n",
       "---\n",
       "Created: 15/11/21\n",
       "Computation Time: 185.16sec\n",
       "\n",
       "## Basic Statistics\n",
       "---\n",
       "<table>\n",
       "<tr><th align=\"center\"><img width=\"441\" height=\"1\"><p><small>Network Statistic</small></p></th><th align=\"center\"><img width=\"441\" height=\"1\"><p><small>Result</small></p></th></tr>\n",
       "<tr><td>Number of Nodes</td><td>120867</td></tr>\n",
       "<tr><td>Number of Edges</td><td>11058181</td></tr>\n",
       "<tr><td>Global Density</td><td>0.0015139160648380996</td></tr>\n",
       "</table>\n",
       "\n",
       "## Degree Statistics\n",
       "---\n",
       "<table>\n",
       "<tr><th align=\"center\"><img width=\"441\" height=\"1\"><p><small>Network Statistic</small></p></th><th align=\"center\"><img width=\"441\" height=\"1\"><p><small>Result</small></p></th></tr>\n",
       "<tr><td>Average Degree</td><td>182.98097909272175</td></tr>\n",
       "<tr><td>Five-Number-Summary Degrees</td><td>[    0.     3.    19.    82. 29649.]</td></tr>\n",
       "</table>\n",
       "\n",
       "## Edge Weight Statistics\n",
       "---\n",
       "<table>\n",
       "<tr><th align=\"center\"><img width=\"441\" height=\"1\"><p><small>Network Statistic</small></p></th><th align=\"center\"><img width=\"441\" height=\"1\"><p><small>Result</small></p></th></tr>\n",
       "<tr><td>Average Edge Weight</td><td>0.0815951307846329</td></tr>\n",
       "<tr><td>Five-Number-Summary Edge Weights</td><td>[0.00026645 0.00884956 0.02173913 0.0625     1.        ]</td></tr>\n",
       "</table>\n",
       "\n",
       "## Clustering Statistics\n",
       "---\n",
       "<table>\n",
       "<tr><th align=\"center\"><img width=\"441\" height=\"1\"><p><small>Network Statistic</small></p></th><th align=\"center\"><img width=\"441\" height=\"1\"><p><small>Result</small></p></th></tr>\n",
       "<tr><td>Average LCC</td><td>None</td></tr>\n",
       "<tr><td>Five-Number-Summary LCC</td><td>None</td></tr>\n",
       "</table>\n",
       "\n",
       "## Connected Components Statistics\n",
       "---\n",
       "<table>\n",
       "<tr><th align=\"center\"><img width=\"441\" height=\"1\"><p><small>Network Statistic</small></p></th><th align=\"center\"><img width=\"441\" height=\"1\"><p><small>Result</small></p></th></tr>\n",
       "<tr><td>Number of CC</td><td>15067</td></tr>\n",
       "<tr><td>Average CC Size</td><td>8.021968540519016</td></tr>\n",
       "<tr><td>Five-Number-Summary of CC Sizes</td><td>[    1.     1.     1.     1. 99907.]</td></tr>\n",
       "<tr><td>Average CC Density</td><td>0.19077740495208304</td></tr>\n",
       "<tr><td>Five-Number-Summary of CC Densities</td><td>[0. 0. 0. 0. 1.]</td></tr>\n",
       "</table>\n",
       "\n",
       "## Centrality Statistics\n",
       "---\n",
       "<table>\n",
       "<tr><th align=\"center\"><img width=\"441\" height=\"1\"><p><small>Network Statistic</small></p></th><th align=\"center\"><img width=\"441\" height=\"1\"><p><small>Result</small></p></th></tr>\n",
       "<tr><td>Degree Centrality</td><td>['r17', 'r302', 'r616', 'r654', 'r8', 'r76', 'r58', 'r518', 'r508', 'r84']</td></tr>\n",
       "<tr><td>Betweenness Centrality</td><td>None</td></tr>\n",
       "</table>\n",
       "\n",
       "## Degree Distribution Plot\n",
       "---\n",
       "![image](data/graph_summaries/projections/jaccard/assets/degree_distribution.jpg)\n",
       "\n",
       "## Edge Weight Distribution Plot\n",
       "---\n",
       "![image](data/graph_summaries/projections/jaccard/assets/edge_weight_distribution.jpg)\n",
       "\n",
       "## Ccdf Degree Distribution Plot\n",
       "---\n",
       "![image](data/graph_summaries/projections/jaccard/assets/ccdf_degree_distribution.jpg)\n",
       "\n"
      ],
      "text/plain": [
       "<IPython.core.display.Markdown object>"
      ]
     },
     "metadata": {},
     "output_type": "display_data"
    }
   ],
   "source": [
    "display(Markdown('data/graph_summaries/projections/jaccard/jaccard.md'))"
   ]
  },
  {
   "cell_type": "code",
   "execution_count": null,
   "id": "d7d0c7d4",
   "metadata": {},
   "outputs": [],
   "source": [
    "display(Markdown('data/graph_summaries/projections/hyperbolic/hyperbolic.md'))"
   ]
  },
  {
   "cell_type": "code",
   "execution_count": null,
   "id": "425aefaf",
   "metadata": {},
   "outputs": [],
   "source": [
    "display(Markdown('data/graph_summaries/projections/probs/probs.md'))"
   ]
  },
  {
   "cell_type": "code",
   "execution_count": null,
   "id": "840728ac",
   "metadata": {},
   "outputs": [],
   "source": [
    "display(Markdown('data/graph_summaries/projections/heats/heats.md'))"
   ]
  },
  {
   "cell_type": "code",
   "execution_count": null,
   "id": "1ba78e4c",
   "metadata": {},
   "outputs": [],
   "source": []
  },
  {
   "cell_type": "code",
   "execution_count": null,
   "id": "84a33cff",
   "metadata": {},
   "outputs": [],
   "source": []
  },
  {
   "cell_type": "code",
   "execution_count": null,
   "id": "5257f657",
   "metadata": {},
   "outputs": [],
   "source": []
  },
  {
   "cell_type": "code",
   "execution_count": null,
   "id": "c64a59ce",
   "metadata": {},
   "outputs": [],
   "source": []
  }
 ],
 "metadata": {
  "kernelspec": {
   "display_name": "Python 3 (ipykernel)",
   "language": "python",
   "name": "python3"
  },
  "language_info": {
   "codemirror_mode": {
    "name": "ipython",
    "version": 3
   },
   "file_extension": ".py",
   "mimetype": "text/x-python",
   "name": "python",
   "nbconvert_exporter": "python",
   "pygments_lexer": "ipython3",
   "version": "3.8.11"
  }
 },
 "nbformat": 4,
 "nbformat_minor": 5
}
