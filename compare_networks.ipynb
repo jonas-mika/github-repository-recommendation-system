{
 "cells": [
  {
   "cell_type": "code",
   "execution_count": 2,
   "id": "2bd50719",
   "metadata": {},
   "outputs": [],
   "source": [
    "from IPython.display import Markdown, display"
   ]
  },
  {
   "cell_type": "markdown",
   "id": "4044c191",
   "metadata": {},
   "source": [
    "## Karate-Graph Test\n",
    "---"
   ]
  },
  {
   "cell_type": "code",
   "execution_count": 12,
   "id": "88910390",
   "metadata": {},
   "outputs": [],
   "source": [
    "%%capture\n",
    "from cscripts.summarise import generate_summary\n",
    "import networkx as nx\n",
    "\n",
    "G = nx.karate_club_graph()\n",
    "generate_summary(G, filepath='./data/graph_summaries', name='karate')"
   ]
  },
  {
   "cell_type": "code",
   "execution_count": 14,
   "id": "1b1e81b1",
   "metadata": {},
   "outputs": [
    {
     "data": {
      "text/markdown": [
       "# Generic Summary of Unipartite Graph **Karate**\n",
       "---\n",
       "Created: 15/11/21\n",
       "Computation Time: 1.46sec\n",
       "\n",
       "## Basic Statistics\n",
       "---\n",
       "<table>\n",
       "<tr><th align=\"center\"><img width=\"441\" height=\"1\"><p><small>Network Statistic</small></p></th><th align=\"center\"><img width=\"441\" height=\"1\"><p><small>Result</small></p></th></tr>\n",
       "<tr><td>Number of Nodes</td><td>34</td></tr>\n",
       "<tr><td>Number of Edges</td><td>78</td></tr>\n",
       "<tr><td>Global Density</td><td>13.9%</td></tr>\n",
       "</table>\n",
       "\n",
       "## Degree Statistics\n",
       "---\n",
       "<table>\n",
       "<tr><th align=\"center\"><img width=\"441\" height=\"1\"><p><small>Network Statistic</small></p></th><th align=\"center\"><img width=\"441\" height=\"1\"><p><small>Result</small></p></th></tr>\n",
       "<tr><td>Average Degree</td><td>4.59</td></tr>\n",
       "<tr><td>Five-Number-Summary Degrees</td><td>[ 1.  2.  3.  5. 17.]</td></tr>\n",
       "</table>\n",
       "\n",
       "## Edge Weight Statistics\n",
       "---\n",
       "<table>\n",
       "<tr><th align=\"center\"><img width=\"441\" height=\"1\"><p><small>Network Statistic</small></p></th><th align=\"center\"><img width=\"441\" height=\"1\"><p><small>Result</small></p></th></tr>\n",
       "<tr><td>Average Edge Weight</td><td>None</td></tr>\n",
       "<tr><td>Five-Number-Summary Edge Weights</td><td>None</td></tr>\n",
       "</table>\n",
       "\n",
       "## Clustering Statistics\n",
       "---\n",
       "<table>\n",
       "<tr><th align=\"center\"><img width=\"441\" height=\"1\"><p><small>Network Statistic</small></p></th><th align=\"center\"><img width=\"441\" height=\"1\"><p><small>Result</small></p></th></tr>\n",
       "<tr><td>Average LCC</td><td>0.57</td></tr>\n",
       "<tr><td>Five-Number-Summary LCC</td><td>[0.         0.33333333 0.5        1.         1.        ]</td></tr>\n",
       "</table>\n",
       "\n",
       "## Connected Components Statistics\n",
       "---\n",
       "<table>\n",
       "<tr><th align=\"center\"><img width=\"441\" height=\"1\"><p><small>Network Statistic</small></p></th><th align=\"center\"><img width=\"441\" height=\"1\"><p><small>Result</small></p></th></tr>\n",
       "<tr><td>Number of CC</td><td>1</td></tr>\n",
       "<tr><td>Average CC Size</td><td>34.0</td></tr>\n",
       "<tr><td>Five-Number-Summary of CC Sizes</td><td>[34. 34. 34. 34. 34.]</td></tr>\n",
       "<tr><td>Average CC Density</td><td>0.14</td></tr>\n",
       "<tr><td>Five-Number-Summary of CC Densities</td><td>[0.13903743 0.13903743 0.13903743 0.13903743 0.13903743]</td></tr>\n",
       "</table>\n",
       "\n",
       "## Centrality Statistics\n",
       "---\n",
       "<table>\n",
       "<tr><th align=\"center\"><img width=\"441\" height=\"1\"><p><small>Network Statistic</small></p></th><th align=\"center\"><img width=\"441\" height=\"1\"><p><small>Result</small></p></th></tr>\n",
       "<tr><td>Degree Centrality</td><td>[33, 0, 32, 2, 1, 3, 31, 8, 13, 23]</td></tr>\n",
       "<tr><td>Betweenness Centrality</td><td>[0, 33, 32, 2, 31, 8, 1, 13, 19, 5]</td></tr>\n",
       "</table>\n",
       "\n",
       "## Degree Distribution Plot\n",
       "---\n",
       "![image](./data/graph_summaries/karate/assets/degree_distribution.jpg)\n",
       "\n",
       "## Edge Weight Distribution Plot\n",
       "---\n",
       "![image](./data/graph_summaries/karate/assets/edge_weight_distribution.jpg)\n",
       "\n",
       "## Ccdf Degree Distribution Plot\n",
       "---\n",
       "![image](./data/graph_summaries/karate/assets/ccdf_degree_distribution.jpg)\n",
       "\n"
      ],
      "text/plain": [
       "<IPython.core.display.Markdown object>"
      ]
     },
     "metadata": {},
     "output_type": "display_data"
    }
   ],
   "source": [
    "display(Markdown('data/graph_summaries/karate/karate.md'))"
   ]
  }
 ],
 "metadata": {
  "kernelspec": {
   "display_name": "Python 3 (ipykernel)",
   "language": "python",
   "name": "python3"
  },
  "language_info": {
   "codemirror_mode": {
    "name": "ipython",
    "version": 3
   },
   "file_extension": ".py",
   "mimetype": "text/x-python",
   "name": "python",
   "nbconvert_exporter": "python",
   "pygments_lexer": "ipython3",
   "version": "3.8.11"
  }
 },
 "nbformat": 4,
 "nbformat_minor": 5
}
