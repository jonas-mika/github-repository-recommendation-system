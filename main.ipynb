{
 "cells": [
  {
   "cell_type": "markdown",
   "id": "8bcf929d",
   "metadata": {
    "cell_id": "00000-bf007d59-829d-470b-97f9-9cf7555e0f34",
    "deepnote_cell_type": "markdown",
    "tags": []
   },
   "source": [
    "# Network Analysis Project \n",
    "#### Building an Recommendation System from Bipartite Networks\n",
    "---\n",
    "\n",
    "*Ludek Cizinský (luci@itu.dk)*, *Louis Brandt (locb@itu.dk)*, *Lukas Rasocha (lukr@itu.dk)*, *Mika Senghaas (jsen@itu.dk)*, *Jacob Victor Enggaard Haahr (javh@itu.dk)*\n",
    "\n",
    "Course Manager: *Michele Coscia*\n",
    "\n",
    "Deadline: *22nd Decemeber 2021*\n",
    "\n",
    "Last Modified: *10th November 2021*"
   ]
  },
  {
   "cell_type": "markdown",
   "id": "ea8c73f0",
   "metadata": {
    "cell_id": "00001-fdb6c19e-a11d-4679-944e-fd5ef55563fb",
    "deepnote_cell_type": "markdown",
    "tags": []
   },
   "source": [
    "## Assignment Description\n",
    "---\n",
    "You will have to deliver your project at the end of the course (deadline to be determined). You have to hand in a presentation (in PDF or Power Point format). It is mandatory to include the following information:\n",
    "\n",
    "- Basic network description of your data (what type of network it is, what does it represent, is it real or synthetically generated, etc). In practice, the result of project phase #1 (finding data).\n",
    "- Basic network statistics of your data (number of nodes, edges, clustering, degree distribution, etc). In practice, the result of project phase #2 (exploratory data analysis).\n",
    "- A clear statement of your research question, the result of project phase #3.\n",
    "- The analysis, results, and interpretation that allow you to answer your research question, the result of project phase #4.\n",
    "\n",
    "You're free to include this in the order you prefer and to add any additional information you deem necessary, but these are the mandatory components.\n",
    "\n",
    "The format of the oral is as follows: the students make a joint presentation followed by group questions. Subsequently the students are having individual examination with additional questions while the rest of the group is outside the room. The length of the oral will be 15 minutes X number of group members plus one -- for instance, a group of 6 will have 105 minutes ((6+1)*15). Which means you have 15 minutes of group exam plus 15 minutes of individual exam each."
   ]
  },
  {
   "cell_type": "markdown",
   "id": "4a90b06d",
   "metadata": {
    "cell_id": "00000-e216af63-2d3d-472e-b191-f7e7b641052e",
    "deepnote_cell_type": "markdown"
   },
   "source": [
    "## Environment Setup\n",
    "---\n",
    "This project uses Python libraries that are essential for the performed analysis. Make sure to have the dependencies listed in `requirements.txt` installed locally using the *Python Package Manager* `pip`. If installed, running the next code cell should install all relevant dependencies. Check documentation via the provided links:\n",
    "\n",
    "- [*NetworkX* Documentation](https://networkx.org/documentation/stable/reference/index.html)\n",
    "\n",
    "- [*NumPy* Quickstart](https://numpy.org/doc/stable/user/quickstart.html)\n",
    "- [*Matplotlib* Documentation](https://matplotlib.org/stable/tutorials/introductory/usage.html)\n",
    "- [*Pandas* Documentation](https://pandas.pydata.org/docs/)"
   ]
  },
  {
   "cell_type": "markdown",
   "id": "680ffcd7",
   "metadata": {
    "cell_id": "00003-b4c91587-23d2-472b-8832-f6b1f8959a69",
    "deepnote_cell_type": "markdown",
    "tags": []
   },
   "source": [
    "### Libraries"
   ]
  },
  {
   "cell_type": "code",
   "execution_count": 1,
   "id": "d025cf18",
   "metadata": {
    "cell_id": "00003-14aee654-90af-4fe0-bac9-74243ece0430",
    "deepnote_cell_type": "code",
    "deepnote_to_be_reexecuted": false,
    "execution_millis": 2822,
    "execution_start": 1633939925517,
    "source_hash": "6b6b1295",
    "tags": []
   },
   "outputs": [],
   "source": [
    "%%capture\n",
    "!pip install -r requirements.txt"
   ]
  },
  {
   "cell_type": "code",
   "execution_count": 2,
   "id": "de7980d2",
   "metadata": {
    "cell_id": "00001-fee89a0e-b2a2-47b5-9f57-9e9b5bc39684",
    "deepnote_cell_type": "code",
    "deepnote_to_be_reexecuted": false,
    "execution_millis": 1476,
    "execution_start": 1633939928340,
    "source_hash": "a4893cee"
   },
   "outputs": [],
   "source": [
    "# network representation and algorithms\n",
    "import networkx as nx\n",
    "from networkx.algorithms import bipartite\n",
    "from pyvis.network import Network\n",
    "from networkx import linalg as nxla\n",
    "import powerlaw as pl                                            # powerlaw fits for degree distribution\n",
    "from IPython.display import display, Image, Markdown             # display images and markdown in jupyter\n",
    "\n",
    "# general data science libraries\n",
    "from matplotlib import pyplot as plt                            # basic plotting\n",
    "import seaborn as sns                                           # advanced plotting\n",
    "import numpy as np                                              # for representing n-dimensional arrays\n",
    "import scipy as sp                                              # numerical computation\n",
    "import pandas as pd                                             # dataframes\n",
    "\n",
    "# python standard library\n",
    "from time import time                                           # used for timing execution\n",
    "from datetime import date, datetime                             # get current data and time\n",
    "import json                                                     # read/ write json\n",
    "import re                                                       # regex search \n",
    "import os                                                       # os operations\n",
    "import random                                                   # randomness\n",
    "from collections import Counter                                 # efficient counting\n",
    "import contextlib\n",
    "\n",
    "# custom imports\n",
    "from cscripts import metrics\n",
    "from cscripts import plotting\n",
    "from cscripts import summarise\n",
    "from cscripts import backboning # michele"
   ]
  },
  {
   "cell_type": "markdown",
   "id": "50ad59f9",
   "metadata": {},
   "source": [
    "### Set global style of plots\n",
    "\n",
    "Below you can specify global style for all plots or any other setups related to plots visualization."
   ]
  },
  {
   "cell_type": "code",
   "execution_count": 3,
   "id": "7636f972",
   "metadata": {},
   "outputs": [],
   "source": [
    "sns.set_style(\"darkgrid\")\n",
    "sns.set(rc={\"xtick.bottom\" : True, \"ytick.left\" : True})"
   ]
  },
  {
   "cell_type": "markdown",
   "id": "5f0cf139",
   "metadata": {
    "cell_id": "00004-91fbf149-54bb-4103-8781-05f116ed2e73",
    "deepnote_cell_type": "markdown",
    "tags": []
   },
   "source": [
    "### Flags\n",
    "\n",
    "Flags are used to control the run flow of the notebook when executed at once. This is useful, to prevent operations that should only produce a result once, from running multiple times. "
   ]
  },
  {
   "cell_type": "code",
   "execution_count": 4,
   "id": "ecdefb94",
   "metadata": {
    "cell_id": "00004-53bd492d-9bcd-4b38-aa38-b0a5ded0f905",
    "deepnote_cell_type": "code",
    "deepnote_to_be_reexecuted": false,
    "execution_millis": 5,
    "execution_start": 1633939929824,
    "source_hash": "76037a73",
    "tags": []
   },
   "outputs": [],
   "source": [
    "# section flags\n",
    "LOAD_DATA = True # Loads raw data for initial inspection\n",
    "TRANSFORM_DATA = False # Transforms raw data into more suitable format (Load data needs to be on as well)\n",
    "COMPUTE_PROJECTIONS = False\n",
    "GENERATE_SUMMARY_PROJ = False # Summary related to projections only\n",
    "DO_BACKBONING = False\n",
    "GENERATE_SUMMARY_PROJ_BACKB = False # Summary related to projected AND backboned graph\n",
    "SAVE_FIG = False # Do you want to save all generated figures?"
   ]
  },
  {
   "cell_type": "markdown",
   "id": "718b816a",
   "metadata": {
    "cell_id": "00008-38436e51-9336-4e56-98ee-f9499a210276",
    "deepnote_cell_type": "markdown",
    "tags": []
   },
   "source": [
    "### Constants\n",
    "\n"
   ]
  },
  {
   "cell_type": "code",
   "execution_count": 5,
   "id": "17a43637",
   "metadata": {
    "cell_id": "00002-22b35ef9-6971-4ab9-a837-1ac0c1f82e62",
    "deepnote_cell_type": "code",
    "deepnote_to_be_reexecuted": false,
    "execution_millis": 1,
    "execution_start": 1633939929836,
    "source_hash": "7708a6"
   },
   "outputs": [],
   "source": [
    "PATH_TO = {}\n",
    "PATH_TO['data'] = {}\n",
    "PATH_TO['data']['raw'] = 'data/raw'\n",
    "PATH_TO['data']['transformed'] = 'data/transformed'\n",
    "PATH_TO['data']['projections'] = 'data/projections'\n",
    "PATH_TO['data']['backboning'] = 'data/backboning'\n",
    "PATH_TO['data']['backboned_thresholded'] = 'data/backboned_thresholded'\n",
    "PATH_TO['data']['figures'] = 'data/figures'\n",
    "PATH_TO['data']['summaries'] = 'data/graph_summaries'\n",
    "PATH_TO['data']['metadata'] = 'data/metadata'"
   ]
  },
  {
   "cell_type": "markdown",
   "id": "58a5122f",
   "metadata": {
    "cell_id": "00010-3d5d8dac-f82c-4a86-ba1d-5b84a95d7552",
    "deepnote_cell_type": "markdown",
    "tags": []
   },
   "source": [
    "### Folder Structure\n",
    "\n",
    "Create relevant folders to read from and write to, if not yet existent."
   ]
  },
  {
   "cell_type": "code",
   "execution_count": 6,
   "id": "a0c67af4",
   "metadata": {
    "cell_id": "00011-08e3a7d1-6b4d-4695-a69d-33f4b46e040e",
    "deepnote_cell_type": "code",
    "deepnote_to_be_reexecuted": false,
    "execution_millis": 484498,
    "execution_start": 1633939929852,
    "source_hash": "84ce9148",
    "tags": []
   },
   "outputs": [
    {
     "name": "stdout",
     "output_type": "stream",
     "text": [
      "Already exists.\n",
      "Already exists.\n",
      "Already exists.\n",
      "Already exists.\n",
      "Already exists.\n",
      "Already exists.\n",
      "Already exists.\n"
     ]
    }
   ],
   "source": [
    "# iterate over path_to dict\n",
    "for path in PATH_TO['data'].values():\n",
    "    os.makedirs(path) if not os.path.exists(path) else print('Already exists.')"
   ]
  },
  {
   "cell_type": "markdown",
   "id": "9d274563",
   "metadata": {
    "cell_id": "00003-ad4ff0e0-c3b4-4f28-9e82-37ff1be70da7",
    "deepnote_cell_type": "markdown"
   },
   "source": [
    "## #01 Loading and Inspecting Raw Data\n",
    "---"
   ]
  },
  {
   "cell_type": "code",
   "execution_count": 7,
   "id": "45671ab4",
   "metadata": {
    "cell_id": "00005-b9704f80-1b37-4859-8f1b-fec63d62a33a",
    "deepnote_cell_type": "code",
    "deepnote_to_be_reexecuted": false,
    "execution_millis": 236,
    "execution_start": 1633939929892,
    "source_hash": "ec6986c"
   },
   "outputs": [],
   "source": [
    "if LOAD_DATA:\n",
    "    data = pd.read_csv(f\"{PATH_TO['data']['raw']}/data.txt\", delimiter=\":\", names=[\"user_id\", \"repo_id\"])\n",
    "    repos = pd.read_csv(f\"{PATH_TO['data']['raw']}/repos.txt\", delimiter=\":\", names=[\"repo_id\", \"meta_info\"])\n",
    "    lang = pd.read_csv(f\"{PATH_TO['data']['raw']}/lang.txt\", delimiter=\":\", names=[\"repo_id\", \"meta_info\"])"
   ]
  },
  {
   "cell_type": "markdown",
   "id": "e7d577b1",
   "metadata": {
    "cell_id": "00012-a492c094-5e5a-4281-83a9-756fda0ba4da",
    "deepnote_cell_type": "markdown",
    "tags": []
   },
   "source": [
    "### `data.txt`\n",
    "\n",
    "This is the main dataset.  Each line is of the format `<user_id>`:`<repo_id>`\n",
    "which represents a user watching a repository.  There are 440,237 records\n",
    "in this file, each a single `user_id` and a single `repository_id` seperated by a colon. This file, thus, represents the bipartite graph of users following repositories as an edge list. The data looks like this:"
   ]
  },
  {
   "cell_type": "code",
   "execution_count": 8,
   "id": "76428615",
   "metadata": {
    "cell_id": "00012-4ab9f25a-43ff-4672-b4ad-c12ccdfd85a3",
    "deepnote_cell_type": "code",
    "deepnote_to_be_reexecuted": false,
    "execution_millis": 109,
    "execution_start": 1633939930134,
    "source_hash": "5d012fde",
    "tags": []
   },
   "outputs": [
    {
     "name": "stdout",
     "output_type": "stream",
     "text": [
      "Size of data.txt: (440237, 2)\n",
      "Number of Unique Users: 56519\n",
      "Number of Unique Repos: 120867\n"
     ]
    },
    {
     "data": {
      "text/html": [
       "<div>\n",
       "<style scoped>\n",
       "    .dataframe tbody tr th:only-of-type {\n",
       "        vertical-align: middle;\n",
       "    }\n",
       "\n",
       "    .dataframe tbody tr th {\n",
       "        vertical-align: top;\n",
       "    }\n",
       "\n",
       "    .dataframe thead th {\n",
       "        text-align: right;\n",
       "    }\n",
       "</style>\n",
       "<table border=\"1\" class=\"dataframe\">\n",
       "  <thead>\n",
       "    <tr style=\"text-align: right;\">\n",
       "      <th></th>\n",
       "      <th>user_id</th>\n",
       "      <th>repo_id</th>\n",
       "    </tr>\n",
       "  </thead>\n",
       "  <tbody>\n",
       "    <tr>\n",
       "      <th>0</th>\n",
       "      <td>1</td>\n",
       "      <td>1</td>\n",
       "    </tr>\n",
       "    <tr>\n",
       "      <th>1</th>\n",
       "      <td>2</td>\n",
       "      <td>2</td>\n",
       "    </tr>\n",
       "    <tr>\n",
       "      <th>2</th>\n",
       "      <td>3</td>\n",
       "      <td>3</td>\n",
       "    </tr>\n",
       "    <tr>\n",
       "      <th>3</th>\n",
       "      <td>4</td>\n",
       "      <td>4</td>\n",
       "    </tr>\n",
       "    <tr>\n",
       "      <th>4</th>\n",
       "      <td>5</td>\n",
       "      <td>5</td>\n",
       "    </tr>\n",
       "  </tbody>\n",
       "</table>\n",
       "</div>"
      ],
      "text/plain": [
       "   user_id  repo_id\n",
       "0        1        1\n",
       "1        2        2\n",
       "2        3        3\n",
       "3        4        4\n",
       "4        5        5"
      ]
     },
     "execution_count": 8,
     "metadata": {},
     "output_type": "execute_result"
    }
   ],
   "source": [
    "print(f\"Size of data.txt: {data.shape}\")\n",
    "print(f\"Number of Unique Users: {len(np.unique(data['user_id']))}\")\n",
    "print(f\"Number of Unique Repos: {len(np.unique(data['repo_id']))}\")\n",
    "\n",
    "data.head()"
   ]
  },
  {
   "cell_type": "markdown",
   "id": "d16e4108",
   "metadata": {
    "cell_id": "00014-9e47b717-6ef6-4113-bead-d2eaaf1e8558",
    "deepnote_cell_type": "markdown",
    "tags": []
   },
   "source": [
    "### `repos.txt`\n",
    "\n",
    "This file lists out the 120,867 unique repositories using their id (`repo_id`) that are used in the `data.txt`\n",
    "set, providing the repository name, date it was created and (if applicable)\n",
    "the repository id that it was forked off of.  The data looks like this:"
   ]
  },
  {
   "cell_type": "code",
   "execution_count": 9,
   "id": "9528db35",
   "metadata": {
    "cell_id": "00015-d3554273-2334-404d-bf64-ad204ac9d8b3",
    "deepnote_cell_type": "code",
    "deepnote_to_be_reexecuted": false,
    "execution_millis": 410,
    "execution_start": 1633939930220,
    "source_hash": "5be93304",
    "tags": []
   },
   "outputs": [
    {
     "name": "stdout",
     "output_type": "stream",
     "text": [
      "Size of repo.txt: (120867, 2)\n",
      "ID's of data.txt and repos.txt match: True\n",
      "No. of Repos with forking info: 38954\n"
     ]
    },
    {
     "data": {
      "text/html": [
       "<div>\n",
       "<style scoped>\n",
       "    .dataframe tbody tr th:only-of-type {\n",
       "        vertical-align: middle;\n",
       "    }\n",
       "\n",
       "    .dataframe tbody tr th {\n",
       "        vertical-align: top;\n",
       "    }\n",
       "\n",
       "    .dataframe thead th {\n",
       "        text-align: right;\n",
       "    }\n",
       "</style>\n",
       "<table border=\"1\" class=\"dataframe\">\n",
       "  <thead>\n",
       "    <tr style=\"text-align: right;\">\n",
       "      <th></th>\n",
       "      <th>repo_id</th>\n",
       "      <th>meta_info</th>\n",
       "    </tr>\n",
       "  </thead>\n",
       "  <tbody>\n",
       "    <tr>\n",
       "      <th>0</th>\n",
       "      <td>1</td>\n",
       "      <td>richardc/perl-number-compare,2009-02-26</td>\n",
       "    </tr>\n",
       "    <tr>\n",
       "      <th>1</th>\n",
       "      <td>2</td>\n",
       "      <td>axiomsoftware/axiom-inspector,2009-05-09</td>\n",
       "    </tr>\n",
       "    <tr>\n",
       "      <th>2</th>\n",
       "      <td>3</td>\n",
       "      <td>rails/open_id_authentication,2008-05-29</td>\n",
       "    </tr>\n",
       "    <tr>\n",
       "      <th>3</th>\n",
       "      <td>4</td>\n",
       "      <td>brandonkelly/bk.fieldframe.ee_addon,2009-01-31</td>\n",
       "    </tr>\n",
       "    <tr>\n",
       "      <th>4</th>\n",
       "      <td>5</td>\n",
       "      <td>skinofstars/boxfire,2009-01-31</td>\n",
       "    </tr>\n",
       "  </tbody>\n",
       "</table>\n",
       "</div>"
      ],
      "text/plain": [
       "   repo_id                                       meta_info\n",
       "0        1         richardc/perl-number-compare,2009-02-26\n",
       "1        2        axiomsoftware/axiom-inspector,2009-05-09\n",
       "2        3         rails/open_id_authentication,2008-05-29\n",
       "3        4  brandonkelly/bk.fieldframe.ee_addon,2009-01-31\n",
       "4        5                  skinofstars/boxfire,2009-01-31"
      ]
     },
     "execution_count": 9,
     "metadata": {},
     "output_type": "execute_result"
    }
   ],
   "source": [
    "print(f\"Size of repo.txt: {repos.shape}\")\n",
    "print(f\"ID's of data.txt and repos.txt match: {sum(np.unique(data['repo_id']) == np.unique(repos['repo_id'])) == 120867}\")\n",
    "print(f\"No. of Repos with forking info: {sum(repos['meta_info'].apply(lambda x: len(x.split(','))) == 3)}\")\n",
    "\n",
    "repos.head()"
   ]
  },
  {
   "cell_type": "markdown",
   "id": "915ef567",
   "metadata": {
    "cell_id": "00016-791b6bc2-f446-4171-a9a7-c6bddca22a5a",
    "deepnote_cell_type": "markdown",
    "tags": []
   },
   "source": [
    "### `lang.txt`\n",
    "\n",
    "The last dataset included is the language breakdown data.  This lists  only contains 73,496 repositories, for which the language data was available. Each line of this file lists the repository id, then a comma delimited list of \n",
    "`<lang>`;`<lines>` entries containing each major language found and the number\n",
    "of lines of code for that language in the project.  The data looks like this:"
   ]
  },
  {
   "cell_type": "code",
   "execution_count": 10,
   "id": "1c6681a6",
   "metadata": {
    "cell_id": "00017-7ce72ccc-d5b0-43b5-bf04-34e1cea31259",
    "deepnote_cell_type": "code",
    "deepnote_to_be_reexecuted": false,
    "execution_millis": 65,
    "execution_start": 1633939930612,
    "source_hash": "5868930",
    "tags": []
   },
   "outputs": [
    {
     "name": "stdout",
     "output_type": "stream",
     "text": [
      "Size of repo.txt: (73496, 2)\n"
     ]
    },
    {
     "data": {
      "text/html": [
       "<div>\n",
       "<style scoped>\n",
       "    .dataframe tbody tr th:only-of-type {\n",
       "        vertical-align: middle;\n",
       "    }\n",
       "\n",
       "    .dataframe tbody tr th {\n",
       "        vertical-align: top;\n",
       "    }\n",
       "\n",
       "    .dataframe thead th {\n",
       "        text-align: right;\n",
       "    }\n",
       "</style>\n",
       "<table border=\"1\" class=\"dataframe\">\n",
       "  <thead>\n",
       "    <tr style=\"text-align: right;\">\n",
       "      <th></th>\n",
       "      <th>repo_id</th>\n",
       "      <th>meta_info</th>\n",
       "    </tr>\n",
       "  </thead>\n",
       "  <tbody>\n",
       "    <tr>\n",
       "      <th>0</th>\n",
       "      <td>8213</td>\n",
       "      <td>JavaScript;802,Ruby;395056</td>\n",
       "    </tr>\n",
       "    <tr>\n",
       "      <th>1</th>\n",
       "      <td>24640</td>\n",
       "      <td>Shell;173,Java;2580,Groovy;26623,JavaScript;13...</td>\n",
       "    </tr>\n",
       "    <tr>\n",
       "      <th>2</th>\n",
       "      <td>41067</td>\n",
       "      <td>Ruby;52570</td>\n",
       "    </tr>\n",
       "    <tr>\n",
       "      <th>3</th>\n",
       "      <td>82135</td>\n",
       "      <td>Ruby;175049</td>\n",
       "    </tr>\n",
       "    <tr>\n",
       "      <th>4</th>\n",
       "      <td>16427</td>\n",
       "      <td>Perl;15008</td>\n",
       "    </tr>\n",
       "  </tbody>\n",
       "</table>\n",
       "</div>"
      ],
      "text/plain": [
       "   repo_id                                          meta_info\n",
       "0     8213                         JavaScript;802,Ruby;395056\n",
       "1    24640  Shell;173,Java;2580,Groovy;26623,JavaScript;13...\n",
       "2    41067                                         Ruby;52570\n",
       "3    82135                                        Ruby;175049\n",
       "4    16427                                         Perl;15008"
      ]
     },
     "execution_count": 10,
     "metadata": {},
     "output_type": "execute_result"
    }
   ],
   "source": [
    "print(f\"Size of repo.txt: {lang.shape}\")\n",
    "\n",
    "lang.head()"
   ]
  },
  {
   "cell_type": "markdown",
   "id": "96f6cf56",
   "metadata": {
    "cell_id": "00018-0eb44930-382c-46fa-ad1e-b79e26933056",
    "deepnote_cell_type": "markdown",
    "tags": []
   },
   "source": [
    "## #02 Transforming Data\n",
    "---\n",
    "\n",
    "The goal of this section is to get the following two files:\n",
    "- data.txt = edge list containing our bipartite network\n",
    "- metadata.json = json file containing metadata about each repository within our bipartite network"
   ]
  },
  {
   "cell_type": "markdown",
   "id": "0f57be55",
   "metadata": {
    "cell_id": "00006-43286825-c940-40cf-8f2d-4eb121e22cab",
    "deepnote_cell_type": "markdown"
   },
   "source": [
    "###  Adding Class to Nodes in Edge List \n",
    "\n",
    "In the edge list `data.txt` the edges connecting a node of type *User* (from now referred to as $U$) to a node of type *Repository* (from now referred to as $R$) cannot be differentiated on each row. (e.g. 1:1 -> we need to denote that one on the left belongs to user and the other 1 to repository) To read in the graph object correctly at a later point, we therefore add correct labeling into that dataframe by adding `u` to user ids and `r` to repo ids."
   ]
  },
  {
   "cell_type": "code",
   "execution_count": 11,
   "id": "9c9243e6",
   "metadata": {
    "cell_id": "00007-da5fbbdc-c809-498b-93a8-0b4fdccd65a0",
    "deepnote_cell_type": "code",
    "deepnote_to_be_reexecuted": false,
    "execution_millis": 0,
    "execution_start": 1633939930653,
    "source_hash": "664ecae9"
   },
   "outputs": [],
   "source": [
    "if TRANSFORM_DATA:\n",
    "    data[\"user_id\"] = data[\"user_id\"].apply(lambda x: \"u\" + str(x))\n",
    "    data[\"repo_id\"] = data[\"repo_id\"].apply(lambda x: \"r\" + str(x))"
   ]
  },
  {
   "cell_type": "markdown",
   "id": "812d9b75",
   "metadata": {
    "cell_id": "00008-237c3979-38e5-48ec-9e31-58d20b850517",
    "deepnote_cell_type": "markdown"
   },
   "source": [
    "### Create Metadata\n",
    "\n",
    "Here we combine `repos.txt` and `lang.txt` into one json file where keys are `repo ids` and values are corresponding `metadata`. Note that `repos.txt` should have info about all repos in our network, however `lang.txt` has only info about a subset of repos."
   ]
  },
  {
   "cell_type": "code",
   "execution_count": 12,
   "id": "2bf7e229",
   "metadata": {
    "cell_id": "00009-385e0618-75a4-475e-a7b1-e6239c11a736",
    "deepnote_cell_type": "code",
    "deepnote_to_be_reexecuted": false,
    "execution_millis": 484481,
    "execution_start": 1633939930653,
    "source_hash": "7d10674f"
   },
   "outputs": [],
   "source": [
    "if TRANSFORM_DATA:\n",
    "    # save repo metadata in dictionary\n",
    "    metadata = {}\n",
    "    repo_lang_mismatches = [] # Includes IDs of repos present in lang.txt but not in repos.txt\n",
    "\n",
    "    # save metadata from repos.txt\n",
    "    for i in range(len(repos)):\n",
    "        repo_id, meta_info = repos.iloc[i]\n",
    "\n",
    "        # parse the meta info\n",
    "        if len(meta_info.split(',')) == 2:\n",
    "            repo_name, creation_date, forked_from_id = meta_info.split(',') + [None]\n",
    "        else:\n",
    "            # you had None here at index 2 as well (not intended?)\n",
    "            repo_name, creation_date, forked_from_id = meta_info.split(',')\n",
    "\n",
    "        # save to dict\n",
    "        metadata[f\"r{repo_id}\"] = {\n",
    "            \"repo_name\": repo_name,\n",
    "            \"creation_date\": creation_date,\n",
    "            \"forked_from_id\": forked_from_id\n",
    "        }\n",
    "    \n",
    "    # save metadata from lang.txt\n",
    "    for i in range(len(lang)):\n",
    "        repo_id, lang_info = lang.iloc[i]\n",
    "       \n",
    "        # save it\n",
    "        if f\"r{repo_id}\" in metadata.keys():\n",
    "            metadata[f\"r{repo_id}\"][\"languages\"] = [l.split(';') for l in lang_info.split(',')]\n",
    "        \n",
    "        # It means that there is a repository in lang.txt which is not present in repos.txt\n",
    "        else:\n",
    "            repo_lang_mismatches.append(repo_id)"
   ]
  },
  {
   "cell_type": "markdown",
   "id": "5b5fb23b",
   "metadata": {
    "cell_id": "00011-10ebb5ab-5813-42c7-b666-8f2752632fb7",
    "deepnote_cell_type": "markdown"
   },
   "source": [
    "### Save Transformed Files\n",
    "\n",
    "For faster access later, the following code cell saves the transformed network data and meta data into the directory `data/transformed`. "
   ]
  },
  {
   "cell_type": "code",
   "execution_count": 13,
   "id": "e6c6e6c7",
   "metadata": {
    "cell_id": "00012-9e2349d8-fd1b-495b-bfdf-0d2b8455fca7",
    "deepnote_cell_type": "code",
    "deepnote_to_be_reexecuted": false,
    "execution_millis": 484482,
    "execution_start": 1633939930655,
    "source_hash": "382b4fa2"
   },
   "outputs": [],
   "source": [
    "if TRANSFORM_DATA:\n",
    "    # save edge list\n",
    "    data.to_csv(f\"{PATH_TO['data']['transformed']}/data.txt\", header=False, index=False)\n",
    "    \n",
    "    # Save mismatches\n",
    "    with open(f\"{PATH_TO['data']['transformed']}/mismatches.csv\", \"w\") as fp:\n",
    "        fp.write(\",\".join([str(repoid) for repoid in repo_lang_mismatches]))\n",
    "\n",
    "    # save metadata as json\n",
    "    with open(f\"{PATH_TO['data']['transformed']}/metadata.json\", \"w\") as fp:\n",
    "        json.dump(metadata, fp)"
   ]
  },
  {
   "cell_type": "markdown",
   "id": "048a4930",
   "metadata": {},
   "source": [
    "## #03 Network Cleaning\n",
    "---"
   ]
  },
  {
   "cell_type": "markdown",
   "id": "d6188563",
   "metadata": {},
   "source": [
    "### Solve problems with mismatches (repos.txt <> lang.txt)\n",
    "\n",
    "We start by double checking that indeed intersection of set of available repos and set of mismatch repos is empty"
   ]
  },
  {
   "cell_type": "code",
   "execution_count": 14,
   "id": "34c3b088",
   "metadata": {},
   "outputs": [
    {
     "data": {
      "text/plain": [
       "True"
      ]
     },
     "execution_count": 14,
     "metadata": {},
     "output_type": "execute_result"
    }
   ],
   "source": [
    "# Load mismatches = repos present in lang.txt but not in repos.txt\n",
    "with open(f\"{PATH_TO['data']['transformed']}/mismatches.csv\", \"r\") as fp:\n",
    "    mismatches = fp.readlines()[0].split(',')\n",
    "\n",
    "# Load all repos present\n",
    "repos = pd.read_csv(f\"{PATH_TO['data']['raw']}/repos.txt\", delimiter=\":\", names=[\"repo_id\", \"meta_info\"])\n",
    "\n",
    "# Double check that indeed intersection of set of available repos and set of mismatch repos is empty\n",
    "len(set(repos[\"repo_id\"]) & set(mismatches)) == 0"
   ]
  },
  {
   "cell_type": "markdown",
   "id": "b0322f7d",
   "metadata": {},
   "source": [
    "According to the description repos in `data.txt` should be all present within `repos.txt`. In other words, difference between these two sets should be an empty set. Let's check this."
   ]
  },
  {
   "cell_type": "code",
   "execution_count": 15,
   "id": "1e1073ca",
   "metadata": {},
   "outputs": [
    {
     "data": {
      "text/plain": [
       "True"
      ]
     },
     "execution_count": 15,
     "metadata": {},
     "output_type": "execute_result"
    }
   ],
   "source": [
    "# Load data from data.txt\n",
    "datatxt = pd.read_csv(f\"{PATH_TO['data']['raw']}/data.txt\", delimiter=\":\", names=[\"user_id\", \"repo_id\"])\n",
    "\n",
    "# Check the above mentioned assumption\n",
    "len(set(datatxt[\"repo_id\"]) - set(repos[\"repo_id\"])) == 0"
   ]
  },
  {
   "cell_type": "markdown",
   "id": "5b299bc8",
   "metadata": {},
   "source": [
    "Given the above two tests, we can safely conclude that mismatched **repos can be ignored.**\n",
    "\n",
    "### Solve problems nodes whose edges were randomly removed\n",
    "\n",
    "`Description of the problem:`\n",
    "\n",
    "I found out one important thing which we need to decide about. It is concerned with the stucture of our data. According to this website, the way the dataset was created was:\n",
    "- They retrieved all repo watches from their database (each edge then represents one watch in our network). Github was created back in 2008, therefore back then they “only” had around 0.5 million watches in db\n",
    "- From this set of watches, some of them were held back, i.e., removed from the dataset.\n",
    "- We were then provided a dataset of watches except from those that were withheld and from dataset called test.txt we know which users were impacted by this transformation. In other words, these users (roughly. 5000) have only a subset of their watches.\n",
    "- In total, there is around 56k users, and my question is to you what do we do with the 5k users about which we have incomplete information? (The reason why they withheld the watches is that the challenge of the contest was to predict these withheld watches…)\n",
    "\n",
    "`Proposed solution:`\n",
    "\n",
    "I think that it is reasonable to keep the affected users within the network and argue that we are working with a network which was adjusted by the approach described above, but most importantly, the above approach was random. In other words, the above approach for example did not focus on users which represent hubs. Another argument would be that this way, we do not lose information which we would have lost by dropping affected users."
   ]
  },
  {
   "cell_type": "markdown",
   "id": "719b8706",
   "metadata": {
    "cell_id": "00013-035fa351-f075-4cb1-a9ae-c9a1387d46f0",
    "deepnote_cell_type": "markdown"
   },
   "source": [
    "## #04 Summarise Pre-Processed Bi-Partite Network\n",
    "---\n",
    "\n",
    "After having transformed the raw data in a format that is easily usable to be loaded as a graph object, we load our graph. We are using `networkX` - the standard library in Python for representation, visualisation and computation on graphs. "
   ]
  },
  {
   "cell_type": "code",
   "execution_count": 16,
   "id": "0fbff484",
   "metadata": {
    "cell_id": "00014-8dc92a4c-3417-49a8-92f6-cbbbf2c35588",
    "deepnote_cell_type": "code",
    "deepnote_to_be_reexecuted": false,
    "execution_millis": 2153,
    "execution_start": 1633939930702,
    "source_hash": "810161b3"
   },
   "outputs": [],
   "source": [
    "# load graph\n",
    "G = nx.read_edgelist(f\"{PATH_TO['data']['transformed']}/data.txt\", delimiter=\",\", comments='#', create_using=nx.Graph)"
   ]
  },
  {
   "cell_type": "code",
   "execution_count": 17,
   "id": "4fec8d77",
   "metadata": {
    "cell_id": "00015-eb621fa4-d684-4259-a78f-1208ab2ba26d",
    "deepnote_cell_type": "code",
    "deepnote_to_be_reexecuted": false,
    "execution_millis": 997,
    "execution_start": 1633939932861,
    "source_hash": "5fc5b167"
   },
   "outputs": [],
   "source": [
    "# load metadata\n",
    "with open(f\"{PATH_TO['data']['transformed']}/metadata.json\", \"r\") as fp:\n",
    "    metadata = json.load(fp)\n",
    "\n",
    "# add metadata to graph nodes\n",
    "for repo_id, vals in metadata.items():\n",
    "    to_add = {repo_id: vals}\n",
    "    nx.set_node_attributes(G, to_add, \"metadata\")"
   ]
  },
  {
   "cell_type": "code",
   "execution_count": 18,
   "id": "4ea3c5f7",
   "metadata": {
    "cell_id": "00016-8356792f-9c49-4b17-9393-1f09256b5606",
    "deepnote_cell_type": "code",
    "deepnote_to_be_reexecuted": false,
    "execution_millis": 484353,
    "execution_start": 1633939933864,
    "source_hash": "30d7300e"
   },
   "outputs": [
    {
     "data": {
      "text/plain": [
       "{'repo_name': 'axiomsoftware/axiom-inspector',\n",
       " 'creation_date': '2009-05-09',\n",
       " 'forked_from_id': None,\n",
       " 'languages': [['JavaScript', '2940890']]}"
      ]
     },
     "execution_count": 18,
     "metadata": {},
     "output_type": "execute_result"
    }
   ],
   "source": [
    "# Show a random node's attributes\n",
    "G.nodes[\"r2\"][\"metadata\"]"
   ]
  },
  {
   "cell_type": "markdown",
   "id": "b4a989ed",
   "metadata": {
    "cell_id": "00032-c0476895-cf1a-4b70-8514-1e5b8b38344e",
    "deepnote_cell_type": "markdown",
    "tags": []
   },
   "source": [
    "### Fundamental information\n",
    "\n",
    "Below, you can find fundamental information about our bi-partite network."
   ]
  },
  {
   "cell_type": "code",
   "execution_count": 19,
   "id": "8809c958",
   "metadata": {
    "cell_id": "00019-68f32ce5-95f3-457e-b358-f64b0b6216c8",
    "deepnote_cell_type": "code",
    "deepnote_to_be_reexecuted": false,
    "execution_millis": 2270,
    "execution_start": 1633939933887,
    "source_hash": "db990c54"
   },
   "outputs": [
    {
     "data": {
      "text/html": [
       "<div>\n",
       "<style scoped>\n",
       "    .dataframe tbody tr th:only-of-type {\n",
       "        vertical-align: middle;\n",
       "    }\n",
       "\n",
       "    .dataframe tbody tr th {\n",
       "        vertical-align: top;\n",
       "    }\n",
       "\n",
       "    .dataframe thead th {\n",
       "        text-align: right;\n",
       "    }\n",
       "</style>\n",
       "<table border=\"1\" class=\"dataframe\">\n",
       "  <thead>\n",
       "    <tr style=\"text-align: right;\">\n",
       "      <th></th>\n",
       "      <th>name</th>\n",
       "      <th>is_bipartite</th>\n",
       "      <th>is_directed</th>\n",
       "      <th>is_weighted</th>\n",
       "      <th>selfloops_#</th>\n",
       "      <th>nodes_#</th>\n",
       "      <th>edges_#</th>\n",
       "      <th>density</th>\n",
       "      <th>number_of_repos</th>\n",
       "      <th>number_of_users</th>\n",
       "    </tr>\n",
       "  </thead>\n",
       "  <tbody>\n",
       "    <tr>\n",
       "      <th>0</th>\n",
       "      <td>Github contest 2009</td>\n",
       "      <td>True</td>\n",
       "      <td>False</td>\n",
       "      <td>False</td>\n",
       "      <td>0</td>\n",
       "      <td>177386</td>\n",
       "      <td>440237</td>\n",
       "      <td>0.000028</td>\n",
       "      <td>120867.0</td>\n",
       "      <td>56519.0</td>\n",
       "    </tr>\n",
       "  </tbody>\n",
       "</table>\n",
       "</div>"
      ],
      "text/plain": [
       "                  name is_bipartite is_directed is_weighted selfloops_#  \\\n",
       "0  Github contest 2009         True       False       False           0   \n",
       "\n",
       "  nodes_# edges_#   density  number_of_repos  number_of_users  \n",
       "0  177386  440237  0.000028         120867.0          56519.0  "
      ]
     },
     "execution_count": 19,
     "metadata": {},
     "output_type": "execute_result"
    }
   ],
   "source": [
    "# Store fundamental properties within pandas DF\n",
    "overview = pd.DataFrame(columns=[\"name\", \"is_bipartite\", \"is_directed\", \"is_weighted\", \"selfloops_#\", \"nodes_#\", \"edges_#\", \"density\"])\n",
    "\n",
    "# save important data to dict\n",
    "G_info = dict()\n",
    "\n",
    "# fundamental stats\n",
    "G_info[\"name\"] = \"Github contest 2009\"\n",
    "G_info[\"number_of_users\"] = len([node for node in G.nodes() if node[0] == 'u'])\n",
    "G_info[\"number_of_repos\"] = len([node for node in G.nodes() if node[0] == 'r'])\n",
    "G_info[\"is_directed\"] = nx.is_directed(G)\n",
    "G_info[\"is_weighted\"] = nx.is_weighted(G)\n",
    "G_info[\"selfloops_#\"] = nx.number_of_selfloops(G)\n",
    "G_info[\"nodes_#\"] = nx.number_of_nodes(G)\n",
    "G_info[\"edges_#\"] = nx.number_of_edges(G)\n",
    "G_info[\"density\"] = nx.density(G)\n",
    "G_info[\"is_bipartite\"] = bool(nx.is_bipartite(G))\n",
    "\n",
    "# add it do the overview\n",
    "overview = overview.append(G_info, ignore_index=True)\n",
    "overview"
   ]
  },
  {
   "cell_type": "markdown",
   "id": "311c05cc",
   "metadata": {
    "cell_id": "00036-39b21e1a-ea2b-4ef4-b205-572b9714d2c8",
    "deepnote_cell_type": "markdown",
    "tags": []
   },
   "source": [
    "### Top 10 repositories\n",
    "\n",
    "Below, we show 10 most popular repositories. Here are the interesting insights:\n",
    "- Each repository is written in Ruby, it is also the leading language in terms number of lines of code\n",
    "- The above perhaps corresponds to the fact that the top repository is rails which is a framework for web development for Ruby developers. Here is a relevant [article](https://syndicode.com/blog/why-is-ruby-still-our-choice-in-2020-2/) about Ruby popularity over time.\n",
    "- In addition, Github is developed using Ruby on Rails, perhaps that is where the popularity comes from. According to [this](https://gitstar-ranking.com/rails) site, Rails ranks 65th as of today.\n",
    "- Looking at other repositories, we can see that they correspond to web-development, e.g. authlogic or cucumber (platform for testing)\n",
    "- *(feel free to add more here)*"
   ]
  },
  {
   "cell_type": "code",
   "execution_count": 20,
   "id": "8edc53c8",
   "metadata": {
    "cell_id": "00037-a4f41736-2948-48ac-874c-cd388e1ab01b",
    "deepnote_cell_type": "code",
    "deepnote_to_be_reexecuted": false,
    "execution_millis": 732,
    "execution_start": 1633939936204,
    "source_hash": "72461587",
    "tags": []
   },
   "outputs": [
    {
     "data": {
      "text/html": [
       "<div>\n",
       "<style scoped>\n",
       "    .dataframe tbody tr th:only-of-type {\n",
       "        vertical-align: middle;\n",
       "    }\n",
       "\n",
       "    .dataframe tbody tr th {\n",
       "        vertical-align: top;\n",
       "    }\n",
       "\n",
       "    .dataframe thead th {\n",
       "        text-align: right;\n",
       "    }\n",
       "</style>\n",
       "<table border=\"1\" class=\"dataframe\">\n",
       "  <thead>\n",
       "    <tr style=\"text-align: right;\">\n",
       "      <th></th>\n",
       "      <th>id</th>\n",
       "      <th>name</th>\n",
       "      <th>degree</th>\n",
       "      <th>technology_stack</th>\n",
       "    </tr>\n",
       "  </thead>\n",
       "  <tbody>\n",
       "    <tr>\n",
       "      <th>0</th>\n",
       "      <td>r17</td>\n",
       "      <td>rails/rails</td>\n",
       "      <td>3675</td>\n",
       "      <td>[[JavaScript, 2438], [Ruby, 5423161]]</td>\n",
       "    </tr>\n",
       "    <tr>\n",
       "      <th>1</th>\n",
       "      <td>r302</td>\n",
       "      <td>technoweenie/restful-authentication</td>\n",
       "      <td>1929</td>\n",
       "      <td>[[Ruby, 140923]]</td>\n",
       "    </tr>\n",
       "    <tr>\n",
       "      <th>2</th>\n",
       "      <td>r654</td>\n",
       "      <td>mislav/will_paginate</td>\n",
       "      <td>1611</td>\n",
       "      <td>[[Ruby, 90684]]</td>\n",
       "    </tr>\n",
       "    <tr>\n",
       "      <th>3</th>\n",
       "      <td>r76</td>\n",
       "      <td>joshuaclayton/blueprint-css</td>\n",
       "      <td>1565</td>\n",
       "      <td>[[Ruby, 32998]]</td>\n",
       "    </tr>\n",
       "    <tr>\n",
       "      <th>4</th>\n",
       "      <td>r616</td>\n",
       "      <td>binarylogic/authlogic</td>\n",
       "      <td>1438</td>\n",
       "      <td>[[Ruby, 236385]]</td>\n",
       "    </tr>\n",
       "    <tr>\n",
       "      <th>5</th>\n",
       "      <td>r58</td>\n",
       "      <td>thoughtbot/paperclip</td>\n",
       "      <td>1362</td>\n",
       "      <td>[[Ruby, 153462]]</td>\n",
       "    </tr>\n",
       "    <tr>\n",
       "      <th>6</th>\n",
       "      <td>r8</td>\n",
       "      <td>aslakhellesoy/cucumber</td>\n",
       "      <td>1159</td>\n",
       "      <td>[[C Sharp, 339], [Java, 355], [Ruby, 319537]]</td>\n",
       "    </tr>\n",
       "    <tr>\n",
       "      <th>7</th>\n",
       "      <td>r866</td>\n",
       "      <td>madrobby/scriptaculous</td>\n",
       "      <td>1136</td>\n",
       "      <td>[[Ruby, 3893], [JavaScript, 40316]]</td>\n",
       "    </tr>\n",
       "    <tr>\n",
       "      <th>8</th>\n",
       "      <td>r84</td>\n",
       "      <td>dchelimsky/rspec</td>\n",
       "      <td>1100</td>\n",
       "      <td>[[Ruby, 726592]]</td>\n",
       "    </tr>\n",
       "    <tr>\n",
       "      <th>9</th>\n",
       "      <td>r29</td>\n",
       "      <td>technoweenie/attachment_fu</td>\n",
       "      <td>1006</td>\n",
       "      <td>[[Ruby, 132960]]</td>\n",
       "    </tr>\n",
       "  </tbody>\n",
       "</table>\n",
       "</div>"
      ],
      "text/plain": [
       "     id                                 name  degree  \\\n",
       "0   r17                          rails/rails    3675   \n",
       "1  r302  technoweenie/restful-authentication    1929   \n",
       "2  r654                 mislav/will_paginate    1611   \n",
       "3   r76          joshuaclayton/blueprint-css    1565   \n",
       "4  r616                binarylogic/authlogic    1438   \n",
       "5   r58                 thoughtbot/paperclip    1362   \n",
       "6    r8               aslakhellesoy/cucumber    1159   \n",
       "7  r866               madrobby/scriptaculous    1136   \n",
       "8   r84                     dchelimsky/rspec    1100   \n",
       "9   r29           technoweenie/attachment_fu    1006   \n",
       "\n",
       "                                technology_stack  \n",
       "0          [[JavaScript, 2438], [Ruby, 5423161]]  \n",
       "1                               [[Ruby, 140923]]  \n",
       "2                                [[Ruby, 90684]]  \n",
       "3                                [[Ruby, 32998]]  \n",
       "4                               [[Ruby, 236385]]  \n",
       "5                               [[Ruby, 153462]]  \n",
       "6  [[C Sharp, 339], [Java, 355], [Ruby, 319537]]  \n",
       "7            [[Ruby, 3893], [JavaScript, 40316]]  \n",
       "8                               [[Ruby, 726592]]  \n",
       "9                               [[Ruby, 132960]]  "
      ]
     },
     "execution_count": 20,
     "metadata": {},
     "output_type": "execute_result"
    }
   ],
   "source": [
    "repos_degree = sorted([(repo, G.degree(repo)) for repo in G.nodes() if repo[0] == 'r'], key=lambda x: x[1], reverse=True)[:10]\n",
    "repo_info = {\n",
    "    \"id\": [repo_tuple[0] for repo_tuple in repos_degree],\n",
    "    \"name\": [G.nodes[repo_tuple[0]][\"metadata\"][\"repo_name\"] for repo_tuple in repos_degree],\n",
    "    \"degree\": [repo_tuple[1] for repo_tuple in repos_degree],\n",
    "    \"technology_stack\": [G.nodes[repo_tuple[0]][\"metadata\"][\"languages\"] for repo_tuple in repos_degree]\n",
    "}\n",
    "top_10_repos = pd.DataFrame(repo_info)\n",
    "top_10_repos"
   ]
  },
  {
   "cell_type": "markdown",
   "id": "193b4878",
   "metadata": {},
   "source": [
    "### Most used programming languages\n",
    "\n",
    "Below, we can see most used programming languages in terms of package development. Here are the notes/thoughts about the below result:\n",
    "- we should be aware that this metric can be easily skewed by outliers, i.e., you can have one large repository which will contribute a lot\n",
    "\n",
    "- C, Ruby, C++ as top 3 languages is not a surprise since nowadays C is still one of the most popular programming languages, with regards to Ruby, see the above section\n",
    "- *(feel free to add more)*"
   ]
  },
  {
   "cell_type": "code",
   "execution_count": 21,
   "id": "734496a9",
   "metadata": {},
   "outputs": [],
   "source": [
    "# Save the usage in dict such that: key is repo_name and value is number of lines of code\n",
    "lang_usage = dict()\n",
    "\n",
    "# Fill lang_usage\n",
    "for info in metadata.values():\n",
    "    if \"languages\" in info:\n",
    "        for lang_info in info[\"languages\"]:\n",
    "            lang_name, n_lines = lang_info\n",
    "            if lang_name in lang_usage:\n",
    "                lang_usage[lang_name] += int(n_lines)\n",
    "            else:\n",
    "                lang_usage[lang_name] = int(n_lines)"
   ]
  },
  {
   "cell_type": "code",
   "execution_count": 22,
   "id": "85c6cd46",
   "metadata": {},
   "outputs": [],
   "source": [
    "# Prepare the data for plotting\n",
    "# * First fit it to the pd dataframe\n",
    "langs = np.array(list(lang_usage.keys())).reshape(-1, 1)\n",
    "n_lines = np.array(list(lang_usage.values()), dtype=int).reshape(-1, 1)\n",
    "df_lang_usage = pd.DataFrame(np.concatenate((langs, n_lines), axis=1), columns = [\"Lang\", \"# of lines\"])\n",
    "df_lang_usage['# of lines'] = df_lang_usage['# of lines'].astype('int64')\n",
    "\n",
    "# * Second sorted by # of lines in descending order (largest first)\n",
    "sorteddf = df_lang_usage.sort_values([\"# of lines\"], axis = 0, ascending=False)"
   ]
  },
  {
   "cell_type": "code",
   "execution_count": 23,
   "id": "6ca5e0a4",
   "metadata": {},
   "outputs": [
    {
     "data": {
      "image/png": "[encoded data removed]",
      "text/plain": [
       "<Figure size 504x432 with 1 Axes>"
      ]
     },
     "metadata": {},
     "output_type": "display_data"
    }
   ],
   "source": [
    "# Setup figure so you can plot inside it\n",
    "fig = plt.figure(figsize=(7, 6)) # create figure object with a (width,height)\n",
    "ax = fig.add_axes([0.1,0.2,0.8, 0.7]) # left, bottom, width, height (range 0 to 1)\n",
    "\n",
    "# Plot the data\n",
    "sns_plot = sns.barplot(x=\"Lang\", y=\"# of lines\", data=sorteddf[:10], ax=ax, palette=\"rocket\");\n",
    "ax.tick_params(axis='x', rotation=90);\n",
    "\n",
    "# Add axis labels\n",
    "ax.set_ylabel('Number of lines of code');\n",
    "ax.set_title(\"Most used programming languages\", weight=\"bold\");\n",
    "\n",
    "# Save plot\n",
    "if SAVE_FIG:\n",
    "    plt.savefig(f\"{PATH_TO['data']['figures']}/most_used_lang.jpg\")"
   ]
  },
  {
   "cell_type": "markdown",
   "id": "416aacb3",
   "metadata": {
    "cell_id": "00036-3d1e473c-b254-45c0-bf0c-3f7a83fbf19f",
    "deepnote_cell_type": "markdown",
    "tags": []
   },
   "source": [
    "### Degree distribution\n",
    "\n",
    "*Disclaimer: The code for this section is adapted from [this source](https://www.networkatlas.eu/exercise.htm?c=6&e=4).*\n",
    "\n",
    "Start with creating a dataframe where one column represents possible degree of nodes, and the other count of nodes which have such degree. In addition, sort it. Do this for both type of nodes.\n",
    "\n",
    "#### Get df for repos"
   ]
  },
  {
   "cell_type": "code",
   "execution_count": 24,
   "id": "bd33c4b9",
   "metadata": {},
   "outputs": [
    {
     "data": {
      "text/html": [
       "<div>\n",
       "<style scoped>\n",
       "    .dataframe tbody tr th:only-of-type {\n",
       "        vertical-align: middle;\n",
       "    }\n",
       "\n",
       "    .dataframe tbody tr th {\n",
       "        vertical-align: top;\n",
       "    }\n",
       "\n",
       "    .dataframe thead th {\n",
       "        text-align: right;\n",
       "    }\n",
       "</style>\n",
       "<table border=\"1\" class=\"dataframe\">\n",
       "  <thead>\n",
       "    <tr style=\"text-align: right;\">\n",
       "      <th></th>\n",
       "      <th>k</th>\n",
       "      <th>count</th>\n",
       "    </tr>\n",
       "  </thead>\n",
       "  <tbody>\n",
       "    <tr>\n",
       "      <th>0</th>\n",
       "      <td>1</td>\n",
       "      <td>83030</td>\n",
       "    </tr>\n",
       "    <tr>\n",
       "      <th>20</th>\n",
       "      <td>2</td>\n",
       "      <td>16108</td>\n",
       "    </tr>\n",
       "    <tr>\n",
       "      <th>15</th>\n",
       "      <td>3</td>\n",
       "      <td>6475</td>\n",
       "    </tr>\n",
       "    <tr>\n",
       "      <th>1</th>\n",
       "      <td>4</td>\n",
       "      <td>3494</td>\n",
       "    </tr>\n",
       "    <tr>\n",
       "      <th>5</th>\n",
       "      <td>5</td>\n",
       "      <td>2199</td>\n",
       "    </tr>\n",
       "  </tbody>\n",
       "</table>\n",
       "</div>"
      ],
      "text/plain": [
       "    k  count\n",
       "0   1  83030\n",
       "20  2  16108\n",
       "15  3   6475\n",
       "1   4   3494\n",
       "5   5   2199"
      ]
     },
     "execution_count": 24,
     "metadata": {},
     "output_type": "execute_result"
    }
   ],
   "source": [
    "repos_degree = [G.degree(n) for n in G.nodes() if n[0] == 'r']\n",
    "dd_repos = Counter(repos_degree)\n",
    "dd_repos = pd.DataFrame(list(dd_repos.items()), columns = (\"k\", \"count\")).sort_values(by = \"k\")\n",
    "dd_repos.head()"
   ]
  },
  {
   "cell_type": "markdown",
   "id": "67a62745",
   "metadata": {},
   "source": [
    "#### Get df for users"
   ]
  },
  {
   "cell_type": "code",
   "execution_count": 25,
   "id": "8664270d",
   "metadata": {},
   "outputs": [
    {
     "data": {
      "text/html": [
       "<div>\n",
       "<style scoped>\n",
       "    .dataframe tbody tr th:only-of-type {\n",
       "        vertical-align: middle;\n",
       "    }\n",
       "\n",
       "    .dataframe tbody tr th {\n",
       "        vertical-align: top;\n",
       "    }\n",
       "\n",
       "    .dataframe thead th {\n",
       "        text-align: right;\n",
       "    }\n",
       "</style>\n",
       "<table border=\"1\" class=\"dataframe\">\n",
       "  <thead>\n",
       "    <tr style=\"text-align: right;\">\n",
       "      <th></th>\n",
       "      <th>k</th>\n",
       "      <th>count</th>\n",
       "    </tr>\n",
       "  </thead>\n",
       "  <tbody>\n",
       "    <tr>\n",
       "      <th>8</th>\n",
       "      <td>1</td>\n",
       "      <td>23400</td>\n",
       "    </tr>\n",
       "    <tr>\n",
       "      <th>4</th>\n",
       "      <td>2</td>\n",
       "      <td>10369</td>\n",
       "    </tr>\n",
       "    <tr>\n",
       "      <th>22</th>\n",
       "      <td>3</td>\n",
       "      <td>4070</td>\n",
       "    </tr>\n",
       "    <tr>\n",
       "      <th>30</th>\n",
       "      <td>4</td>\n",
       "      <td>2750</td>\n",
       "    </tr>\n",
       "    <tr>\n",
       "      <th>90</th>\n",
       "      <td>5</td>\n",
       "      <td>1918</td>\n",
       "    </tr>\n",
       "  </tbody>\n",
       "</table>\n",
       "</div>"
      ],
      "text/plain": [
       "    k  count\n",
       "8   1  23400\n",
       "4   2  10369\n",
       "22  3   4070\n",
       "30  4   2750\n",
       "90  5   1918"
      ]
     },
     "execution_count": 25,
     "metadata": {},
     "output_type": "execute_result"
    }
   ],
   "source": [
    "user_degree = [G.degree(n) for n in G.nodes() if n[0] == 'u']\n",
    "dd_user = Counter(user_degree)\n",
    "dd_user = pd.DataFrame(list(dd_user.items()), columns = (\"k\", \"count\")).sort_values(by = \"k\")\n",
    "dd_user.head()"
   ]
  },
  {
   "cell_type": "markdown",
   "id": "6f4d896a",
   "metadata": {},
   "source": [
    "#### Visualize degree distribution (in terms of count) for both node types"
   ]
  },
  {
   "cell_type": "code",
   "execution_count": 26,
   "id": "76b1ace7",
   "metadata": {},
   "outputs": [
    {
     "data": {
      "image/png": "[encoded data removed]",
      "text/plain": [
       "<Figure size 720x360 with 2 Axes>"
      ]
     },
     "metadata": {},
     "output_type": "display_data"
    }
   ],
   "source": [
    "# Define axs and figure\n",
    "fig, axs = plt.subplots(1, 2, figsize=(10, 5))\n",
    "plt.subplots_adjust(wspace=.3)\n",
    "\n",
    "# Plot the data\n",
    "for ax, data, which_category in zip(axs, [dd_repos, dd_user], [\"repositories\", \"users\"]):\n",
    "    sns.scatterplot(data=data, x=\"k\", y=\"count\", ax=ax, alpha=0.4)\n",
    "    ax.set_title(f\"Degree distribution for\\n{which_category} in terms of k\", weight = \"bold\")\n",
    "\n",
    "# Save the plot\n",
    "if SAVE_FIG:\n",
    "    plt.savefig(f\"{PATH_TO['data']['figures']}/dd_bipartite_count.jpg\")"
   ]
  },
  {
   "cell_type": "markdown",
   "id": "1d8073a5",
   "metadata": {},
   "source": [
    "#### Visualize degree distribution (in terms of count) on log-log scale for both node types"
   ]
  },
  {
   "cell_type": "code",
   "execution_count": 27,
   "id": "54e693cd",
   "metadata": {},
   "outputs": [
    {
     "data": {
      "image/png": "[encoded data removed]",
      "text/plain": [
       "<Figure size 720x360 with 2 Axes>"
      ]
     },
     "metadata": {},
     "output_type": "display_data"
    }
   ],
   "source": [
    "# Define axs and figure\n",
    "fig, axs = plt.subplots(1, 2, figsize=(10, 5))\n",
    "plt.subplots_adjust(wspace=.3)\n",
    "\n",
    "# Plot the data\n",
    "for ax, data, which_category in zip(axs, [dd_repos, dd_user], [\"repositories\", \"users\"]):\n",
    "    sns.scatterplot(data=data, x=\"k\", y=\"count\", ax=ax, alpha=0.4)\n",
    "    ax.set_title(f\"Degree distribution for\\n{which_category} in terms of k\", weight = \"bold\")\n",
    "    ax.set_xscale('log')\n",
    "    ax.set_yscale('log')\n",
    "\n",
    "# Save the plot\n",
    "if SAVE_FIG:\n",
    "    plt.savefig(f\"{PATH_TO['data']['figures']}/dd_bipartite_count_loglog.jpg\")"
   ]
  },
  {
   "cell_type": "markdown",
   "id": "d9de1fcd",
   "metadata": {},
   "source": [
    "#### Get CCDF dataframe for repos"
   ]
  },
  {
   "cell_type": "code",
   "execution_count": 28,
   "id": "dd25b3b2",
   "metadata": {},
   "outputs": [
    {
     "data": {
      "text/html": [
       "<div>\n",
       "<style scoped>\n",
       "    .dataframe tbody tr th:only-of-type {\n",
       "        vertical-align: middle;\n",
       "    }\n",
       "\n",
       "    .dataframe tbody tr th {\n",
       "        vertical-align: top;\n",
       "    }\n",
       "\n",
       "    .dataframe thead th {\n",
       "        text-align: right;\n",
       "    }\n",
       "</style>\n",
       "<table border=\"1\" class=\"dataframe\">\n",
       "  <thead>\n",
       "    <tr style=\"text-align: right;\">\n",
       "      <th></th>\n",
       "      <th>k</th>\n",
       "      <th>ccdf</th>\n",
       "    </tr>\n",
       "  </thead>\n",
       "  <tbody>\n",
       "    <tr>\n",
       "      <th>0</th>\n",
       "      <td>1</td>\n",
       "      <td>1.000000</td>\n",
       "    </tr>\n",
       "    <tr>\n",
       "      <th>20</th>\n",
       "      <td>2</td>\n",
       "      <td>0.313047</td>\n",
       "    </tr>\n",
       "    <tr>\n",
       "      <th>15</th>\n",
       "      <td>3</td>\n",
       "      <td>0.179776</td>\n",
       "    </tr>\n",
       "    <tr>\n",
       "      <th>1</th>\n",
       "      <td>4</td>\n",
       "      <td>0.126205</td>\n",
       "    </tr>\n",
       "    <tr>\n",
       "      <th>5</th>\n",
       "      <td>5</td>\n",
       "      <td>0.097297</td>\n",
       "    </tr>\n",
       "  </tbody>\n",
       "</table>\n",
       "</div>"
      ],
      "text/plain": [
       "    k      ccdf\n",
       "0   1  1.000000\n",
       "20  2  0.313047\n",
       "15  3  0.179776\n",
       "1   4  0.126205\n",
       "5   5  0.097297"
      ]
     },
     "execution_count": 28,
     "metadata": {},
     "output_type": "execute_result"
    }
   ],
   "source": [
    "ccdf_repos = dd_repos.sort_values(by = \"k\", ascending = False)\n",
    "ccdf_repos[\"cumsum\"] = ccdf_repos[\"count\"].cumsum()\n",
    "ccdf_repos[\"ccdf\"] = ccdf_repos[\"cumsum\"] / ccdf_repos[\"count\"].sum()\n",
    "ccdf_repos = ccdf_repos[[\"k\", \"ccdf\"]].sort_values(by = \"k\")\n",
    "ccdf_repos.head()"
   ]
  },
  {
   "cell_type": "markdown",
   "id": "47dadb6d",
   "metadata": {},
   "source": [
    "#### Get CCDF dataframe for users"
   ]
  },
  {
   "cell_type": "code",
   "execution_count": 29,
   "id": "a36d57ae",
   "metadata": {},
   "outputs": [
    {
     "data": {
      "text/html": [
       "<div>\n",
       "<style scoped>\n",
       "    .dataframe tbody tr th:only-of-type {\n",
       "        vertical-align: middle;\n",
       "    }\n",
       "\n",
       "    .dataframe tbody tr th {\n",
       "        vertical-align: top;\n",
       "    }\n",
       "\n",
       "    .dataframe thead th {\n",
       "        text-align: right;\n",
       "    }\n",
       "</style>\n",
       "<table border=\"1\" class=\"dataframe\">\n",
       "  <thead>\n",
       "    <tr style=\"text-align: right;\">\n",
       "      <th></th>\n",
       "      <th>k</th>\n",
       "      <th>ccdf</th>\n",
       "    </tr>\n",
       "  </thead>\n",
       "  <tbody>\n",
       "    <tr>\n",
       "      <th>8</th>\n",
       "      <td>1</td>\n",
       "      <td>1.000000</td>\n",
       "    </tr>\n",
       "    <tr>\n",
       "      <th>4</th>\n",
       "      <td>2</td>\n",
       "      <td>0.585980</td>\n",
       "    </tr>\n",
       "    <tr>\n",
       "      <th>22</th>\n",
       "      <td>3</td>\n",
       "      <td>0.402520</td>\n",
       "    </tr>\n",
       "    <tr>\n",
       "      <th>30</th>\n",
       "      <td>4</td>\n",
       "      <td>0.330508</td>\n",
       "    </tr>\n",
       "    <tr>\n",
       "      <th>90</th>\n",
       "      <td>5</td>\n",
       "      <td>0.281852</td>\n",
       "    </tr>\n",
       "  </tbody>\n",
       "</table>\n",
       "</div>"
      ],
      "text/plain": [
       "    k      ccdf\n",
       "8   1  1.000000\n",
       "4   2  0.585980\n",
       "22  3  0.402520\n",
       "30  4  0.330508\n",
       "90  5  0.281852"
      ]
     },
     "execution_count": 29,
     "metadata": {},
     "output_type": "execute_result"
    }
   ],
   "source": [
    "ccdf_users = dd_user.sort_values(by = \"k\", ascending = False)\n",
    "ccdf_users[\"cumsum\"] = ccdf_users[\"count\"].cumsum()\n",
    "ccdf_users[\"ccdf\"] = ccdf_users[\"cumsum\"] / ccdf_users[\"count\"].sum()\n",
    "ccdf_users = ccdf_users[[\"k\", \"ccdf\"]].sort_values(by = \"k\")\n",
    "ccdf_users.head()"
   ]
  },
  {
   "cell_type": "markdown",
   "id": "6a11b7f5",
   "metadata": {},
   "source": [
    "#### Visualize CCDF for both node types on a log-log scale"
   ]
  },
  {
   "cell_type": "code",
   "execution_count": 30,
   "id": "b55d56b9",
   "metadata": {},
   "outputs": [
    {
     "data": {
      "image/png": "[encoded data removed]",
      "text/plain": [
       "<Figure size 720x360 with 2 Axes>"
      ]
     },
     "metadata": {},
     "output_type": "display_data"
    }
   ],
   "source": [
    "# Define axs and figure\n",
    "fig, axs = plt.subplots(1, 2, figsize=(10, 5))\n",
    "plt.subplots_adjust(wspace=.3)\n",
    "\n",
    "# Plot the data\n",
    "for ax, data, which_category in zip(axs, [ccdf_repos, ccdf_users], [\"repositories\", \"users\"]):\n",
    "    sns.lineplot(data=data, x=\"k\", y=\"ccdf\", ax=ax)\n",
    "    ax.set_title(f\"CCDF for {which_category}\", weight = \"bold\")\n",
    "    ax.set_xscale('log')\n",
    "    ax.set_yscale('log')\n",
    "\n",
    "# Save the plot\n",
    "if SAVE_FIG:\n",
    "    plt.savefig(f\"{PATH_TO['data']['figures']}/dd_bipartite_ccdf_loglog.jpg\")"
   ]
  },
  {
   "cell_type": "markdown",
   "id": "c2072556",
   "metadata": {
    "cell_id": "00038-1fd838d9-9510-4d37-ae0d-f79d6b1ab5ea",
    "deepnote_cell_type": "markdown",
    "tags": []
   },
   "source": [
    "### Power law fit\n",
    "\n",
    "*Disclaimer: The code for this section is adapted from [this source](https://www.networkatlas.eu/exercise.htm?c=6&e=5).*\n",
    "\n",
    "*(Need to go over this section and write comments regards to the intepretation)*"
   ]
  },
  {
   "cell_type": "markdown",
   "id": "6538c11c",
   "metadata": {},
   "source": [
    "#### Compute power law fit for repositories"
   ]
  },
  {
   "cell_type": "code",
   "execution_count": 31,
   "id": "5f8fff9f",
   "metadata": {
    "cell_id": "00039-9595dd92-59ef-4bd6-a029-f1835de01a8d",
    "deepnote_cell_type": "code",
    "deepnote_to_be_reexecuted": false,
    "execution_millis": 475,
    "execution_start": 1633939939547,
    "source_hash": "3f80c4de",
    "tags": []
   },
   "outputs": [
    {
     "name": "stdout",
     "output_type": "stream",
     "text": [
      "Calculating best minimal value for power law fit\n",
      "xmin progress: 00%\r",
      "xmin progress: 00%\r",
      "xmin progress: 00%\r",
      "xmin progress: 00%\r",
      "xmin progress: 01%\r",
      "xmin progress: 01%\r",
      "xmin progress: 01%\r",
      "xmin progress: 02%\r",
      "xmin progress: 02%\r",
      "xmin progress: 02%\r",
      "xmin progress: 02%\r",
      "xmin progress: 03%\r",
      "xmin progress: 03%\r",
      "xmin progress: 03%\r",
      "xmin progress: 04%\r",
      "xmin progress: 04%\r",
      "xmin progress: 04%\r",
      "xmin progress: 05%\r",
      "xmin progress: 05%\r",
      "xmin progress: 05%\r",
      "xmin progress: 05%\r",
      "xmin progress: 06%\r",
      "xmin progress: 06%\r",
      "xmin progress: 06%\r",
      "xmin progress: 07%\r",
      "xmin progress: 07%\r",
      "xmin progress: 07%\r",
      "xmin progress: 07%\r",
      "xmin progress: 08%\r",
      "xmin progress: 08%\r",
      "xmin progress: 08%\r",
      "xmin progress: 09%\r",
      "xmin progress: 09%\r",
      "xmin progress: 09%\r",
      "xmin progress: 10%\r",
      "xmin progress: 10%\r",
      "xmin progress: 10%\r",
      "xmin progress: 10%\r",
      "xmin progress: 11%\r",
      "xmin progress: 11%\r",
      "xmin progress: 11%\r",
      "xmin progress: 12%\r",
      "xmin progress: 12%\r",
      "xmin progress: 12%\r",
      "xmin progress: 12%\r",
      "xmin progress: 13%\r",
      "xmin progress: 13%\r",
      "xmin progress: 13%\r",
      "xmin progress: 14%\r",
      "xmin progress: 14%\r",
      "xmin progress: 14%\r",
      "xmin progress: 15%\r",
      "xmin progress: 15%\r",
      "xmin progress: 15%\r",
      "xmin progress: 15%\r",
      "xmin progress: 16%\r",
      "xmin progress: 16%\r",
      "xmin progress: 16%\r",
      "xmin progress: 17%\r",
      "xmin progress: 17%\r",
      "xmin progress: 17%\r",
      "xmin progress: 17%\r",
      "xmin progress: 18%\r",
      "xmin progress: 18%\r",
      "xmin progress: 18%\r",
      "xmin progress: 19%\r",
      "xmin progress: 19%\r",
      "xmin progress: 19%\r",
      "xmin progress: 20%\r",
      "xmin progress: 20%\r",
      "xmin progress: 20%\r",
      "xmin progress: 20%\r",
      "xmin progress: 21%\r",
      "xmin progress: 21%\r",
      "xmin progress: 21%\r",
      "xmin progress: 22%\r",
      "xmin progress: 22%\r",
      "xmin progress: 22%\r",
      "xmin progress: 23%\r",
      "xmin progress: 23%\r",
      "xmin progress: 23%\r",
      "xmin progress: 23%\r",
      "xmin progress: 24%\r",
      "xmin progress: 24%\r",
      "xmin progress: 24%\r",
      "xmin progress: 25%\r",
      "xmin progress: 25%\r",
      "xmin progress: 25%\r",
      "xmin progress: 25%\r",
      "xmin progress: 26%\r",
      "xmin progress: 26%\r",
      "xmin progress: 26%\r",
      "xmin progress: 27%\r",
      "xmin progress: 27%\r",
      "xmin progress: 27%\r",
      "xmin progress: 28%\r",
      "xmin progress: 28%\r",
      "xmin progress: 28%\r",
      "xmin progress: 28%\r",
      "xmin progress: 29%\r",
      "xmin progress: 29%\r",
      "xmin progress: 29%\r",
      "xmin progress: 30%\r",
      "xmin progress: 30%\r",
      "xmin progress: 30%\r",
      "xmin progress: 30%\r",
      "xmin progress: 31%\r",
      "xmin progress: 31%\r",
      "xmin progress: 31%\r",
      "xmin progress: 32%\r",
      "xmin progress: 32%\r",
      "xmin progress: 32%\r",
      "xmin progress: 33%\r",
      "xmin progress: 33%\r",
      "xmin progress: 33%\r",
      "xmin progress: 33%\r",
      "xmin progress: 34%\r",
      "xmin progress: 34%\r",
      "xmin progress: 34%\r",
      "xmin progress: 35%\r",
      "xmin progress: 35%\r",
      "xmin progress: 35%\r",
      "xmin progress: 35%\r",
      "xmin progress: 36%\r",
      "xmin progress: 36%\r",
      "xmin progress: 36%\r",
      "xmin progress: 37%\r",
      "xmin progress: 37%\r",
      "xmin progress: 37%\r",
      "xmin progress: 38%\r",
      "xmin progress: 38%\r",
      "xmin progress: 38%\r",
      "xmin progress: 38%\r",
      "xmin progress: 39%\r",
      "xmin progress: 39%\r",
      "xmin progress: 39%\r",
      "xmin progress: 40%\r",
      "xmin progress: 40%\r",
      "xmin progress: 40%\r",
      "xmin progress: 41%\r",
      "xmin progress: 41%\r",
      "xmin progress: 41%\r",
      "xmin progress: 41%\r",
      "xmin progress: 42%\r",
      "xmin progress: 42%\r",
      "xmin progress: 42%\r",
      "xmin progress: 43%\r",
      "xmin progress: 43%\r",
      "xmin progress: 43%\r",
      "xmin progress: 43%\r",
      "xmin progress: 44%\r",
      "xmin progress: 44%\r",
      "xmin progress: 44%\r",
      "xmin progress: 45%\r",
      "xmin progress: 45%\r",
      "xmin progress: 45%\r",
      "xmin progress: 46%\r",
      "xmin progress: 46%\r",
      "xmin progress: 46%\r",
      "xmin progress: 46%\r",
      "xmin progress: 47%\r",
      "xmin progress: 47%\r",
      "xmin progress: 47%\r",
      "xmin progress: 48%\r",
      "xmin progress: 48%\r",
      "xmin progress: 48%\r",
      "xmin progress: 48%\r",
      "xmin progress: 49%\r",
      "xmin progress: 49%\r",
      "xmin progress: 49%\r",
      "xmin progress: 50%\r",
      "xmin progress: 50%\r",
      "xmin progress: 50%\r",
      "xmin progress: 51%\r",
      "xmin progress: 51%\r",
      "xmin progress: 51%\r",
      "xmin progress: 51%\r",
      "xmin progress: 52%\r",
      "xmin progress: 52%\r",
      "xmin progress: 52%\r",
      "xmin progress: 53%\r",
      "xmin progress: 53%\r",
      "xmin progress: 53%\r",
      "xmin progress: 53%\r",
      "xmin progress: 54%\r",
      "xmin progress: 54%\r",
      "xmin progress: 54%\r",
      "xmin progress: 55%\r",
      "xmin progress: 55%\r",
      "xmin progress: 55%\r",
      "xmin progress: 56%\r",
      "xmin progress: 56%\r",
      "xmin progress: 56%\r",
      "xmin progress: 56%\r",
      "xmin progress: 57%\r",
      "xmin progress: 57%\r",
      "xmin progress: 57%\r",
      "xmin progress: 58%\r",
      "xmin progress: 58%\r",
      "xmin progress: 58%\r",
      "xmin progress: 58%\r",
      "xmin progress: 59%\r",
      "xmin progress: 59%\r",
      "xmin progress: 59%\r",
      "xmin progress: 60%\r",
      "xmin progress: 60%\r",
      "xmin progress: 60%\r",
      "xmin progress: 61%\r",
      "xmin progress: 61%\r",
      "xmin progress: 61%\r",
      "xmin progress: 61%\r",
      "xmin progress: 62%\r",
      "xmin progress: 62%\r",
      "xmin progress: 62%\r",
      "xmin progress: 63%\r",
      "xmin progress: 63%\r",
      "xmin progress: 63%\r",
      "xmin progress: 64%\r",
      "xmin progress: 64%\r",
      "xmin progress: 64%\r",
      "xmin progress: 64%\r",
      "xmin progress: 65%\r",
      "xmin progress: 65%\r",
      "xmin progress: 65%\r",
      "xmin progress: 66%\r",
      "xmin progress: 66%\r",
      "xmin progress: 66%\r",
      "xmin progress: 66%\r",
      "xmin progress: 67%\r",
      "xmin progress: 67%\r",
      "xmin progress: 67%\r",
      "xmin progress: 68%\r",
      "xmin progress: 68%\r",
      "xmin progress: 68%\r",
      "xmin progress: 69%\r",
      "xmin progress: 69%\r",
      "xmin progress: 69%\r",
      "xmin progress: 69%\r",
      "xmin progress: 70%\r",
      "xmin progress: 70%\r",
      "xmin progress: 70%\r",
      "xmin progress: 71%\r",
      "xmin progress: 71%\r",
      "xmin progress: 71%\r",
      "xmin progress: 71%\r",
      "xmin progress: 72%\r",
      "xmin progress: 72%\r",
      "xmin progress: 72%\r",
      "xmin progress: 73%\r",
      "xmin progress: 73%\r",
      "xmin progress: 73%\r",
      "xmin progress: 74%\r",
      "xmin progress: 74%\r",
      "xmin progress: 74%\r",
      "xmin progress: 74%\r",
      "xmin progress: 75%\r",
      "xmin progress: 75%\r",
      "xmin progress: 75%\r",
      "xmin progress: 76%\r",
      "xmin progress: 76%\r",
      "xmin progress: 76%\r",
      "xmin progress: 76%\r",
      "xmin progress: 77%\r",
      "xmin progress: 77%\r",
      "xmin progress: 77%\r",
      "xmin progress: 78%\r",
      "xmin progress: 78%\r",
      "xmin progress: 78%\r",
      "xmin progress: 79%\r",
      "xmin progress: 79%\r",
      "xmin progress: 79%\r",
      "xmin progress: 79%\r",
      "xmin progress: 80%\r",
      "xmin progress: 80%\r",
      "xmin progress: 80%\r",
      "xmin progress: 81%\r",
      "xmin progress: 81%\r",
      "xmin progress: 81%\r",
      "xmin progress: 82%\r",
      "xmin progress: 82%\r",
      "xmin progress: 82%\r",
      "xmin progress: 82%\r",
      "xmin progress: 83%\r",
      "xmin progress: 83%\r",
      "xmin progress: 83%\r",
      "xmin progress: 84%\r",
      "xmin progress: 84%\r",
      "xmin progress: 84%\r",
      "xmin progress: 84%\r",
      "xmin progress: 85%\r",
      "xmin progress: 85%\r",
      "xmin progress: 85%\r",
      "xmin progress: 86%\r",
      "xmin progress: 86%\r",
      "xmin progress: 86%\r",
      "xmin progress: 87%\r",
      "xmin progress: 87%\r",
      "xmin progress: 87%\r",
      "xmin progress: 87%\r",
      "xmin progress: 88%\r",
      "xmin progress: 88%\r",
      "xmin progress: 88%\r",
      "xmin progress: 89%\r",
      "xmin progress: 89%\r",
      "xmin progress: 89%\r",
      "xmin progress: 89%\r",
      "xmin progress: 90%\r",
      "xmin progress: 90%\r",
      "xmin progress: 90%\r",
      "xmin progress: 91%\r",
      "xmin progress: 91%\r",
      "xmin progress: 91%\r",
      "xmin progress: 92%\r",
      "xmin progress: 92%\r",
      "xmin progress: 92%\r",
      "xmin progress: 92%\r",
      "xmin progress: 93%\r",
      "xmin progress: 93%\r",
      "xmin progress: 93%\r",
      "xmin progress: 94%\r",
      "xmin progress: 94%\r",
      "xmin progress: 94%\r",
      "xmin progress: 94%\r",
      "xmin progress: 95%\r",
      "xmin progress: 95%\r",
      "xmin progress: 95%\r",
      "xmin progress: 96%\r",
      "xmin progress: 96%\r",
      "xmin progress: 96%\r",
      "xmin progress: 97%\r",
      "xmin progress: 97%\r",
      "xmin progress: 97%\r",
      "xmin progress: 97%\r",
      "xmin progress: 98%\r",
      "xmin progress: 98%\r",
      "xmin progress: 98%\r",
      "xmin progress: 99%\r",
      "xmin progress: 99%\r",
      "xmin progress: 99%\r",
      "Powerlaw CCDF Fit: 10.1134 x ^ -2.0242 (k_min = 68)\n"
     ]
    }
   ],
   "source": [
    "results = pl.Fit(ccdf_repos[\"ccdf\"])\n",
    "k_min = ccdf_repos[ccdf_repos[\"ccdf\"] == results.power_law.xmin][\"k\"]\n",
    "ccdf_repos[\"fit\"] = (10 ** results.power_law.Kappa) * (ccdf_repos[\"k\"] ** -results.power_law.alpha)\n",
    "print(\"Powerlaw CCDF Fit: %1.4f x ^ -%1.4f (k_min = %d)\" % (10 ** results.power_law.Kappa, results.power_law.alpha, k_min))"
   ]
  },
  {
   "cell_type": "markdown",
   "id": "a03694db",
   "metadata": {},
   "source": [
    "#### Compute power law fit for users"
   ]
  },
  {
   "cell_type": "code",
   "execution_count": 32,
   "id": "63082785",
   "metadata": {},
   "outputs": [
    {
     "name": "stdout",
     "output_type": "stream",
     "text": [
      "Calculating best minimal value for power law fit\n",
      "xmin progress: 00%\r",
      "xmin progress: 00%\r",
      "xmin progress: 00%\r",
      "xmin progress: 01%\r",
      "xmin progress: 01%\r",
      "xmin progress: 01%\r",
      "xmin progress: 02%\r",
      "xmin progress: 02%\r",
      "xmin progress: 02%\r",
      "xmin progress: 03%\r",
      "xmin progress: 03%\r",
      "xmin progress: 03%\r",
      "xmin progress: 04%\r",
      "xmin progress: 04%\r",
      "xmin progress: 04%\r",
      "xmin progress: 05%\r",
      "xmin progress: 05%\r",
      "xmin progress: 05%\r",
      "xmin progress: 06%\r",
      "xmin progress: 06%\r",
      "xmin progress: 06%\r",
      "xmin progress: 07%\r",
      "xmin progress: 07%\r",
      "xmin progress: 08%\r",
      "xmin progress: 08%\r",
      "xmin progress: 08%\r",
      "xmin progress: 09%\r",
      "xmin progress: 09%\r",
      "xmin progress: 09%\r",
      "xmin progress: 10%\r",
      "xmin progress: 10%\r",
      "xmin progress: 10%\r",
      "xmin progress: 11%\r",
      "xmin progress: 11%\r",
      "xmin progress: 11%\r",
      "xmin progress: 12%\r",
      "xmin progress: 12%\r",
      "xmin progress: 12%\r",
      "xmin progress: 13%\r",
      "xmin progress: 13%\r",
      "xmin progress: 13%\r",
      "xmin progress: 14%\r",
      "xmin progress: 14%\r",
      "xmin progress: 14%\r",
      "xmin progress: 15%\r",
      "xmin progress: 15%\r",
      "xmin progress: 16%\r",
      "xmin progress: 16%\r",
      "xmin progress: 16%\r",
      "xmin progress: 17%\r",
      "xmin progress: 17%\r",
      "xmin progress: 17%\r",
      "xmin progress: 18%\r",
      "xmin progress: 18%\r",
      "xmin progress: 18%\r",
      "xmin progress: 19%\r",
      "xmin progress: 19%\r",
      "xmin progress: 19%\r",
      "xmin progress: 20%\r",
      "xmin progress: 20%\r",
      "xmin progress: 20%\r",
      "xmin progress: 21%\r",
      "xmin progress: 21%\r",
      "xmin progress: 21%\r",
      "xmin progress: 22%\r",
      "xmin progress: 22%\r",
      "xmin progress: 22%\r",
      "xmin progress: 23%\r",
      "xmin progress: 23%\r",
      "xmin progress: 24%\r",
      "xmin progress: 24%\r",
      "xmin progress: 24%\r",
      "xmin progress: 25%\r",
      "xmin progress: 25%\r",
      "xmin progress: 25%\r",
      "xmin progress: 26%\r",
      "xmin progress: 26%\r",
      "xmin progress: 26%\r",
      "xmin progress: 27%\r",
      "xmin progress: 27%\r",
      "xmin progress: 27%\r",
      "xmin progress: 28%\r",
      "xmin progress: 28%\r",
      "xmin progress: 28%\r",
      "xmin progress: 29%\r",
      "xmin progress: 29%\r",
      "xmin progress: 29%\r",
      "xmin progress: 30%\r",
      "xmin progress: 30%\r",
      "xmin progress: 31%\r",
      "xmin progress: 31%\r",
      "xmin progress: 31%\r",
      "xmin progress: 32%\r",
      "xmin progress: 32%\r",
      "xmin progress: 32%\r",
      "xmin progress: 33%\r",
      "xmin progress: 33%\r",
      "xmin progress: 33%\r",
      "xmin progress: 34%\r",
      "xmin progress: 34%\r",
      "xmin progress: 34%\r",
      "xmin progress: 35%\r",
      "xmin progress: 35%\r",
      "xmin progress: 35%\r",
      "xmin progress: 36%\r",
      "xmin progress: 36%\r",
      "xmin progress: 36%\r",
      "xmin progress: 37%\r",
      "xmin progress: 37%\r",
      "xmin progress: 37%\r",
      "xmin progress: 38%\r",
      "xmin progress: 38%\r",
      "xmin progress: 39%\r",
      "xmin progress: 39%\r",
      "xmin progress: 39%\r",
      "xmin progress: 40%\r",
      "xmin progress: 40%\r",
      "xmin progress: 40%\r",
      "xmin progress: 41%\r",
      "xmin progress: 41%\r",
      "xmin progress: 41%\r",
      "xmin progress: 42%\r",
      "xmin progress: 42%\r",
      "xmin progress: 42%\r",
      "xmin progress: 43%\r",
      "xmin progress: 43%\r",
      "xmin progress: 43%\r",
      "xmin progress: 44%\r",
      "xmin progress: 44%\r",
      "xmin progress: 44%\r",
      "xmin progress: 45%\r",
      "xmin progress: 45%\r",
      "xmin progress: 45%\r",
      "xmin progress: 46%\r",
      "xmin progress: 46%\r",
      "xmin progress: 47%\r",
      "xmin progress: 47%\r",
      "xmin progress: 47%\r",
      "xmin progress: 48%\r",
      "xmin progress: 48%\r",
      "xmin progress: 48%\r",
      "xmin progress: 49%\r",
      "xmin progress: 49%\r",
      "xmin progress: 49%\r",
      "xmin progress: 50%\r",
      "xmin progress: 50%\r",
      "xmin progress: 50%\r",
      "xmin progress: 51%\r",
      "xmin progress: 51%\r",
      "xmin progress: 51%\r",
      "xmin progress: 52%\r",
      "xmin progress: 52%\r",
      "xmin progress: 52%\r",
      "xmin progress: 53%\r",
      "xmin progress: 53%\r",
      "xmin progress: 54%\r",
      "xmin progress: 54%\r",
      "xmin progress: 54%\r",
      "xmin progress: 55%\r",
      "xmin progress: 55%\r",
      "xmin progress: 55%\r",
      "xmin progress: 56%\r",
      "xmin progress: 56%\r",
      "xmin progress: 56%\r",
      "xmin progress: 57%\r",
      "xmin progress: 57%\r",
      "xmin progress: 57%\r",
      "xmin progress: 58%\r",
      "xmin progress: 58%\r",
      "xmin progress: 58%\r",
      "xmin progress: 59%\r",
      "xmin progress: 59%\r",
      "xmin progress: 59%\r",
      "xmin progress: 60%\r",
      "xmin progress: 60%\r",
      "xmin progress: 60%\r",
      "xmin progress: 61%\r",
      "xmin progress: 61%\r",
      "xmin progress: 62%\r",
      "xmin progress: 62%\r",
      "xmin progress: 62%\r",
      "xmin progress: 63%\r",
      "xmin progress: 63%\r",
      "xmin progress: 63%\r",
      "xmin progress: 64%\r",
      "xmin progress: 64%\r",
      "xmin progress: 64%\r",
      "xmin progress: 65%\r",
      "xmin progress: 65%\r",
      "xmin progress: 65%\r",
      "xmin progress: 66%\r",
      "xmin progress: 66%\r",
      "xmin progress: 66%\r",
      "xmin progress: 67%\r",
      "xmin progress: 67%\r",
      "xmin progress: 67%\r",
      "xmin progress: 68%\r",
      "xmin progress: 68%\r",
      "xmin progress: 68%\r",
      "xmin progress: 69%\r",
      "xmin progress: 69%\r",
      "xmin progress: 70%\r",
      "xmin progress: 70%\r",
      "xmin progress: 70%\r",
      "xmin progress: 71%\r",
      "xmin progress: 71%\r",
      "xmin progress: 71%\r",
      "xmin progress: 72%\r",
      "xmin progress: 72%\r",
      "xmin progress: 72%\r",
      "xmin progress: 73%\r",
      "xmin progress: 73%\r",
      "xmin progress: 73%\r",
      "xmin progress: 74%\r",
      "xmin progress: 74%\r",
      "xmin progress: 74%\r",
      "xmin progress: 75%\r",
      "xmin progress: 75%\r",
      "xmin progress: 75%\r",
      "xmin progress: 76%\r",
      "xmin progress: 76%\r",
      "xmin progress: 77%\r",
      "xmin progress: 77%\r",
      "xmin progress: 77%\r",
      "xmin progress: 78%\r",
      "xmin progress: 78%\r",
      "xmin progress: 78%\r",
      "xmin progress: 79%\r",
      "xmin progress: 79%\r",
      "xmin progress: 79%\r",
      "xmin progress: 80%\r",
      "xmin progress: 80%\r",
      "xmin progress: 80%\r",
      "xmin progress: 81%\r",
      "xmin progress: 81%\r",
      "xmin progress: 81%\r",
      "xmin progress: 82%\r",
      "xmin progress: 82%\r",
      "xmin progress: 82%\r",
      "xmin progress: 83%\r",
      "xmin progress: 83%\r",
      "xmin progress: 83%\r",
      "xmin progress: 84%\r",
      "xmin progress: 84%\r",
      "xmin progress: 85%\r",
      "xmin progress: 85%\r",
      "xmin progress: 85%\r",
      "xmin progress: 86%\r",
      "xmin progress: 86%\r",
      "xmin progress: 86%\r",
      "xmin progress: 87%\r",
      "xmin progress: 87%\r",
      "xmin progress: 87%\r",
      "xmin progress: 88%\r",
      "xmin progress: 88%\r",
      "xmin progress: 88%\r",
      "xmin progress: 89%\r",
      "xmin progress: 89%\r",
      "xmin progress: 89%\r",
      "xmin progress: 90%\r",
      "xmin progress: 90%\r",
      "xmin progress: 90%\r",
      "xmin progress: 91%\r",
      "xmin progress: 91%\r",
      "xmin progress: 91%\r",
      "xmin progress: 92%\r",
      "xmin progress: 92%\r",
      "xmin progress: 93%\r",
      "xmin progress: 93%\r",
      "xmin progress: 93%\r",
      "xmin progress: 94%\r",
      "xmin progress: 94%\r",
      "xmin progress: 94%\r",
      "xmin progress: 95%\r",
      "xmin progress: 95%\r",
      "xmin progress: 95%\r",
      "xmin progress: 96%\r",
      "xmin progress: 96%\r",
      "xmin progress: 96%\r",
      "xmin progress: 97%\r",
      "xmin progress: 97%\r",
      "xmin progress: 97%\r",
      "xmin progress: 98%\r",
      "xmin progress: 98%\r",
      "xmin progress: 98%\r",
      "xmin progress: 99%\r",
      "xmin progress: 99%\r",
      "Powerlaw CCDF Fit: 10.7385 x ^ -1.6929 (k_min = 133)\n"
     ]
    }
   ],
   "source": [
    "results = pl.Fit(ccdf_users[\"ccdf\"])\n",
    "k_min = ccdf_users[ccdf_users[\"ccdf\"] == results.power_law.xmin][\"k\"]\n",
    "ccdf_users[\"fit\"] = (10 ** results.power_law.Kappa) * (ccdf_users[\"k\"] ** -results.power_law.alpha)\n",
    "print(\"Powerlaw CCDF Fit: %1.4f x ^ -%1.4f (k_min = %d)\" % (10 ** results.power_law.Kappa, results.power_law.alpha, k_min))"
   ]
  },
  {
   "cell_type": "markdown",
   "id": "223539a9",
   "metadata": {},
   "source": [
    "#### Visualize the fit for both node types\n",
    "\n",
    "The conclusion from the both plots is that there is now way that either of them follows power law."
   ]
  },
  {
   "cell_type": "code",
   "execution_count": 33,
   "id": "a5bb4c20",
   "metadata": {},
   "outputs": [
    {
     "data": {
      "image/png": "[encoded data removed]",
      "text/plain": [
       "<Figure size 720x360 with 2 Axes>"
      ]
     },
     "metadata": {},
     "output_type": "display_data"
    }
   ],
   "source": [
    "# Define axs and figure\n",
    "fig, axs = plt.subplots(1, 2, figsize=(10, 5))\n",
    "plt.subplots_adjust(wspace=.3)\n",
    "\n",
    "# Plot the data\n",
    "for ax, data, which_category in zip(axs, [ccdf_repos, ccdf_users], [\"repositories\", \"users\"]):\n",
    "    sns.lineplot(data=data, x=\"k\", y=\"ccdf\", ax=ax)\n",
    "    sns.lineplot(data=data, x=\"k\", y=\"fit\", ax=ax)\n",
    "    ax.set_title(f\"Powerlaw fit for {which_category}\", weight = \"bold\")\n",
    "    ax.set_xscale('log')\n",
    "    ax.set_yscale('log')\n",
    "\n",
    "# Save the plot\n",
    "if SAVE_FIG:\n",
    "    plt.savefig(f\"{PATH_TO['data']['figures']}/power_law_fit_bipartite.jpg\")"
   ]
  },
  {
   "cell_type": "markdown",
   "id": "d3ab46aa",
   "metadata": {
    "cell_id": "00036-7142cda8-9b08-4aab-8b82-c2f624e4309f",
    "deepnote_cell_type": "markdown",
    "tags": []
   },
   "source": [
    "## #05 Projections\n",
    "---\n",
    "\n",
    "In this section, we focus on computing projections of our bipartite network onto repository nodes. The reason why we decided to choose repository nodes is that it makes more sense in the context of our problem, i.e., predicting relevant repositories to follow for the given user. In other words, in the projected network, two nodes will be connected with an edge if they have common neighbors, in this case github users. We use several projections method where each method puts different weight $w$ to given edge.\n",
    "\n",
    "### Prepare projection methods\n",
    "\n",
    "Within this section, we focus on implementing selected projection methods from the book. In addition, below, you can also find a short description of each method.\n",
    "\n",
    "#### Get set of users and repos in ascending order"
   ]
  },
  {
   "cell_type": "code",
   "execution_count": 34,
   "id": "725e53ca",
   "metadata": {
    "cell_id": "00037-93bc004e-3614-4f7e-94cc-9eb25bb8fe2f",
    "deepnote_cell_type": "code",
    "deepnote_to_be_reexecuted": false,
    "execution_millis": 30,
    "execution_start": 1633939940059,
    "source_hash": "165d96a3",
    "tags": []
   },
   "outputs": [],
   "source": [
    "repos = [node for node in G.nodes() if node[0] == 'r']\n",
    "users = [node for node in G.nodes() if node[0] == 'u']"
   ]
  },
  {
   "cell_type": "markdown",
   "id": "a31121b8",
   "metadata": {},
   "source": [
    "#### Define weight functions which do not require vectorization\n",
    "\n",
    "*(Here, we need to add description of the below methods)*"
   ]
  },
  {
   "cell_type": "code",
   "execution_count": 35,
   "id": "99d7e0da",
   "metadata": {},
   "outputs": [],
   "source": [
    "def simple_weight(G, u, v):\n",
    "    n_u, n_v = set(G[u]), set(G[v])\n",
    "    # len of set of intersection\n",
    "    return len(n_u & n_v) \n",
    "\n",
    "def jaccard(G, u, v):\n",
    "    n_u, n_v = set(G[u]), set(G[v])\n",
    "    # normalise len of set of intersection by union\n",
    "    return len(n_u & n_v) / len(n_u | n_v)\n",
    "\n",
    "def hyperbolic(G, u, v):\n",
    "    common = set(G[u]) & set(G[v])\n",
    "    return sum([1/(len(set(G[node])) - 1) for node in common])\n",
    "    \n",
    "def probs(G, u, v):  \n",
    "    common = set(G[u]) & set(G[v])\n",
    "    return sum([1/(len(set(G[node]))*len(set(G[u]))) for node in common])\n",
    "\n",
    "def heats(G, u, v):  \n",
    "    common = set(G[u]) & set(G[v])\n",
    "    return sum([1/(len(set(G[node]))*len(set(G[v]))) for node in common])\n",
    "\n",
    "def hybrid(G, u, v):  \n",
    "    common = set(G[u]) & set(G[v])\n",
    "    return sum([1/(len(set(G[node]))*len(set(G[u]))*len(set(G[v]))) for node in common])"
   ]
  },
  {
   "cell_type": "markdown",
   "id": "9e1c8789",
   "metadata": {},
   "source": [
    "#### Define weight functions which require vectorization\n",
    "\n",
    "*(Here, we need to add description of the below methods)*"
   ]
  },
  {
   "cell_type": "code",
   "execution_count": 36,
   "id": "11178778",
   "metadata": {},
   "outputs": [],
   "source": [
    "class VectorisedProjection:\n",
    "    def __init__(self, G, repos, users):\n",
    "        self.metric = None\n",
    "        self.adj = nx.algorithms.bipartite.matrix.biadjacency_matrix(G, repos, users)\n",
    "        self.repo_map = {repos[i]: i for i in range(len(repos))}\n",
    "\n",
    "    def project(self, G, u, v):\n",
    "        \n",
    "        v_u = np.ravel(self.adj.getrow(0).todense().sum(axis=0))\n",
    "        v_v = np.ravel(self.adj.getrow(1).todense().sum(axis=0))\n",
    "        \n",
    "        if self.metric == 'simple_weight':\n",
    "            return np.sum((v_u + v_v) == 2)\n",
    "\n",
    "        elif self.metric == 'euclidean':\n",
    "            return sp.spatial.distance.euclidean(v_u, v_v)  \n",
    "\n",
    "        elif self.metric == 'normalised_euclidean':\n",
    "            return 1 / (np.sqrt(np.sum(np.power((v_u - v_v),2))) + 1)\n",
    "\n",
    "        elif self.metric == 'pearson':\n",
    "            return sp.stats.stats.pearsonr(v_u, v_v)[0] + 1\n",
    "\n",
    "        elif self.metric == 'cosine':\n",
    "            return 1 - sp.spatial.distance.cosine(v_u, v_v)\n",
    "\n",
    "        else:\n",
    "            print(\"Please specify one of the following metrics: ['simple_weight', 'euclidean', 'normalised_euclidean', 'pearson', 'cosine'].\")"
   ]
  },
  {
   "cell_type": "markdown",
   "id": "fd49022c",
   "metadata": {},
   "source": [
    "### Test the implemented projection methods\n",
    "\n",
    "The purpose of the below test is to just show that the implemented methods run without error."
   ]
  },
  {
   "cell_type": "code",
   "execution_count": 37,
   "id": "ca70de95",
   "metadata": {
    "cell_id": "00044-cc714010-15ce-4497-89d1-02abaf85cf8d",
    "deepnote_cell_type": "code",
    "deepnote_to_be_reexecuted": false,
    "execution_millis": 8349,
    "execution_start": 1633939942256,
    "source_hash": "5ed5a4ee",
    "tags": []
   },
   "outputs": [
    {
     "name": "stdout",
     "output_type": "stream",
     "text": [
      "Simple weight: 46\n",
      "Jaccard: 0.05644171779141104\n",
      "Vectorised projection (simple_weight): 0\n",
      "Vectorised projection (euclidean): 2.23606797749979\n",
      "Vectorised projection (normalised_euclidean): 0.3090169943749474\n",
      "Vectorised projection (pearson): 0.9999646121044172\n",
      "Vectorised projection (cosine): 0.0\n",
      "Hyperbolic: 1.0808427283034503\n",
      "Probs: 0.0016342158724736654\n",
      "Heats: 0.004378860478807643\n"
     ]
    }
   ],
   "source": [
    "# Define functions and their names to be tested\n",
    "weight_functions = [simple_weight, jaccard, VectorisedProjection, hyperbolic, probs, heats]\n",
    "func_names = [\"Simple weight\", \"Jaccard\", \"Vectorised projection\", \"Hyperbolic\", \"Probs\", \"Heats\"]\n",
    "\n",
    "# Select random nodes from our bipartite network for which we want to do the test\n",
    "u = 'r6'\n",
    "v = 'r3'\n",
    "\n",
    "# Run the test\n",
    "for f, name in zip(weight_functions, func_names):\n",
    "    if f == VectorisedProjection:\n",
    "        f = VectorisedProjection(G, repos, users)\n",
    "        for metric in ['simple_weight', 'euclidean', 'normalised_euclidean', 'pearson', 'cosine']:\n",
    "            f.metric = metric\n",
    "            print(f\"{name} ({metric}): {f.project(G, u, v)}\")\n",
    "    else: \n",
    "        print(f\"{name}: {f(G, u, v)}\")"
   ]
  },
  {
   "cell_type": "markdown",
   "id": "0a875782",
   "metadata": {},
   "source": [
    "### Test the performance of the implemented methods\n",
    "\n",
    "The goal of this section is to test performance of implemented methods. Or in other words, we want to figure out which methods are able to finish within a realistic timeframe.\n",
    "\n",
    "#### Default benchmark\n",
    "\n",
    "We tried to use `simple weight` projection method on our network, and it finished within `10 min`. Below, we look at the average time which it takes to compute weight for one edge."
   ]
  },
  {
   "cell_type": "code",
   "execution_count": 38,
   "id": "09c8c5b2",
   "metadata": {},
   "outputs": [
    {
     "name": "stdout",
     "output_type": "stream",
     "text": [
      "3.18 µs ± 751 ns per loop (mean ± std. dev. of 7 runs, 2000 loops each)\n"
     ]
    }
   ],
   "source": [
    "# Default benchmark, at this pace, it will compute within 10 min\n",
    "# Simple weight projection\n",
    "%timeit -n 2000 simple_weight(G, \"r1\", \"r2\")"
   ]
  },
  {
   "cell_type": "markdown",
   "id": "ab9e9627",
   "metadata": {},
   "source": [
    "#### Methods which use vectorization\n",
    "We found out that all methods which do not require vectorization are able to finish within reasonable timeframe. Below, we demonstrate perfomance of one of the selected methods which uses vectorization."
   ]
  },
  {
   "cell_type": "code",
   "execution_count": 39,
   "id": "0779c6ab",
   "metadata": {},
   "outputs": [
    {
     "name": "stdout",
     "output_type": "stream",
     "text": [
      "779 µs ± 14.9 µs per loop (mean ± std. dev. of 7 runs, 2000 loops each)\n"
     ]
    }
   ],
   "source": [
    "# Initiate second method for projection, this time using pearson correlation of two vectors to measure edge weight\n",
    "vp = VectorisedProjection(G, repos, users)\n",
    "vp.metric = \"pearson\"\n",
    "\n",
    "# Run the test -  we see that the ratio with the previous method is: 690/2.93 ~ 235x, i.e., 235x more time (~40 h)\n",
    "%timeit -n 2000 vp.project(G, \"r1\", \"r2\")"
   ]
  },
  {
   "cell_type": "markdown",
   "id": "791f0ad2",
   "metadata": {},
   "source": [
    "### Computation of projections\n",
    "\n",
    "Finally, after all testing and performance evaluation, we compute projection of our bi-partite network using following methods:\n",
    "- `Simple weight`\n",
    "- `Jaccard`\n",
    "- `Hyperbolic`\n",
    "- `Probs`\n",
    "- `Heats`"
   ]
  },
  {
   "cell_type": "code",
   "execution_count": 40,
   "id": "48a136e7",
   "metadata": {},
   "outputs": [],
   "source": [
    "projection_functions_names = [\"simple_weight\", \"jaccard\", \"hyperbolic\", \"probs\", \"heats\"]\n",
    "projection_functions = [simple_weight, jaccard, hyperbolic, probs, heats]"
   ]
  },
  {
   "cell_type": "code",
   "execution_count": 41,
   "id": "71a35b17",
   "metadata": {
    "cell_id": "00048-9c928f17-cf37-4b25-b790-03012da5a9b1",
    "deepnote_cell_type": "code",
    "deepnote_to_be_reexecuted": false,
    "execution_millis": 5,
    "execution_start": 1633939950608,
    "output_cleared": true,
    "source_hash": "9d6d29e5",
    "tags": []
   },
   "outputs": [],
   "source": [
    "if COMPUTE_PROJECTIONS:\n",
    "    metadata = {}\n",
    "    \n",
    "    for f, name in zip(projection_functions, projection_functions_names):\n",
    "        metadata[name] = {}\n",
    "        metadata[name]['date'] = date.today().strftime('%d/%m/%y')\n",
    "        metadata[name]['time'] = datetime.now().strftime('%H:%M:%S')\n",
    "        metadata[name]['error'] = None\n",
    "        \n",
    "        print(f\"Currently working on: {name}\")\n",
    "        try:\n",
    "            start = time()\n",
    "            projected = bipartite.generic_weighted_projected_graph(G, nodes=repos, weight_function=f)\n",
    "            projected_time = round(time() - start, 2)\n",
    "            metadata[name]['projected_time'] = projected_time\n",
    "            \n",
    "            start = time()\n",
    "            nx.readwrite.gpickle.write_gpickle(projected, f\"{PATH_TO['data']['projections']}/{name}.pickle\")\n",
    "            write_time = round(time() - start, 2)\n",
    "            metadata[name]['write_time'] = write_time\n",
    "            \n",
    "        except Exception as e:\n",
    "            print(f\"Function: {name} - failed because\")\n",
    "            metadata[name]['error'] = e\n",
    "            print(e)\n",
    "            print(\"-\"*10)\n",
    "        print()\n",
    "        metadata[name]['success'] = True\n",
    "     \n",
    "    summarise.write_metadata(metadata, filepath=PATH_TO['data']['metadata'], name='projections')\n",
    "    print('Saved Metadata')"
   ]
  },
  {
   "cell_type": "markdown",
   "id": "7d75b922",
   "metadata": {},
   "source": [
    "### Evaluating Projections\n",
    "\n",
    "In this section, we are trying to compute relevant statistics and visualise properties of the projections in a useful way in order to evaluate, which projection method might be the most reasonable to use for a recommendation system. We are using our custom function `generate_summary`, which generates a markdown file in the generated filepath for the desired unipartite graph."
   ]
  },
  {
   "cell_type": "code",
   "execution_count": 42,
   "id": "52840544",
   "metadata": {},
   "outputs": [],
   "source": [
    "if GENERATE_SUMMARY_PROJ:\n",
    "    metadata = {}\n",
    "    \n",
    "    for f, name in zip(projection_functions, projection_functions_names):\n",
    "        metadata[name] = {}\n",
    "        metadata[name]['date'] = date.today().strftime('%d/%m/%y')\n",
    "        metadata[name]['time'] = datetime.now().strftime('%H:%M:%S')\n",
    "        print('='*10)\n",
    "        print(f\"Projection Method: {name.replace('_',' ').title()}\\n\")\n",
    "        \n",
    "        # load pickle file into graph\n",
    "        print(\"Loading Projection Graph\")\n",
    "        \n",
    "        start = time()\n",
    "        G = nx.read_gpickle(f\"{PATH_TO['data']['projections']}/pickle_format/{name}.pickle\")\n",
    "        load_time = round(time() - start, 2)\n",
    "        metadata[name]['load_time'] = load_time\n",
    "\n",
    "        print(f\"Loaded in {load_time}s\\n\")\n",
    "        print(f\"Starting Markdown Generation\")\n",
    "        \n",
    "        start = time()\n",
    "        with contextlib.redirect_stdout(None): # surpress output\n",
    "            summarise.generate_markdown(G, filepath=f\"{PATH_TO['data']['summaries']}/projections\", name=name, plain=False)\n",
    "        execution_time = round(time() - start, 2)\n",
    "        metadata[name]['execution_time'] = execution_time\n",
    "            \n",
    "        print(f\"Finished in {execution_time}s. Summary saved to {PATH_TO['data']['summaries']}/projections/{name}\")\n",
    "        print('='*10 + '\\n')\n",
    "        metadata[name]['success'] = True\n",
    "    \n",
    "    summarise.write_metadata(metadata, filepath=PATH_TO['data']['metadata'], name='projections_summaries')\n",
    "    print('Saved Metadata')"
   ]
  },
  {
   "cell_type": "markdown",
   "id": "a81f630f",
   "metadata": {},
   "source": [
    "## #06 Network backboning\n",
    "---\n",
    "\n",
    "Since our projected graphs are pretty dense, we need to use network backboning in order to filter out irrelevant edges."
   ]
  },
  {
   "cell_type": "markdown",
   "id": "900c30d1",
   "metadata": {},
   "source": [
    "### Why can not we just filter out edges with weight less than certain threshold?\n",
    "\n",
    "Let's start with simple inspection of edge weight distribution.\n",
    "\n",
    "#### Get weights for graph obtained via simple weight projection method"
   ]
  },
  {
   "cell_type": "code",
   "execution_count": 43,
   "id": "aeafae39",
   "metadata": {},
   "outputs": [],
   "source": [
    "# Load graph obtained by simple weight projetion method\n",
    "G_simple = nx.readwrite.gpickle.read_gpickle(f\"{PATH_TO['data']['projections']}/pickle_format/simple_weight.pickle\")\n",
    "\n",
    "# Get weights within the graph\n",
    "weights = Counter([w for n1, n2, w in G_simple.edges.data(\"weight\")])"
   ]
  },
  {
   "cell_type": "markdown",
   "id": "f6145c94",
   "metadata": {},
   "source": [
    "#### Plot the weights distribution\n",
    "\n",
    "Below, you can see the first problem associated with using naive approach, i.e., to just get rid of nodes under certain nodes. The problem is broad weight distribution. (p. 333)"
   ]
  },
  {
   "cell_type": "code",
   "execution_count": 44,
   "id": "8f7a64d7",
   "metadata": {},
   "outputs": [
    {
     "data": {
      "image/png": "[encoded data removed]",
      "text/plain": [
       "<Figure size 432x288 with 1 Axes>"
      ]
     },
     "metadata": {},
     "output_type": "display_data"
    }
   ],
   "source": [
    "# Setup figure so you can plot inside it\n",
    "fig = plt.figure(figsize=(6, 4)) # create figure object with a (width,height)\n",
    "ax = fig.add_axes([0.15,0.2,0.8, 0.7]) # left, bottom, width, height (range 0 to 1)\n",
    "\n",
    "# Plot the distribution\n",
    "weight_dist = sns.scatterplot(x=weights.keys(), y=weights.values(), alpha=0.5, ax=ax)\n",
    "weight_dist.set(xscale=\"log\", yscale=\"log\", xlabel=\"Edge weight\", ylabel=\"# of edges\");\n",
    "weight_dist.set_title(\"Edge weight distribution\", weight=\"bold\");\n",
    "\n",
    "# Save the figure\n",
    "if SAVE_FIG:\n",
    "    plt.savefig(f\"{PATH_TO['data']['figures']}/weight_dist_simple_proj.jpg\")"
   ]
  },
  {
   "cell_type": "code",
   "execution_count": 45,
   "id": "91304ac6",
   "metadata": {},
   "outputs": [],
   "source": [
    "# Delete G_simple from memory\n",
    "del G_simple"
   ]
  },
  {
   "cell_type": "markdown",
   "id": "555e4990",
   "metadata": {},
   "source": [
    "### Setup for backboning"
   ]
  },
  {
   "cell_type": "markdown",
   "id": "06165c0e",
   "metadata": {},
   "source": [
    "In order to be able to use Michele's library, you need to provide in the specific format:\n",
    "- edge list\n",
    "- header must have columns src, trg, weight\n",
    "- should be tab separated\n",
    "- In case of undirected network, the edges have to be present in both directions with the same weights, or set triangular_input to True.\n",
    "\n",
    "With this in mind, I therefore saved our projections in this format. Note that by using edge list format, we lose nodes which are not connected to any other node."
   ]
  },
  {
   "cell_type": "markdown",
   "id": "7c7c9fd4",
   "metadata": {},
   "source": [
    "### Perform backboning for selected projection"
   ]
  },
  {
   "cell_type": "markdown",
   "id": "f036a428",
   "metadata": {},
   "source": [
    "Now, that we have loaded the data in the proper format, we can do the network backboning. I chose the below two methods because they are computaionally viable. For instance Double stochastic method was not viable since we were not able to reach convergence. As Michele wrote in the book, this is likely because our network is sparse. The other methods are very computationally intensive (we can try and see if it works, but I doubt it will run in reasonable time)."
   ]
  },
  {
   "cell_type": "code",
   "execution_count": 46,
   "id": "00ec923e",
   "metadata": {},
   "outputs": [],
   "source": [
    "backboning_functions_names = ['disparity_filter', 'noise_corrected']\n",
    "backboning_functions = [backboning.disparity_filter, backboning.noise_corrected]\n",
    "SIGNIF_THRS = 0.95"
   ]
  },
  {
   "cell_type": "code",
   "execution_count": 47,
   "id": "303f0308",
   "metadata": {},
   "outputs": [],
   "source": [
    "if DO_BACKBONING:\n",
    "    metadata = {}\n",
    "    for projection_name in projection_functions_names:\n",
    "        print('='*10)\n",
    "        print(f\"Projection Method: {name.replace('_',' ').title()}\\n\")\n",
    "        print('Loading Graph from edge list')\n",
    "        # Load the data into a table --> needed format for the library. FYI: _, _ = nnnodes, nnedges\n",
    "        start = time()\n",
    "        table, _, _ = backboning.read(f\"{PATH_TO['data']['projections']}/edge_list_format/{projection_name}.edges\",\n",
    "                                         \"weight\",\n",
    "                                         triangular_input=True,\n",
    "                                         undirected=True,\n",
    "                                         consider_self_loops=False)\n",
    "        load_time = round(time() - start, 2)\n",
    "        print(f'Loaded in {load_time}s\\n')\n",
    "        \n",
    "        for name, backboning_function in zip(backboning_functions_names, backboning_functions):\n",
    "            metadata[f'{projection_name} {name}'] = {}\n",
    "            metadata[f'{projection_name} {name}']['date'] = date.today().strftime('%d/%m/%y')\n",
    "            metadata[f'{projection_name} {name}']['time'] = datetime.now().strftime('%H:%M:%S')\n",
    "            metadata[f'{projection_name} {name}']['load_time'] = load_time\n",
    "            # compute backboned graph and save \n",
    "            start = time()\n",
    "            print('Starting Backboning')\n",
    "            backboning_function(table, undirected=True, return_self_loops=False).to_csv(f\"{PATH_TO['data']['backboning']}/{name}/{projection_name}.csv\", index=False)\n",
    "            execution_time = round(time() - start, 2)\n",
    "            print(f'Finished Backbning in {execution_time}s')\n",
    "            metadata[f'{projection_name} {name}']['execution_time'] = execution_time\n",
    "            metadata[f'{projection_name} {name}']['success'] = True\n",
    "    \n",
    "    \n",
    "    filepath = f\"{PATH_TO['data']['metadata']}/backboning.txt\"\n",
    "    summarise.write_metadata(metadata,filepath,'Backboning')\n",
    "    with open(filepath, 'w') as outfile:\n",
    "        outfile.write('=== METADATA: Backboning ===\\n\\n\\n')\n",
    "        for method in metadata:\n",
    "            outfile.write(f\"Projection Method: {method.replace('_', ' ').title()}\\n\")\n",
    "            outfile.write(f\"{'-'*len(method)}\\n\")\n",
    "            for stat, res in metadata[method].items():\n",
    "                outfile.write(f\"{stat.replace('_', ' ').title()}: {res}\\n\")\n",
    "            outfile.write('\\n')\n",
    "    print('Saved Metadata')"
   ]
  },
  {
   "cell_type": "markdown",
   "id": "d12328f6",
   "metadata": {},
   "source": [
    "## #07 Analysis of projected graphs\n",
    "---"
   ]
  },
  {
   "cell_type": "markdown",
   "id": "da8cd8b7",
   "metadata": {},
   "source": [
    "### Select a threshold to filter out edges"
   ]
  },
  {
   "cell_type": "markdown",
   "id": "e91e3a2d",
   "metadata": {},
   "source": [
    "Below, select a signifficance score to filter out irrelevant edges from projected graph. The below `SIGNIF_THRS` as follows: `P-value` = 1 - `SIGNIF_THRS`. (Keep only edges whose `P-value` is higher than the `P-value` computed based on `SIGNIF_THRS`)"
   ]
  },
  {
   "cell_type": "code",
   "execution_count": 48,
   "id": "a3bf76bf",
   "metadata": {},
   "outputs": [],
   "source": [
    "SIGNIF_THRS = 0.95"
   ]
  },
  {
   "cell_type": "markdown",
   "id": "03dba7ba",
   "metadata": {},
   "source": [
    "### Filter out edges and do analysis part\n",
    "\n",
    "Below, we first filter out irrelevant edges. Then compute summary of the given unipartite network and save it to markdown file."
   ]
  },
  {
   "cell_type": "code",
   "execution_count": 49,
   "id": "00392a33",
   "metadata": {},
   "outputs": [],
   "source": [
    "if GENERATE_SUMMARY_PROJ_BACKB:\n",
    "    # Define list of available projections - must follow the naming as in data/backboning\n",
    "    # To be added to the list: \"probs\", \"jaccard\", \"hyperbolic\", \"heats\"\n",
    "    projection_names = [\"simple_weight\"]\n",
    "\n",
    "    # Load the given table, filter out irrelevant edges, save it\n",
    "    for projection_name in projection_names:\n",
    "\n",
    "        # Disparity filter backboning\n",
    "        # * Filter\n",
    "        df = backboning.thresholding(\n",
    "            pd.read_csv(f\"{PATH_TO['data']['backboning']}/df_table_{projection_name}.csv\"),\n",
    "            SIGNIF_THRS)\n",
    "\n",
    "        # * Analysis\n",
    "        # YOUR CODE GOES HERE MIKA\n",
    "\n",
    "\n",
    "        # Noise corrected backboning\n",
    "        df = backboning.thresholding(\n",
    "            pd.read_csv(f\"{PATH_TO['data']['backboning']}/nc_table_{projection_name}.csv\"),\n",
    "            SIGNIF_THRS)\n",
    "\n",
    "        # * Analysis\n",
    "        # YOUR CODE GOES HERE MIKA"
   ]
  },
  {
   "cell_type": "markdown",
   "id": "7e631035",
   "metadata": {},
   "source": [
    "## #08 Similarity algorithms\n",
    "\n",
    "In this section we focus on utilizing our gained knowledge from previous sections and we try to find optimal algorithms for finding similar repositories.\n",
    "\n",
    "### Load the given network"
   ]
  },
  {
   "cell_type": "code",
   "execution_count": 50,
   "id": "c336704d",
   "metadata": {},
   "outputs": [],
   "source": [
    "# Set hyper parameters\n",
    "which_projection = \"jaccard\"\n",
    "which_backboning = \"df\"\n",
    "SIGNIF_THRS = 0.95\n",
    "\n",
    "# Load given network and filter our irrelevant edges\n",
    "df = backboning.thresholding(pd.read_csv(\n",
    "    f\"{PATH_TO['data']['backboning']}/{which_backboning}_table_{which_projection}.csv\"),\n",
    "    SIGNIF_THRS\n",
    ")\n",
    "\n",
    "# Load it into networkX graph\n",
    "G1 = nx.convert_matrix.from_pandas_edgelist(df,source=\"src\", target=\"trg\", edge_attr=\"nij\")"
   ]
  },
  {
   "cell_type": "markdown",
   "id": "665dbf4f",
   "metadata": {},
   "source": [
    "### Add metadata to nodes"
   ]
  },
  {
   "cell_type": "code",
   "execution_count": 51,
   "id": "109eead3",
   "metadata": {},
   "outputs": [],
   "source": [
    "# load metadata\n",
    "with open(f\"{PATH_TO['data']['transformed']}/metadata.json\", \"r\") as fp:\n",
    "    metadata = json.load(fp)\n",
    "\n",
    "# add metadata to graph nodes\n",
    "for repo_id, vals in metadata.items():\n",
    "    to_add = {repo_id: vals}\n",
    "    nx.set_node_attributes(G1, to_add, \"metadata\")"
   ]
  },
  {
   "cell_type": "markdown",
   "id": "18a5adf8",
   "metadata": {},
   "source": [
    "### Define utilitity functions"
   ]
  },
  {
   "cell_type": "code",
   "execution_count": 52,
   "id": "c011b37d",
   "metadata": {},
   "outputs": [],
   "source": [
    "def get_node_id(G, node_name):\n",
    "    \n",
    "    \"\"\"\n",
    "    Returns node_id based on the provided node name.\n",
    "    :node_name: str\n",
    "    :return: str\n",
    "    \"\"\"\n",
    "    \n",
    "    return [key for key, info in dict(G.nodes).items() if \"metadata\" in info and info[\"metadata\"][\"repo_name\"] == node_name][0]"
   ]
  },
  {
   "cell_type": "markdown",
   "id": "00ca7089",
   "metadata": {},
   "source": [
    "### Naive approach"
   ]
  },
  {
   "cell_type": "code",
   "execution_count": 53,
   "id": "be11ff7e",
   "metadata": {},
   "outputs": [
    {
     "name": "stdout",
     "output_type": "stream",
     "text": [
      "technoweenie/restful-authentication\n",
      "\n",
      "mislav/will_paginate\n",
      "\n",
      "dchelimsky/rspec\n",
      "\n",
      "thoughtbot/paperclip\n",
      "\n",
      "binarylogic/authlogic\n",
      "\n",
      "aslakhellesoy/cucumber\n",
      "\n",
      "technoweenie/attachment_fu\n",
      "\n",
      "dchelimsky/rspec-rails\n",
      "\n",
      "jamis/capistrano\n",
      "\n",
      "FooBarWidget/passenger\n",
      "\n"
     ]
    }
   ],
   "source": [
    "# Define hyperparemeters\n",
    "how_many = 10\n",
    "repo_name = \"rails/rails\"\n",
    "\n",
    "# Get top neighbors using a naive approach\n",
    "top_edges = sorted([edge for edge in G1.edges(get_node_id(G1, repo_name), data=True)],\n",
    "                 reverse=True,\n",
    "                 key=lambda edge: edge[-1][\"nij\"])[:how_many]\n",
    "\n",
    "# Show the result\n",
    "for edge in top_edges:\n",
    "    print(G.nodes[edge[1]][\"metadata\"][\"repo_name\"])\n",
    "    print()"
   ]
  },
  {
   "cell_type": "markdown",
   "id": "e6020ed8",
   "metadata": {},
   "source": [
    "---"
   ]
  }
 ],
 "metadata": {
  "deepnote": {},
  "deepnote_execution_queue": [],
  "deepnote_notebook_id": "5befc242-845e-4d7f-adb3-0e0bb747a3d1",
  "kernelspec": {
   "display_name": "Python 3",
   "language": "python",
   "name": "python3"
  },
  "language_info": {
   "codemirror_mode": {
    "name": "ipython",
    "version": 3
   },
   "file_extension": ".py",
   "mimetype": "text/x-python",
   "name": "python",
   "nbconvert_exporter": "python",
   "pygments_lexer": "ipython3",
   "version": "3.8.5"
  }
 },
 "nbformat": 4,
 "nbformat_minor": 5
}
