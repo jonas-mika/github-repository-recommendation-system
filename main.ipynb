{
 "cells": [
  {
   "cell_type": "markdown",
   "source": "# Network Analysis Project \n#### Building an Recommendation System from Bipartite Networks\n---\n\n*Ludek Cizinský (luci@itu.dk)*, *Louis Brandt (locb@itu.dk)*, *Lukas Rasocha (lukr@itu.dk)*, *Mika Senghaas (jsen@itu.dk)*, *Jacob Victor Enggaard Haahr (javh@itu.dk)*\n\nCourse Manager: *Michele Coscia*\n\nDeadline: *22nd Decemeber 2021*\n\nLast Modified: *28th September 2021*",
   "metadata": {
    "tags": [],
    "cell_id": "00000-bf007d59-829d-470b-97f9-9cf7555e0f34",
    "deepnote_cell_type": "markdown"
   }
  },
  {
   "cell_type": "markdown",
   "source": "## Assignment Description\n---\nYou will have to deliver your project at the end of the course (deadline to be determined). You have to hand in a presentation (in PDF or Power Point format). It is mandatory to include the following information:\n\n- Basic network description of your data (what type of network it is, what does it represent, is it real or synthetically generated, etc). In practice, the result of project phase #1 (finding data).\n- Basic network statistics of your data (number of nodes, edges, clustering, degree distribution, etc). In practice, the result of project phase #2 (exploratory data analysis).\n- A clear statement of your research question, the result of project phase #3.\n- The analysis, results, and interpretation that allow you to answer your research question, the result of project phase #4.\n\nYou're free to include this in the order you prefer and to add any additional information you deem necessary, but these are the mandatory components.\n\nThe format of the oral is as follows: the students make a joint presentation followed by group questions. Subsequently the students are having individual examination with additional questions while the rest of the group is outside the room. The length of the oral will be 15 minutes X number of group members plus one -- for instance, a group of 6 will have 105 minutes ((6+1)*15). Which means you have 15 minutes of group exam plus 15 minutes of individual exam each.",
   "metadata": {
    "tags": [],
    "cell_id": "00001-fdb6c19e-a11d-4679-944e-fd5ef55563fb",
    "deepnote_cell_type": "markdown"
   }
  },
  {
   "cell_type": "markdown",
   "source": "## Environment Setup\n---\nThis project uses Python libraries that are essential for the performed analysis. Make sure to have the dependencies listed in `requirements.txt` installed locally using the *Python Package Manager* `pip`. If installed, running the next code cell should install all relevant dependencies. Check documentation via the provided links:\n\n- [*NetworkX* Documentation](https://networkx.org/documentation/stable/reference/index.html)\n\n- [*NumPy* Quickstart](https://numpy.org/doc/stable/user/quickstart.html)\n- [*Matplotlib* Documentation](https://matplotlib.org/stable/tutorials/introductory/usage.html)\n- [*Pandas* Documentation](https://pandas.pydata.org/docs/)",
   "metadata": {
    "cell_id": "00000-e216af63-2d3d-472e-b191-f7e7b641052e",
    "deepnote_cell_type": "markdown"
   }
  },
  {
   "cell_type": "markdown",
   "source": "### Libraries",
   "metadata": {
    "tags": [],
    "cell_id": "00003-b4c91587-23d2-472b-8832-f6b1f8959a69",
    "deepnote_cell_type": "markdown"
   }
  },
  {
   "cell_type": "code",
   "metadata": {
    "tags": [],
    "cell_id": "00003-14aee654-90af-4fe0-bac9-74243ece0430",
    "deepnote_to_be_reexecuted": false,
    "source_hash": "6b6b1295",
    "execution_start": 1633892241871,
    "execution_millis": 2955,
    "deepnote_cell_type": "code"
   },
   "source": "%%capture\n!pip install -r requirements.txt",
   "outputs": [],
   "execution_count": null
  },
  {
   "cell_type": "code",
   "metadata": {
    "cell_id": "00001-fee89a0e-b2a2-47b5-9f57-9e9b5bc39684",
    "deepnote_to_be_reexecuted": false,
    "source_hash": "a4893cee",
    "execution_start": 1633892244837,
    "execution_millis": 1884,
    "deepnote_cell_type": "code"
   },
   "source": "# network representation and algorithms\nimport networkx as nx\nfrom networkx.algorithms import bipartite\nfrom pyvis.network import Network\nfrom networkx import linalg as nxla\n\n\nfrom matplotlib import pyplot as plt           # basic plotting\nimport seaborn as sns                          # advanced plotting\nimport numpy as np                             # for representing n-dimensional arrays\nimport scipy as sp                             # numerical computation\nimport pandas as pd                            # dataframes\nfrom sklearn.linear_model import LinearRegression # Power fit\n\n\n\n# python standard library\nimport json                                    # read/ write json\nimport re                                      # regex search \nimport os                                      # os operations\nimport random                                  # randomness",
   "outputs": [],
   "execution_count": null
  },
  {
   "cell_type": "markdown",
   "source": "### Flags\n\nFlags are used to control the run flow of the notebook when executed at once. This is useful, to prevent operations that should only produce a result once, from running multiple times. ",
   "metadata": {
    "tags": [],
    "cell_id": "00004-91fbf149-54bb-4103-8781-05f116ed2e73",
    "deepnote_cell_type": "markdown"
   }
  },
  {
   "cell_type": "code",
   "metadata": {
    "tags": [],
    "cell_id": "00004-53bd492d-9bcd-4b38-aa38-b0a5ded0f905",
    "deepnote_to_be_reexecuted": false,
    "source_hash": "76037a73",
    "execution_start": 1633892246725,
    "execution_millis": 5,
    "deepnote_cell_type": "code"
   },
   "source": "# section flags\nLOAD_DATA = True\nTRANSFORM_DATA = False\nCOMPUTE_PROJECTIONS = False",
   "outputs": [],
   "execution_count": null
  },
  {
   "cell_type": "markdown",
   "source": "### Constants\n\n",
   "metadata": {
    "tags": [],
    "cell_id": "00008-38436e51-9336-4e56-98ee-f9499a210276",
    "deepnote_cell_type": "markdown"
   }
  },
  {
   "cell_type": "code",
   "metadata": {
    "cell_id": "00002-22b35ef9-6971-4ab9-a837-1ac0c1f82e62",
    "deepnote_to_be_reexecuted": false,
    "source_hash": "7708a6",
    "execution_start": 1633892246738,
    "execution_millis": 0,
    "deepnote_cell_type": "code"
   },
   "source": "PATH_TO = {}\nPATH_TO['data'] = {}\nPATH_TO['data']['raw'] = 'data/raw'\nPATH_TO['data']['transformed'] = 'data/transformed'\nPATH_TO['data']['projections'] = 'data/projections'",
   "outputs": [],
   "execution_count": null
  },
  {
   "cell_type": "markdown",
   "source": "### Folder Structure\n\nCreate relevant folders to read from and write to, if not yet existent.",
   "metadata": {
    "tags": [],
    "cell_id": "00010-3d5d8dac-f82c-4a86-ba1d-5b84a95d7552",
    "deepnote_cell_type": "markdown"
   }
  },
  {
   "cell_type": "code",
   "metadata": {
    "tags": [],
    "cell_id": "00011-08e3a7d1-6b4d-4695-a69d-33f4b46e040e",
    "deepnote_to_be_reexecuted": false,
    "source_hash": "84ce9148",
    "execution_start": 1633892246739,
    "execution_millis": 11,
    "deepnote_cell_type": "code"
   },
   "source": "# iterate over path_to dict\nDIRS = ['data/raw', 'data/transformed', 'visualisations', '']\n# what folders do we need (?)\nfor dir in DIRS:\n    # create if not existent\n    pass",
   "outputs": [],
   "execution_count": null
  },
  {
   "cell_type": "markdown",
   "source": "## #01 Loading and Inspecting Raw Data\n---",
   "metadata": {
    "cell_id": "00003-ad4ff0e0-c3b4-4f28-9e82-37ff1be70da7",
    "deepnote_cell_type": "markdown"
   }
  },
  {
   "cell_type": "code",
   "metadata": {
    "cell_id": "00005-b9704f80-1b37-4859-8f1b-fec63d62a33a",
    "deepnote_to_be_reexecuted": false,
    "source_hash": "ec6986c",
    "execution_start": 1633892246750,
    "execution_millis": 301,
    "deepnote_cell_type": "code"
   },
   "source": "if LOAD_DATA:\n    data = pd.read_csv(f\"{PATH_TO['data']['raw']}/data.txt\", delimiter=\":\", names=[\"user_id\", \"repo_id\"])\n    repos = pd.read_csv(f\"{PATH_TO['data']['raw']}/repos.txt\", delimiter=\":\", names=[\"repo_id\", \"meta_info\"])\n    lang = pd.read_csv(f\"{PATH_TO['data']['raw']}/lang.txt\", delimiter=\":\", names=[\"repo_id\", \"meta_info\"])",
   "outputs": [],
   "execution_count": null
  },
  {
   "cell_type": "markdown",
   "source": "### `data.txt`\n\nThis is the main dataset.  Each line is of the format `<user_id>`:`<repo_id>`\nwhich represents a user watching a repository.  There are 440,237 records\nin this file, each a single `user_id` and a single `repository_id` seperated by a colon. This file, thus, represents the bipartite graph of users following repositories as an edge list. The data looks like this:",
   "metadata": {
    "tags": [],
    "cell_id": "00012-a492c094-5e5a-4281-83a9-756fda0ba4da",
    "deepnote_cell_type": "markdown"
   }
  },
  {
   "cell_type": "code",
   "metadata": {
    "tags": [],
    "cell_id": "00012-4ab9f25a-43ff-4672-b4ad-c12ccdfd85a3",
    "deepnote_to_be_reexecuted": false,
    "source_hash": "5d012fde",
    "execution_start": 1633892247057,
    "execution_millis": 97,
    "deepnote_cell_type": "code"
   },
   "source": "print(f\"Size of data.txt: {data.shape}\")\nprint(f\"Number of Unique Users: {len(np.unique(data['user_id']))}\")\nprint(f\"Number of Unique Repos: {len(np.unique(data['repo_id']))}\")\n\ndata.head()",
   "outputs": [
    {
     "name": "stdout",
     "text": "Size of data.txt: (440237, 2)\nNumber of Unique Users: 56519\nNumber of Unique Repos: 120867\n",
     "output_type": "stream"
    },
    {
     "output_type": "execute_result",
     "execution_count": 7,
     "data": {
      "application/vnd.deepnote.dataframe.v2+json": {
       "row_count": 5,
       "column_count": 2,
       "columns": [
        {
         "name": "user_id",
         "dtype": "int64",
         "stats": {
          "unique_count": 5,
          "nan_count": 0,
          "min": "1",
          "max": "5",
          "histogram": [
           {
            "bin_start": 1,
            "bin_end": 1.4,
            "count": 1
           },
           {
            "bin_start": 1.4,
            "bin_end": 1.8,
            "count": 0
           },
           {
            "bin_start": 1.8,
            "bin_end": 2.2,
            "count": 1
           },
           {
            "bin_start": 2.2,
            "bin_end": 2.6,
            "count": 0
           },
           {
            "bin_start": 2.6,
            "bin_end": 3,
            "count": 0
           },
           {
            "bin_start": 3,
            "bin_end": 3.4000000000000004,
            "count": 1
           },
           {
            "bin_start": 3.4000000000000004,
            "bin_end": 3.8000000000000003,
            "count": 0
           },
           {
            "bin_start": 3.8000000000000003,
            "bin_end": 4.2,
            "count": 1
           },
           {
            "bin_start": 4.2,
            "bin_end": 4.6,
            "count": 0
           },
           {
            "bin_start": 4.6,
            "bin_end": 5,
            "count": 1
           }
          ]
         }
        },
        {
         "name": "repo_id",
         "dtype": "int64",
         "stats": {
          "unique_count": 5,
          "nan_count": 0,
          "min": "1",
          "max": "5",
          "histogram": [
           {
            "bin_start": 1,
            "bin_end": 1.4,
            "count": 1
           },
           {
            "bin_start": 1.4,
            "bin_end": 1.8,
            "count": 0
           },
           {
            "bin_start": 1.8,
            "bin_end": 2.2,
            "count": 1
           },
           {
            "bin_start": 2.2,
            "bin_end": 2.6,
            "count": 0
           },
           {
            "bin_start": 2.6,
            "bin_end": 3,
            "count": 0
           },
           {
            "bin_start": 3,
            "bin_end": 3.4000000000000004,
            "count": 1
           },
           {
            "bin_start": 3.4000000000000004,
            "bin_end": 3.8000000000000003,
            "count": 0
           },
           {
            "bin_start": 3.8000000000000003,
            "bin_end": 4.2,
            "count": 1
           },
           {
            "bin_start": 4.2,
            "bin_end": 4.6,
            "count": 0
           },
           {
            "bin_start": 4.6,
            "bin_end": 5,
            "count": 1
           }
          ]
         }
        },
        {
         "name": "_deepnote_index_column",
         "dtype": "int64"
        }
       ],
       "rows_top": [
        {
         "user_id": 1,
         "repo_id": 1,
         "_deepnote_index_column": 0
        },
        {
         "user_id": 2,
         "repo_id": 2,
         "_deepnote_index_column": 1
        },
        {
         "user_id": 3,
         "repo_id": 3,
         "_deepnote_index_column": 2
        },
        {
         "user_id": 4,
         "repo_id": 4,
         "_deepnote_index_column": 3
        },
        {
         "user_id": 5,
         "repo_id": 5,
         "_deepnote_index_column": 4
        }
       ],
       "rows_bottom": null
      },
      "text/plain": "   user_id  repo_id\n0        1        1\n1        2        2\n2        3        3\n3        4        4\n4        5        5",
      "text/html": "<div>\n<style scoped>\n    .dataframe tbody tr th:only-of-type {\n        vertical-align: middle;\n    }\n\n    .dataframe tbody tr th {\n        vertical-align: top;\n    }\n\n    .dataframe thead th {\n        text-align: right;\n    }\n</style>\n<table border=\"1\" class=\"dataframe\">\n  <thead>\n    <tr style=\"text-align: right;\">\n      <th></th>\n      <th>user_id</th>\n      <th>repo_id</th>\n    </tr>\n  </thead>\n  <tbody>\n    <tr>\n      <th>0</th>\n      <td>1</td>\n      <td>1</td>\n    </tr>\n    <tr>\n      <th>1</th>\n      <td>2</td>\n      <td>2</td>\n    </tr>\n    <tr>\n      <th>2</th>\n      <td>3</td>\n      <td>3</td>\n    </tr>\n    <tr>\n      <th>3</th>\n      <td>4</td>\n      <td>4</td>\n    </tr>\n    <tr>\n      <th>4</th>\n      <td>5</td>\n      <td>5</td>\n    </tr>\n  </tbody>\n</table>\n</div>"
     },
     "metadata": {}
    }
   ],
   "execution_count": null
  },
  {
   "cell_type": "markdown",
   "source": "### `repos.txt`\n\nThis file lists out the 120,867 unique repositories using their id (`repo_id`) that are used in the `data.txt`\nset, providing the repository name, date it was created and (if applicable)\nthe repository id that it was forked off of.  The data looks like this:",
   "metadata": {
    "tags": [],
    "cell_id": "00014-9e47b717-6ef6-4113-bead-d2eaaf1e8558",
    "deepnote_cell_type": "markdown"
   }
  },
  {
   "cell_type": "code",
   "metadata": {
    "tags": [],
    "cell_id": "00015-d3554273-2334-404d-bf64-ad204ac9d8b3",
    "deepnote_to_be_reexecuted": false,
    "source_hash": "5be93304",
    "execution_start": 1633892247145,
    "execution_millis": 389,
    "deepnote_cell_type": "code"
   },
   "source": "print(f\"Size of repo.txt: {repos.shape}\")\nprint(f\"ID's of data.txt and repos.txt match: {sum(np.unique(data['repo_id']) == np.unique(repos['repo_id'])) == 120867}\")\nprint(f\"No. of Repos with forking info: {sum(repos['meta_info'].apply(lambda x: len(x.split(','))) == 3)}\")\n\nrepos.head()",
   "outputs": [
    {
     "name": "stdout",
     "text": "Size of repo.txt: (120867, 2)\nID's of data.txt and repos.txt match: True\nNo. of Repos with forking info: 38954\n",
     "output_type": "stream"
    },
    {
     "output_type": "execute_result",
     "execution_count": 8,
     "data": {
      "application/vnd.deepnote.dataframe.v2+json": {
       "row_count": 5,
       "column_count": 2,
       "columns": [
        {
         "name": "repo_id",
         "dtype": "int64",
         "stats": {
          "unique_count": 5,
          "nan_count": 0,
          "min": "1",
          "max": "5",
          "histogram": [
           {
            "bin_start": 1,
            "bin_end": 1.4,
            "count": 1
           },
           {
            "bin_start": 1.4,
            "bin_end": 1.8,
            "count": 0
           },
           {
            "bin_start": 1.8,
            "bin_end": 2.2,
            "count": 1
           },
           {
            "bin_start": 2.2,
            "bin_end": 2.6,
            "count": 0
           },
           {
            "bin_start": 2.6,
            "bin_end": 3,
            "count": 0
           },
           {
            "bin_start": 3,
            "bin_end": 3.4000000000000004,
            "count": 1
           },
           {
            "bin_start": 3.4000000000000004,
            "bin_end": 3.8000000000000003,
            "count": 0
           },
           {
            "bin_start": 3.8000000000000003,
            "bin_end": 4.2,
            "count": 1
           },
           {
            "bin_start": 4.2,
            "bin_end": 4.6,
            "count": 0
           },
           {
            "bin_start": 4.6,
            "bin_end": 5,
            "count": 1
           }
          ]
         }
        },
        {
         "name": "meta_info",
         "dtype": "object",
         "stats": {
          "unique_count": 5,
          "nan_count": 0,
          "categories": [
           {
            "name": "richardc/perl-number-compare,2009-02-26",
            "count": 1
           },
           {
            "name": "axiomsoftware/axiom-inspector,2009-05-09",
            "count": 1
           },
           {
            "name": "3 others",
            "count": 3
           }
          ]
         }
        },
        {
         "name": "_deepnote_index_column",
         "dtype": "int64"
        }
       ],
       "rows_top": [
        {
         "repo_id": 1,
         "meta_info": "richardc/perl-number-compare,2009-02-26",
         "_deepnote_index_column": 0
        },
        {
         "repo_id": 2,
         "meta_info": "axiomsoftware/axiom-inspector,2009-05-09",
         "_deepnote_index_column": 1
        },
        {
         "repo_id": 3,
         "meta_info": "rails/open_id_authentication,2008-05-29",
         "_deepnote_index_column": 2
        },
        {
         "repo_id": 4,
         "meta_info": "brandonkelly/bk.fieldframe.ee_addon,2009-01-31",
         "_deepnote_index_column": 3
        },
        {
         "repo_id": 5,
         "meta_info": "skinofstars/boxfire,2009-01-31",
         "_deepnote_index_column": 4
        }
       ],
       "rows_bottom": null
      },
      "text/plain": "   repo_id                                       meta_info\n0        1         richardc/perl-number-compare,2009-02-26\n1        2        axiomsoftware/axiom-inspector,2009-05-09\n2        3         rails/open_id_authentication,2008-05-29\n3        4  brandonkelly/bk.fieldframe.ee_addon,2009-01-31\n4        5                  skinofstars/boxfire,2009-01-31",
      "text/html": "<div>\n<style scoped>\n    .dataframe tbody tr th:only-of-type {\n        vertical-align: middle;\n    }\n\n    .dataframe tbody tr th {\n        vertical-align: top;\n    }\n\n    .dataframe thead th {\n        text-align: right;\n    }\n</style>\n<table border=\"1\" class=\"dataframe\">\n  <thead>\n    <tr style=\"text-align: right;\">\n      <th></th>\n      <th>repo_id</th>\n      <th>meta_info</th>\n    </tr>\n  </thead>\n  <tbody>\n    <tr>\n      <th>0</th>\n      <td>1</td>\n      <td>richardc/perl-number-compare,2009-02-26</td>\n    </tr>\n    <tr>\n      <th>1</th>\n      <td>2</td>\n      <td>axiomsoftware/axiom-inspector,2009-05-09</td>\n    </tr>\n    <tr>\n      <th>2</th>\n      <td>3</td>\n      <td>rails/open_id_authentication,2008-05-29</td>\n    </tr>\n    <tr>\n      <th>3</th>\n      <td>4</td>\n      <td>brandonkelly/bk.fieldframe.ee_addon,2009-01-31</td>\n    </tr>\n    <tr>\n      <th>4</th>\n      <td>5</td>\n      <td>skinofstars/boxfire,2009-01-31</td>\n    </tr>\n  </tbody>\n</table>\n</div>"
     },
     "metadata": {}
    }
   ],
   "execution_count": null
  },
  {
   "cell_type": "markdown",
   "source": "### `lang.txt`\n\nThe last dataset included is the language breakdown data.  This lists  only contains 73,496 repositories, for which the language data was available. Each line of this file lists the repository id, then a comma delimited list of \n`<lang>`;`<lines>` entries containing each major language found and the number\nof lines of code for that language in the project.  The data looks like this:",
   "metadata": {
    "tags": [],
    "cell_id": "00016-791b6bc2-f446-4171-a9a7-c6bddca22a5a",
    "deepnote_cell_type": "markdown"
   }
  },
  {
   "cell_type": "code",
   "metadata": {
    "tags": [],
    "cell_id": "00017-7ce72ccc-d5b0-43b5-bf04-34e1cea31259",
    "deepnote_to_be_reexecuted": false,
    "source_hash": "5868930",
    "execution_start": 1633892247543,
    "execution_millis": 21,
    "deepnote_cell_type": "code"
   },
   "source": "print(f\"Size of repo.txt: {lang.shape}\")\n\nlang.head()",
   "outputs": [
    {
     "name": "stdout",
     "text": "Size of repo.txt: (73496, 2)\n",
     "output_type": "stream"
    },
    {
     "output_type": "execute_result",
     "execution_count": 9,
     "data": {
      "application/vnd.deepnote.dataframe.v2+json": {
       "row_count": 5,
       "column_count": 2,
       "columns": [
        {
         "name": "repo_id",
         "dtype": "int64",
         "stats": {
          "unique_count": 5,
          "nan_count": 0,
          "min": "8213",
          "max": "82135",
          "histogram": [
           {
            "bin_start": 8213,
            "bin_end": 15605.2,
            "count": 1
           },
           {
            "bin_start": 15605.2,
            "bin_end": 22997.4,
            "count": 1
           },
           {
            "bin_start": 22997.4,
            "bin_end": 30389.6,
            "count": 1
           },
           {
            "bin_start": 30389.6,
            "bin_end": 37781.8,
            "count": 0
           },
           {
            "bin_start": 37781.8,
            "bin_end": 45174,
            "count": 1
           },
           {
            "bin_start": 45174,
            "bin_end": 52566.2,
            "count": 0
           },
           {
            "bin_start": 52566.2,
            "bin_end": 59958.4,
            "count": 0
           },
           {
            "bin_start": 59958.4,
            "bin_end": 67350.6,
            "count": 0
           },
           {
            "bin_start": 67350.6,
            "bin_end": 74742.8,
            "count": 0
           },
           {
            "bin_start": 74742.8,
            "bin_end": 82135,
            "count": 1
           }
          ]
         }
        },
        {
         "name": "meta_info",
         "dtype": "object",
         "stats": {
          "unique_count": 5,
          "nan_count": 0,
          "categories": [
           {
            "name": "JavaScript;802,Ruby;395056",
            "count": 1
           },
           {
            "name": "Shell;173,Java;2580,Groovy;26623,JavaScript;134518",
            "count": 1
           },
           {
            "name": "3 others",
            "count": 3
           }
          ]
         }
        },
        {
         "name": "_deepnote_index_column",
         "dtype": "int64"
        }
       ],
       "rows_top": [
        {
         "repo_id": 8213,
         "meta_info": "JavaScript;802,Ruby;395056",
         "_deepnote_index_column": 0
        },
        {
         "repo_id": 24640,
         "meta_info": "Shell;173,Java;2580,Groovy;26623,JavaScript;134518",
         "_deepnote_index_column": 1
        },
        {
         "repo_id": 41067,
         "meta_info": "Ruby;52570",
         "_deepnote_index_column": 2
        },
        {
         "repo_id": 82135,
         "meta_info": "Ruby;175049",
         "_deepnote_index_column": 3
        },
        {
         "repo_id": 16427,
         "meta_info": "Perl;15008",
         "_deepnote_index_column": 4
        }
       ],
       "rows_bottom": null
      },
      "text/plain": "   repo_id                                          meta_info\n0     8213                         JavaScript;802,Ruby;395056\n1    24640  Shell;173,Java;2580,Groovy;26623,JavaScript;13...\n2    41067                                         Ruby;52570\n3    82135                                        Ruby;175049\n4    16427                                         Perl;15008",
      "text/html": "<div>\n<style scoped>\n    .dataframe tbody tr th:only-of-type {\n        vertical-align: middle;\n    }\n\n    .dataframe tbody tr th {\n        vertical-align: top;\n    }\n\n    .dataframe thead th {\n        text-align: right;\n    }\n</style>\n<table border=\"1\" class=\"dataframe\">\n  <thead>\n    <tr style=\"text-align: right;\">\n      <th></th>\n      <th>repo_id</th>\n      <th>meta_info</th>\n    </tr>\n  </thead>\n  <tbody>\n    <tr>\n      <th>0</th>\n      <td>8213</td>\n      <td>JavaScript;802,Ruby;395056</td>\n    </tr>\n    <tr>\n      <th>1</th>\n      <td>24640</td>\n      <td>Shell;173,Java;2580,Groovy;26623,JavaScript;13...</td>\n    </tr>\n    <tr>\n      <th>2</th>\n      <td>41067</td>\n      <td>Ruby;52570</td>\n    </tr>\n    <tr>\n      <th>3</th>\n      <td>82135</td>\n      <td>Ruby;175049</td>\n    </tr>\n    <tr>\n      <th>4</th>\n      <td>16427</td>\n      <td>Perl;15008</td>\n    </tr>\n  </tbody>\n</table>\n</div>"
     },
     "metadata": {}
    }
   ],
   "execution_count": null
  },
  {
   "cell_type": "markdown",
   "source": "## #02 Transforming Data\n---",
   "metadata": {
    "tags": [],
    "cell_id": "00018-0eb44930-382c-46fa-ad1e-b79e26933056",
    "deepnote_cell_type": "markdown"
   }
  },
  {
   "cell_type": "markdown",
   "source": "###  Adding Class to Nodes in Edge List \n\nIn the edge list `data.txt` the edges connecting a node of type *User* (from now referred to as $U$) to a node of type *Repository* (from now referred to as $R$) cannot be differentiated on each row. To read in the graph object correctly at a later point, we therefore add correct labeling into that dataframef ",
   "metadata": {
    "cell_id": "00006-43286825-c940-40cf-8f2d-4eb121e22cab",
    "deepnote_cell_type": "markdown"
   }
  },
  {
   "cell_type": "code",
   "metadata": {
    "cell_id": "00007-da5fbbdc-c809-498b-93a8-0b4fdccd65a0",
    "deepnote_to_be_reexecuted": false,
    "source_hash": "664ecae9",
    "execution_start": 1633892247555,
    "execution_millis": 1,
    "deepnote_cell_type": "code"
   },
   "source": "if TRANSFORM_DATA:\n    data[\"user_id\"] = data[\"user_id\"].apply(lambda x: \"u\" + str(x))\n    data[\"repo_id\"] = data[\"repo_id\"].apply(lambda x: \"r\" + str(x))",
   "outputs": [],
   "execution_count": null
  },
  {
   "cell_type": "markdown",
   "source": "### Create Metadata",
   "metadata": {
    "cell_id": "00008-237c3979-38e5-48ec-9e31-58d20b850517",
    "deepnote_cell_type": "markdown"
   }
  },
  {
   "cell_type": "code",
   "metadata": {
    "cell_id": "00009-385e0618-75a4-475e-a7b1-e6239c11a736",
    "deepnote_to_be_reexecuted": false,
    "source_hash": "7d10674f",
    "execution_start": 1633892247561,
    "execution_millis": 43,
    "deepnote_cell_type": "code"
   },
   "source": "if TRANSFORM_DATA:\n    # save repo metadata in dictionary\n    metadata = {}\n\n    # save metadata from repos.txt\n    for i in range(len(repos)):\n        repo_id, meta_info = repos.iloc[i]\n\n        # parse the meta info\n        if len(meta_info.split(',')) == 2:\n            repo_name, creation_date, forked_from_id = meta_info.split(',') + [None]\n        else:\n            # you had None here at index 2 as well (not intended?)\n            repo_name, creation_date, forked_from_id = meta_info.split(',')\n\n        # save to dict\n        metadata[f\"r{repo_id}\"] = {\n            \"repo_name\": repo_name,\n            \"creation_date\": creation_date,\n            \"forked_from_id\": forked_from_id\n        }\n    \n    # sve metadata from lang.txt\n    for i in range(len(lang)):\n        repo_id, lang_info = lang.iloc[i]\n       \n        # save it\n        if f\"r{repo_id}\" in metadata.keys():\n            metadata[f\"r{repo_id}\"][\"languages\"] = [l.split(';') for l in lang_info.split(',')]",
   "outputs": [],
   "execution_count": null
  },
  {
   "cell_type": "markdown",
   "source": "Got this error when not checking if key in metadata dict, `KeyError: 'r59337'`. Kinda throws me off, since the metadata keys are initialised by iterating over repos.txt, which should contain all unique repos. that must mean that only is the lang not complete, but also contains records about repos that we don't have in our network data",
   "metadata": {
    "tags": [],
    "cell_id": "00024-fd9ea609-3cd3-4660-b9fd-b48e79c84d3d",
    "deepnote_cell_type": "markdown"
   }
  },
  {
   "cell_type": "markdown",
   "source": "### Save Transformed Files\n\nFor faster access later, the following code cell saves the transformed network data and meta data into the directory `data/transformed`. ",
   "metadata": {
    "cell_id": "00011-10ebb5ab-5813-42c7-b666-8f2752632fb7",
    "deepnote_cell_type": "markdown"
   }
  },
  {
   "cell_type": "code",
   "metadata": {
    "cell_id": "00012-9e2349d8-fd1b-495b-bfdf-0d2b8455fca7",
    "deepnote_to_be_reexecuted": false,
    "source_hash": "382b4fa2",
    "execution_start": 1633892247604,
    "execution_millis": 0,
    "deepnote_cell_type": "code"
   },
   "source": "if TRANSFORM_DATA:\n    # save edge list\n    data.to_csv(f\"{PATH_TO['data']['transformed']}/data.txt\", header=False, index=False)\n\n    # save metadata as json\n    with open(f\"{PATH_TO['data']['transformed']}/metadata.json\", \"w\") as fp:\n        json.dump(metadata, fp)",
   "outputs": [],
   "execution_count": null
  },
  {
   "cell_type": "markdown",
   "source": "## #03 Load Graph \n\nAfter having transformed the raw data in a format that is easily usable to be loaded as a graph object, we load our graph. We are using `networkX` - the standard library in Python for representation, visualisation and computation on graphs. ",
   "metadata": {
    "cell_id": "00013-035fa351-f075-4cb1-a9ae-c9a1387d46f0",
    "deepnote_cell_type": "markdown"
   }
  },
  {
   "cell_type": "code",
   "metadata": {
    "cell_id": "00014-8dc92a4c-3417-49a8-92f6-cbbbf2c35588",
    "deepnote_to_be_reexecuted": false,
    "source_hash": "810161b3",
    "execution_start": 1633892247605,
    "execution_millis": 2214,
    "deepnote_cell_type": "code"
   },
   "source": "# load graph\nG = nx.read_edgelist(f\"{PATH_TO['data']['transformed']}/data.txt\", delimiter=\",\", comments='#', create_using=nx.Graph)",
   "outputs": [],
   "execution_count": null
  },
  {
   "cell_type": "code",
   "metadata": {
    "cell_id": "00015-eb621fa4-d684-4259-a78f-1208ab2ba26d",
    "deepnote_to_be_reexecuted": false,
    "source_hash": "5fc5b167",
    "execution_start": 1633892249824,
    "execution_millis": 1069,
    "deepnote_cell_type": "code"
   },
   "source": "# load metadata\nwith open(f\"{PATH_TO['data']['transformed']}/metadata.json\", \"r\") as fp:\n    metadata = json.load(fp)\n\n# add metadata to graph nodes\nfor repo_id, vals in metadata.items():\n    to_add = {repo_id: vals}\n    nx.set_node_attributes(G, to_add, \"metadata\")",
   "outputs": [],
   "execution_count": null
  },
  {
   "cell_type": "code",
   "metadata": {
    "cell_id": "00016-8356792f-9c49-4b17-9393-1f09256b5606",
    "deepnote_to_be_reexecuted": false,
    "source_hash": "30d7300e",
    "execution_start": 1633892250896,
    "execution_millis": 10,
    "deepnote_cell_type": "code"
   },
   "source": "# Show a random node's attributes\nG.nodes[\"r2\"][\"metadata\"]",
   "outputs": [
    {
     "output_type": "execute_result",
     "execution_count": 15,
     "data": {
      "text/plain": "{'repo_name': 'axiomsoftware/axiom-inspector',\n 'creation_date': '2009-05-09',\n 'forked_from_id': None,\n 'languages': [['JavaScript', '2940890']]}"
     },
     "metadata": {}
    }
   ],
   "execution_count": null
  },
  {
   "cell_type": "markdown",
   "source": "## #04 Basic Network Statistics",
   "metadata": {
    "cell_id": "00017-43c8c4ad-b9ea-4a49-8037-911b85980efd",
    "deepnote_cell_type": "markdown"
   }
  },
  {
   "cell_type": "markdown",
   "source": "### Numerical Summary",
   "metadata": {
    "tags": [],
    "cell_id": "00032-c0476895-cf1a-4b70-8514-1e5b8b38344e",
    "deepnote_cell_type": "markdown"
   }
  },
  {
   "cell_type": "code",
   "metadata": {
    "cell_id": "00018-4abcad05-2059-4c2d-8a51-da164aaa09e2",
    "deepnote_to_be_reexecuted": false,
    "source_hash": "719f03d8",
    "execution_start": 1633892250958,
    "execution_millis": 7,
    "deepnote_cell_type": "code"
   },
   "source": "# Store fundamental properties within pandas DF\noverview = pd.DataFrame(columns=[\"name\", \"is_bipartite\", \"is_directed\", \"is_weighted\", \"has_negative_weights\", \"selfloops_#\", \"nodes_#\", \"edges_#\", \"density\"])",
   "outputs": [],
   "execution_count": null
  },
  {
   "cell_type": "code",
   "metadata": {
    "cell_id": "00019-68f32ce5-95f3-457e-b358-f64b0b6216c8",
    "deepnote_to_be_reexecuted": false,
    "source_hash": "db990c54",
    "execution_start": 1633892250968,
    "execution_millis": 2101,
    "deepnote_cell_type": "code"
   },
   "source": "# save important data to dict\nG_info = dict()\n\n# fundamental stats\nG_info[\"name\"] = \"Github contest 2009\"\nG_info[\"number_of_users\"] = len([node for node in G.nodes() if node[0] == 'u'])\nG_info[\"number_of_repos\"] = len([node for node in G.nodes() if node[0] == 'r'])\nG_info[\"repo_highest_deg\"] = max([len(list(nx.classes.function.neighbors(G, node))) for node in G.nodes() if node[0] == 'r'])\nG_info[\"repo_highest_deg_name\"] = G.nodes[[node for node in G.nodes() if node[0] == 'r' and len(list(nx.classes.function.neighbors(G, node))) == G_info[\"repo_highest_deg\"]][0]][\"metadata\"][\"repo_name\"]\nG_info[\"user_highest_deg\"] = max([len(list(nx.classes.function.neighbors(G, node))) for node in G.nodes() if node[0] == 'u'])\nG_info[\"is_directed\"] = nx.is_directed(G)\nG_info[\"is_weighted\"] = nx.is_weighted(G)\nG_info[\"has_negative_weights\"] = nx.is_negatively_weighted(G)\nG_info[\"selfloops_#\"] = nx.number_of_selfloops(G)\nG_info[\"nodes_#\"] = nx.number_of_nodes(G)\nG_info[\"edges_#\"] = nx.number_of_edges(G)\nG_info[\"density\"] = nx.density(G)\nG_info[\"is_bipartite\"] = bool(nx.is_bipartite(G))\n\n# add it do the overview\noverview = overview.append(G_info, ignore_index=True)\noverview",
   "outputs": [
    {
     "output_type": "execute_result",
     "execution_count": 17,
     "data": {
      "application/vnd.deepnote.dataframe.v2+json": {
       "row_count": 1,
       "column_count": 14,
       "columns": [
        {
         "name": "name",
         "dtype": "object",
         "stats": {
          "unique_count": 1,
          "nan_count": 0,
          "categories": [
           {
            "name": "Github contest 2009",
            "count": 1
           }
          ]
         }
        },
        {
         "name": "is_bipartite",
         "dtype": "object",
         "stats": {
          "unique_count": 1,
          "nan_count": 0,
          "categories": [
           {
            "name": "True",
            "count": 1
           }
          ]
         }
        },
        {
         "name": "is_directed",
         "dtype": "object",
         "stats": {
          "unique_count": 1,
          "nan_count": 0,
          "categories": [
           {
            "name": "False",
            "count": 1
           }
          ]
         }
        },
        {
         "name": "is_weighted",
         "dtype": "object",
         "stats": {
          "unique_count": 1,
          "nan_count": 0,
          "categories": [
           {
            "name": "False",
            "count": 1
           }
          ]
         }
        },
        {
         "name": "has_negative_weights",
         "dtype": "object",
         "stats": {
          "unique_count": 1,
          "nan_count": 0,
          "categories": [
           {
            "name": "False",
            "count": 1
           }
          ]
         }
        },
        {
         "name": "selfloops_#",
         "dtype": "object",
         "stats": {
          "unique_count": 1,
          "nan_count": 0,
          "categories": [
           {
            "name": "0",
            "count": 1
           }
          ]
         }
        },
        {
         "name": "nodes_#",
         "dtype": "object",
         "stats": {
          "unique_count": 1,
          "nan_count": 0,
          "categories": [
           {
            "name": "177386",
            "count": 1
           }
          ]
         }
        },
        {
         "name": "edges_#",
         "dtype": "object",
         "stats": {
          "unique_count": 1,
          "nan_count": 0,
          "categories": [
           {
            "name": "440237",
            "count": 1
           }
          ]
         }
        },
        {
         "name": "density",
         "dtype": "float64",
         "stats": {
          "unique_count": 1,
          "nan_count": 0,
          "min": "2.7982099918622886e-05",
          "max": "2.7982099918622886e-05",
          "histogram": [
           {
            "bin_start": -0.4999720179000814,
            "bin_end": -0.3999720179000814,
            "count": 0
           },
           {
            "bin_start": -0.3999720179000814,
            "bin_end": -0.2999720179000814,
            "count": 0
           },
           {
            "bin_start": -0.2999720179000814,
            "bin_end": -0.19997201790008134,
            "count": 0
           },
           {
            "bin_start": -0.19997201790008134,
            "bin_end": -0.09997201790008137,
            "count": 0
           },
           {
            "bin_start": -0.09997201790008137,
            "bin_end": 0.000027982099918610892,
            "count": 0
           },
           {
            "bin_start": 0.000027982099918610892,
            "bin_end": 0.1000279820999187,
            "count": 1
           },
           {
            "bin_start": 0.1000279820999187,
            "bin_end": 0.20002798209991868,
            "count": 0
           },
           {
            "bin_start": 0.20002798209991868,
            "bin_end": 0.30002798209991866,
            "count": 0
           },
           {
            "bin_start": 0.30002798209991866,
            "bin_end": 0.40002798209991863,
            "count": 0
           },
           {
            "bin_start": 0.40002798209991863,
            "bin_end": 0.5000279820999186,
            "count": 0
           }
          ]
         }
        },
        {
         "name": "number_of_repos",
         "dtype": "float64",
         "stats": {
          "unique_count": 1,
          "nan_count": 0,
          "min": "120867.0",
          "max": "120867.0",
          "histogram": [
           {
            "bin_start": 120866.5,
            "bin_end": 120866.6,
            "count": 0
           },
           {
            "bin_start": 120866.6,
            "bin_end": 120866.7,
            "count": 0
           },
           {
            "bin_start": 120866.7,
            "bin_end": 120866.8,
            "count": 0
           },
           {
            "bin_start": 120866.8,
            "bin_end": 120866.9,
            "count": 0
           },
           {
            "bin_start": 120866.9,
            "bin_end": 120867,
            "count": 0
           },
           {
            "bin_start": 120867,
            "bin_end": 120867.1,
            "count": 1
           },
           {
            "bin_start": 120867.1,
            "bin_end": 120867.2,
            "count": 0
           },
           {
            "bin_start": 120867.2,
            "bin_end": 120867.3,
            "count": 0
           },
           {
            "bin_start": 120867.3,
            "bin_end": 120867.4,
            "count": 0
           },
           {
            "bin_start": 120867.4,
            "bin_end": 120867.5,
            "count": 0
           }
          ]
         }
        },
        {
         "name": "number_of_users",
         "dtype": "float64",
         "stats": {
          "unique_count": 1,
          "nan_count": 0,
          "min": "56519.0",
          "max": "56519.0",
          "histogram": [
           {
            "bin_start": 56518.5,
            "bin_end": 56518.6,
            "count": 0
           },
           {
            "bin_start": 56518.6,
            "bin_end": 56518.7,
            "count": 0
           },
           {
            "bin_start": 56518.7,
            "bin_end": 56518.8,
            "count": 0
           },
           {
            "bin_start": 56518.8,
            "bin_end": 56518.9,
            "count": 0
           },
           {
            "bin_start": 56518.9,
            "bin_end": 56519,
            "count": 0
           },
           {
            "bin_start": 56519,
            "bin_end": 56519.1,
            "count": 1
           },
           {
            "bin_start": 56519.1,
            "bin_end": 56519.2,
            "count": 0
           },
           {
            "bin_start": 56519.2,
            "bin_end": 56519.3,
            "count": 0
           },
           {
            "bin_start": 56519.3,
            "bin_end": 56519.4,
            "count": 0
           },
           {
            "bin_start": 56519.4,
            "bin_end": 56519.5,
            "count": 0
           }
          ]
         }
        },
        {
         "name": "repo_highest_deg",
         "dtype": "float64",
         "stats": {
          "unique_count": 1,
          "nan_count": 0,
          "min": "3675.0",
          "max": "3675.0",
          "histogram": [
           {
            "bin_start": 3674.5,
            "bin_end": 3674.6,
            "count": 0
           },
           {
            "bin_start": 3674.6,
            "bin_end": 3674.7,
            "count": 0
           },
           {
            "bin_start": 3674.7,
            "bin_end": 3674.8,
            "count": 0
           },
           {
            "bin_start": 3674.8,
            "bin_end": 3674.9,
            "count": 0
           },
           {
            "bin_start": 3674.9,
            "bin_end": 3675,
            "count": 0
           },
           {
            "bin_start": 3675,
            "bin_end": 3675.1,
            "count": 1
           },
           {
            "bin_start": 3675.1,
            "bin_end": 3675.2,
            "count": 0
           },
           {
            "bin_start": 3675.2,
            "bin_end": 3675.3,
            "count": 0
           },
           {
            "bin_start": 3675.3,
            "bin_end": 3675.4,
            "count": 0
           },
           {
            "bin_start": 3675.4,
            "bin_end": 3675.5,
            "count": 0
           }
          ]
         }
        },
        {
         "name": "repo_highest_deg_name",
         "dtype": "object",
         "stats": {
          "unique_count": 1,
          "nan_count": 0,
          "categories": [
           {
            "name": "rails/rails",
            "count": 1
           }
          ]
         }
        },
        {
         "name": "user_highest_deg",
         "dtype": "float64",
         "stats": {
          "unique_count": 1,
          "nan_count": 0,
          "min": "884.0",
          "max": "884.0",
          "histogram": [
           {
            "bin_start": 883.5,
            "bin_end": 883.6,
            "count": 0
           },
           {
            "bin_start": 883.6,
            "bin_end": 883.7,
            "count": 0
           },
           {
            "bin_start": 883.7,
            "bin_end": 883.8,
            "count": 0
           },
           {
            "bin_start": 883.8,
            "bin_end": 883.9,
            "count": 0
           },
           {
            "bin_start": 883.9,
            "bin_end": 884,
            "count": 0
           },
           {
            "bin_start": 884,
            "bin_end": 884.1,
            "count": 1
           },
           {
            "bin_start": 884.1,
            "bin_end": 884.2,
            "count": 0
           },
           {
            "bin_start": 884.2,
            "bin_end": 884.3,
            "count": 0
           },
           {
            "bin_start": 884.3,
            "bin_end": 884.4,
            "count": 0
           },
           {
            "bin_start": 884.4,
            "bin_end": 884.5,
            "count": 0
           }
          ]
         }
        },
        {
         "name": "_deepnote_index_column",
         "dtype": "int64"
        }
       ],
       "rows_top": [
        {
         "name": "Github contest 2009",
         "is_bipartite": "True",
         "is_directed": "False",
         "is_weighted": "False",
         "has_negative_weights": "False",
         "selfloops_#": "0",
         "nodes_#": "177386",
         "edges_#": "440237",
         "density": 0.000027982099918622886,
         "number_of_repos": 120867,
         "number_of_users": 56519,
         "repo_highest_deg": 3675,
         "repo_highest_deg_name": "rails/rails",
         "user_highest_deg": 884,
         "_deepnote_index_column": 0
        }
       ],
       "rows_bottom": null
      },
      "text/plain": "                  name is_bipartite is_directed is_weighted  \\\n0  Github contest 2009         True       False       False   \n\n  has_negative_weights selfloops_# nodes_# edges_#   density  number_of_repos  \\\n0                False           0  177386  440237  0.000028         120867.0   \n\n   number_of_users  repo_highest_deg repo_highest_deg_name  user_highest_deg  \n0          56519.0            3675.0           rails/rails             884.0  ",
      "text/html": "<div>\n<style scoped>\n    .dataframe tbody tr th:only-of-type {\n        vertical-align: middle;\n    }\n\n    .dataframe tbody tr th {\n        vertical-align: top;\n    }\n\n    .dataframe thead th {\n        text-align: right;\n    }\n</style>\n<table border=\"1\" class=\"dataframe\">\n  <thead>\n    <tr style=\"text-align: right;\">\n      <th></th>\n      <th>name</th>\n      <th>is_bipartite</th>\n      <th>is_directed</th>\n      <th>is_weighted</th>\n      <th>has_negative_weights</th>\n      <th>selfloops_#</th>\n      <th>nodes_#</th>\n      <th>edges_#</th>\n      <th>density</th>\n      <th>number_of_repos</th>\n      <th>number_of_users</th>\n      <th>repo_highest_deg</th>\n      <th>repo_highest_deg_name</th>\n      <th>user_highest_deg</th>\n    </tr>\n  </thead>\n  <tbody>\n    <tr>\n      <th>0</th>\n      <td>Github contest 2009</td>\n      <td>True</td>\n      <td>False</td>\n      <td>False</td>\n      <td>False</td>\n      <td>0</td>\n      <td>177386</td>\n      <td>440237</td>\n      <td>0.000028</td>\n      <td>120867.0</td>\n      <td>56519.0</td>\n      <td>3675.0</td>\n      <td>rails/rails</td>\n      <td>884.0</td>\n    </tr>\n  </tbody>\n</table>\n</div>"
     },
     "metadata": {}
    }
   ],
   "execution_count": null
  },
  {
   "cell_type": "markdown",
   "source": "### Top 10 repositories",
   "metadata": {
    "tags": [],
    "cell_id": "00036-39b21e1a-ea2b-4ef4-b205-572b9714d2c8",
    "deepnote_cell_type": "markdown"
   }
  },
  {
   "cell_type": "code",
   "metadata": {
    "tags": [],
    "cell_id": "00037-a4f41736-2948-48ac-874c-cd388e1ab01b",
    "deepnote_to_be_reexecuted": false,
    "source_hash": "72461587",
    "execution_start": 1633892253108,
    "execution_millis": 845,
    "deepnote_cell_type": "code"
   },
   "source": "repos_degree = sorted([(repo, G.degree(repo)) for repo in G.nodes() if repo[0] == 'r'], key=lambda x: x[1], reverse=True)[:10]\nrepo_info = {\n    \"name\": [G.nodes[repo_tuple[0]][\"metadata\"][\"repo_name\"] for repo_tuple in repos_degree],\n    \"degree\": [repo_tuple[1] for repo_tuple in repos_degree],\n    \"technology_stack\": [G.nodes[repo_tuple[0]][\"metadata\"][\"languages\"] for repo_tuple in repos_degree]\n}\ntop_10_repos = pd.DataFrame(repo_info)\ntop_10_repos",
   "outputs": [
    {
     "output_type": "execute_result",
     "execution_count": 18,
     "data": {
      "application/vnd.deepnote.dataframe.v2+json": {
       "row_count": 10,
       "column_count": 3,
       "columns": [
        {
         "name": "name",
         "dtype": "object",
         "stats": {
          "unique_count": 10,
          "nan_count": 0,
          "categories": [
           {
            "name": "rails/rails",
            "count": 1
           },
           {
            "name": "technoweenie/restful-authentication",
            "count": 1
           },
           {
            "name": "8 others",
            "count": 8
           }
          ]
         }
        },
        {
         "name": "degree",
         "dtype": "int64",
         "stats": {
          "unique_count": 10,
          "nan_count": 0,
          "min": "1006",
          "max": "3675",
          "histogram": [
           {
            "bin_start": 1006,
            "bin_end": 1272.9,
            "count": 4
           },
           {
            "bin_start": 1272.9,
            "bin_end": 1539.8,
            "count": 2
           },
           {
            "bin_start": 1539.8,
            "bin_end": 1806.6999999999998,
            "count": 2
           },
           {
            "bin_start": 1806.6999999999998,
            "bin_end": 2073.6,
            "count": 1
           },
           {
            "bin_start": 2073.6,
            "bin_end": 2340.5,
            "count": 0
           },
           {
            "bin_start": 2340.5,
            "bin_end": 2607.3999999999996,
            "count": 0
           },
           {
            "bin_start": 2607.3999999999996,
            "bin_end": 2874.2999999999997,
            "count": 0
           },
           {
            "bin_start": 2874.2999999999997,
            "bin_end": 3141.2,
            "count": 0
           },
           {
            "bin_start": 3141.2,
            "bin_end": 3408.1,
            "count": 0
           },
           {
            "bin_start": 3408.1,
            "bin_end": 3675,
            "count": 1
           }
          ]
         }
        },
        {
         "name": "technology_stack",
         "dtype": "object",
         "stats": {
          "unique_count": 10,
          "nan_count": 0,
          "categories": [
           {
            "name": "[['JavaScript', '2438'], ['Ruby', '5423161']]",
            "count": 1
           },
           {
            "name": "[['Ruby', '140923']]",
            "count": 1
           },
           {
            "name": "8 others",
            "count": 8
           }
          ]
         }
        },
        {
         "name": "_deepnote_index_column",
         "dtype": "int64"
        }
       ],
       "rows_top": [
        {
         "name": "rails/rails",
         "degree": 3675,
         "technology_stack": "[['JavaScript', '2438'], ['Ruby', '5423161']]",
         "_deepnote_index_column": 0
        },
        {
         "name": "technoweenie/restful-authentication",
         "degree": 1929,
         "technology_stack": "[['Ruby', '140923']]",
         "_deepnote_index_column": 1
        },
        {
         "name": "mislav/will_paginate",
         "degree": 1611,
         "technology_stack": "[['Ruby', '90684']]",
         "_deepnote_index_column": 2
        },
        {
         "name": "joshuaclayton/blueprint-css",
         "degree": 1565,
         "technology_stack": "[['Ruby', '32998']]",
         "_deepnote_index_column": 3
        },
        {
         "name": "binarylogic/authlogic",
         "degree": 1438,
         "technology_stack": "[['Ruby', '236385']]",
         "_deepnote_index_column": 4
        },
        {
         "name": "thoughtbot/paperclip",
         "degree": 1362,
         "technology_stack": "[['Ruby', '153462']]",
         "_deepnote_index_column": 5
        },
        {
         "name": "aslakhellesoy/cucumber",
         "degree": 1159,
         "technology_stack": "[['C Sharp', '339'], ['Java', '355'], ['Ruby', '319537']]",
         "_deepnote_index_column": 6
        },
        {
         "name": "madrobby/scriptaculous",
         "degree": 1136,
         "technology_stack": "[['Ruby', '3893'], ['JavaScript', '40316']]",
         "_deepnote_index_column": 7
        },
        {
         "name": "dchelimsky/rspec",
         "degree": 1100,
         "technology_stack": "[['Ruby', '726592']]",
         "_deepnote_index_column": 8
        },
        {
         "name": "technoweenie/attachment_fu",
         "degree": 1006,
         "technology_stack": "[['Ruby', '132960']]",
         "_deepnote_index_column": 9
        }
       ],
       "rows_bottom": null
      },
      "text/plain": "                                  name  degree  \\\n0                          rails/rails    3675   \n1  technoweenie/restful-authentication    1929   \n2                 mislav/will_paginate    1611   \n3          joshuaclayton/blueprint-css    1565   \n4                binarylogic/authlogic    1438   \n5                 thoughtbot/paperclip    1362   \n6               aslakhellesoy/cucumber    1159   \n7               madrobby/scriptaculous    1136   \n8                     dchelimsky/rspec    1100   \n9           technoweenie/attachment_fu    1006   \n\n                                technology_stack  \n0          [[JavaScript, 2438], [Ruby, 5423161]]  \n1                               [[Ruby, 140923]]  \n2                                [[Ruby, 90684]]  \n3                                [[Ruby, 32998]]  \n4                               [[Ruby, 236385]]  \n5                               [[Ruby, 153462]]  \n6  [[C Sharp, 339], [Java, 355], [Ruby, 319537]]  \n7            [[Ruby, 3893], [JavaScript, 40316]]  \n8                               [[Ruby, 726592]]  \n9                               [[Ruby, 132960]]  ",
      "text/html": "<div>\n<style scoped>\n    .dataframe tbody tr th:only-of-type {\n        vertical-align: middle;\n    }\n\n    .dataframe tbody tr th {\n        vertical-align: top;\n    }\n\n    .dataframe thead th {\n        text-align: right;\n    }\n</style>\n<table border=\"1\" class=\"dataframe\">\n  <thead>\n    <tr style=\"text-align: right;\">\n      <th></th>\n      <th>name</th>\n      <th>degree</th>\n      <th>technology_stack</th>\n    </tr>\n  </thead>\n  <tbody>\n    <tr>\n      <th>0</th>\n      <td>rails/rails</td>\n      <td>3675</td>\n      <td>[[JavaScript, 2438], [Ruby, 5423161]]</td>\n    </tr>\n    <tr>\n      <th>1</th>\n      <td>technoweenie/restful-authentication</td>\n      <td>1929</td>\n      <td>[[Ruby, 140923]]</td>\n    </tr>\n    <tr>\n      <th>2</th>\n      <td>mislav/will_paginate</td>\n      <td>1611</td>\n      <td>[[Ruby, 90684]]</td>\n    </tr>\n    <tr>\n      <th>3</th>\n      <td>joshuaclayton/blueprint-css</td>\n      <td>1565</td>\n      <td>[[Ruby, 32998]]</td>\n    </tr>\n    <tr>\n      <th>4</th>\n      <td>binarylogic/authlogic</td>\n      <td>1438</td>\n      <td>[[Ruby, 236385]]</td>\n    </tr>\n    <tr>\n      <th>5</th>\n      <td>thoughtbot/paperclip</td>\n      <td>1362</td>\n      <td>[[Ruby, 153462]]</td>\n    </tr>\n    <tr>\n      <th>6</th>\n      <td>aslakhellesoy/cucumber</td>\n      <td>1159</td>\n      <td>[[C Sharp, 339], [Java, 355], [Ruby, 319537]]</td>\n    </tr>\n    <tr>\n      <th>7</th>\n      <td>madrobby/scriptaculous</td>\n      <td>1136</td>\n      <td>[[Ruby, 3893], [JavaScript, 40316]]</td>\n    </tr>\n    <tr>\n      <th>8</th>\n      <td>dchelimsky/rspec</td>\n      <td>1100</td>\n      <td>[[Ruby, 726592]]</td>\n    </tr>\n    <tr>\n      <th>9</th>\n      <td>technoweenie/attachment_fu</td>\n      <td>1006</td>\n      <td>[[Ruby, 132960]]</td>\n    </tr>\n  </tbody>\n</table>\n</div>"
     },
     "metadata": {}
    }
   ],
   "execution_count": null
  },
  {
   "cell_type": "code",
   "metadata": {
    "tags": [],
    "cell_id": "00038-501f3617-e4bb-462c-9eb9-8f7554cad72a",
    "deepnote_to_be_reexecuted": false,
    "source_hash": "b9f97b35",
    "execution_start": 1633892253883,
    "execution_millis": 70,
    "deepnote_cell_type": "code"
   },
   "source": "set(G[\"u54540\"])",
   "outputs": [
    {
     "output_type": "execute_result",
     "execution_count": 19,
     "data": {
      "text/plain": "{'r115565'}"
     },
     "metadata": {}
    }
   ],
   "execution_count": null
  },
  {
   "cell_type": "markdown",
   "source": "### Degree distribution",
   "metadata": {
    "tags": [],
    "cell_id": "00036-3d1e473c-b254-45c0-bf0c-3f7a83fbf19f",
    "deepnote_cell_type": "markdown"
   }
  },
  {
   "cell_type": "code",
   "metadata": {
    "tags": [],
    "cell_id": "00037-6fb934ad-b750-4029-8b9c-b229525184ca",
    "deepnote_to_be_reexecuted": false,
    "source_hash": "d29b8593",
    "execution_start": 1633892253931,
    "execution_millis": 2567,
    "deepnote_cell_type": "code"
   },
   "source": "user_degree = [G.degree(n) for n in G.nodes() if n[0] == 'u']\nrepos_degree = [G.degree(n) for n in G.nodes() if n[0] == 'r']\n\nuser_degree, count_user_degree = np.unique(user_degree, return_counts=True)\nrepos_degree, count_repos_degree = np.unique(repos_degree, return_counts=True)\n\n#Normalize\ncount_user_degree = count_user_degree / sum(count_user_degree)\ncount_repos_degree = count_repos_degree / sum(count_repos_degree)\n\n#CDF\ncdf_user_degree = user_degree.cumsum() / np.sum(user_degree)\ncdf_repos_degree = repos_degree.cumsum() / np.sum(repos_degree)\n\n#CCDF\nccdf_user_degree = 1-cdf_user_degree\nccdf_repos_degree = 1-cdf_repos_degree\n\n#Plotting on a log-log scale\nfig, axes = plt.subplots(nrows=2, ncols=2, figsize=(13, 12))\naxes[0][0].plot(repos_degree, count_repos_degree,'.')\naxes[0][0].set_xlabel('Degree')\naxes[0][0].set_title('Repos degree')\naxes[0][0].set_ylabel('p(k)')\naxes[0][0].set_yscale('log')\naxes[0][0].set_xscale('log')\n\n\naxes[0][1].plot(user_degree, count_user_degree,'.')\naxes[0][1].set_title('User degree')\naxes[0][1].set_xlabel('Degree')\naxes[0][1].set_ylabel('p(k)')\naxes[0][1].set_yscale('log')\naxes[0][1].set_xscale('log')\n\n#CCDF\n#Repos ccdf\naxes[1][0].plot(repos_degree,ccdf_repos_degree)\naxes[1][0].set_title('Repos CCDF')\naxes[1][0].set_xlabel('x')\naxes[1][0].set_ylabel('p(k>=x)')\naxes[1][0].set_yscale('log')\naxes[1][0].set_xscale('log')\n\n#User ccdf\naxes[1][1].plot(user_degree,ccdf_user_degree)\naxes[1][1].set_title('USER CCDF')\naxes[1][1].set_xlabel('x')\naxes[1][1].set_ylabel('p(k>=x)')\naxes[1][1].set_yscale('log')\naxes[1][1].set_xscale('log')\nplt.show()",
   "outputs": [
    {
     "data": {
      "text/plain": "<Figure size 936x864 with 4 Axes>",
      "image/png": "[encoded data removed]"
     },
     "metadata": {
      "needs_background": "light",
      "image/png": {
       "width": 785,
       "height": 717
      }
     },
     "output_type": "display_data"
    }
   ],
   "execution_count": null
  },
  {
   "cell_type": "markdown",
   "source": "### Power law fit\n\n- needs some tuning, trying to visualize the shifted power law?",
   "metadata": {
    "tags": [],
    "cell_id": "00038-1fd838d9-9510-4d37-ae0d-f79d6b1ab5ea",
    "deepnote_cell_type": "markdown"
   }
  },
  {
   "cell_type": "code",
   "metadata": {
    "tags": [],
    "cell_id": "00039-9595dd92-59ef-4bd6-a029-f1835de01a8d",
    "deepnote_to_be_reexecuted": false,
    "source_hash": "3f80c4de",
    "execution_start": 1633892256543,
    "execution_millis": 492,
    "deepnote_cell_type": "code"
   },
   "source": "#Power law fit\n\n\nx_data = [repos_degree,user_degree,repos_degree,user_degree]\ny_data = [count_repos_degree,count_user_degree,ccdf_repos_degree,ccdf_user_degree]\ntitles = ['Repos degree','User degree','Repos CCDF','User CCDF']\n\n#Transforming the scale and checking for 0 (where log is not defined)\n# 0 comes from the CCDF because there is a 0 probability that x will be larger than the absolutely largest \n# degree in the network\n\nx_trans_data = [np.where(i != 0, np.log10(i), 0) for i in x_data]\ny_trans_data = [np.where(i != 0, np.log10(i), 0) for i in y_data]\n\n\nfig, axes = plt.subplots(2,2, figsize=(10, 10), facecolor='w', edgecolor='k')\naxes = axes.ravel()\n\nfor i in range(4):\n    x,y = x_trans_data[i].reshape((-1,1)), y_trans_data[i]\n\n    model = LinearRegression()\n    model = model.fit(x,y)\n\n    xs = np.linspace(np.min(x),np.max(x)+0.5,100)\n\n    ys = model.predict(xs.reshape((-1,1)))\n\n    axes[i].plot(x,y,'.')\n    axes[i].plot(xs,ys)\n    axes[i].set_title(titles[i])\n    ",
   "outputs": [
    {
     "name": "stderr",
     "text": "/tmp/ipykernel_1184/4175192050.py:13: RuntimeWarning: divide by zero encountered in log10\n  y_trans_data = [np.where(i != 0, np.log10(i), 0) for i in y_data]\n",
     "output_type": "stream"
    },
    {
     "data": {
      "text/plain": "<Figure size 720x720 with 4 Axes>",
      "image/png": "[encoded data removed]"
     },
     "metadata": {
      "image/png": {
       "width": 610,
       "height": 590
      }
     },
     "output_type": "display_data"
    }
   ],
   "execution_count": null
  },
  {
   "cell_type": "markdown",
   "source": "## #05 Projections",
   "metadata": {
    "tags": [],
    "cell_id": "00036-7142cda8-9b08-4aab-8b82-c2f624e4309f",
    "deepnote_cell_type": "markdown"
   }
  },
  {
   "cell_type": "code",
   "metadata": {
    "tags": [],
    "cell_id": "00037-93bc004e-3614-4f7e-94cc-9eb25bb8fe2f",
    "deepnote_to_be_reexecuted": false,
    "source_hash": "165d96a3",
    "execution_start": 1633892257052,
    "execution_millis": 35,
    "deepnote_cell_type": "code"
   },
   "source": "# Get V2, i.e., set of nodes representing repositories in acending sorted order by id\nrepos = [node for node in G.nodes() if node[0] == 'r']\nusers = [node for node in G.nodes() if node[0] == 'u']\n\n# Show the start\nprint(repos[:5])\nprint(users[:5])",
   "outputs": [
    {
     "name": "stdout",
     "text": "['r1', 'r2', 'r3', 'r4', 'r5']\n['u1', 'u2', 'u3', 'u4', 'u5']\n",
     "output_type": "stream"
    }
   ],
   "execution_count": null
  },
  {
   "cell_type": "code",
   "metadata": {
    "tags": [],
    "cell_id": "00038-7e59b974-93b0-4f9b-9459-a392bce16da1",
    "deepnote_to_be_reexecuted": false,
    "source_hash": "a40d968c",
    "execution_start": 1633892257101,
    "execution_millis": 2211,
    "deepnote_cell_type": "code"
   },
   "source": "# Get adjacency matrix for our network --> returns sparse scipy matrix; rows are repos, column are users\nG_adj = bipartite.matrix.biadjacency_matrix(G, row_order=repos)\n\n# Get its transpose\nG_adj_T = sp.sparse.csr_matrix.transpose(G_adj)",
   "outputs": [],
   "execution_count": null
  },
  {
   "cell_type": "markdown",
   "source": "### `Simple weights`\n\n- **general idea:** Given two repositories $u$ and $v$ and their set of neighbors $N_u$ and $N_v$, we connect the two repositories if the set $N_u \\cap N_v$ is non-empty. In addition, we assign weight $W_{u, v}$ to the edge such that $W = |N_u \\cap N_v|$. ",
   "metadata": {
    "tags": [],
    "cell_id": "00037-ca37c750-1d86-4946-9cb3-9c5dae551377",
    "deepnote_cell_type": "markdown"
   }
  },
  {
   "cell_type": "code",
   "metadata": {
    "tags": [],
    "cell_id": "00044-0340d818-815d-4570-8487-f4e615a9547d",
    "deepnote_to_be_reexecuted": false,
    "source_hash": "a7be6215",
    "execution_start": 1633892259322,
    "execution_millis": 16,
    "deepnote_cell_type": "code"
   },
   "source": "users = [node for node in G.nodes() if node[0] == 'u']",
   "outputs": [],
   "execution_count": null
  },
  {
   "cell_type": "code",
   "metadata": {
    "tags": [],
    "cell_id": "00044-cc714010-15ce-4497-89d1-02abaf85cf8d",
    "deepnote_to_be_reexecuted": false,
    "source_hash": "5ed5a4ee",
    "execution_start": 1633892259375,
    "execution_millis": 8375,
    "deepnote_cell_type": "code"
   },
   "source": "# weight functions\ndef simple_weight(G, u, v):\n    n_u, n_v = set(G[u]), set(G[v])\n    # len of set of intersection\n    return len(n_u & n_v) \n\ndef jaccard(G, u, v):\n    n_u, n_v = set(G[u]), set(G[v])\n    # normalise len of set of intersectin by union\n    return len(n_u & n_v) / len(n_u | n_v)\n\ndef vectorised_projection(G, u, v, metric='simple_weight'):\n    v_u = np.array([1 if user in set(G[u]) else 0 for user in users])\n    v_v = np.array([1 if user in set(G[v]) else 0 for user in users])\n    \n    if metric == 'simple_weight':\n        return np.sum((v_u + v_v) == 2)\n\n    elif metric == 'euclidean':\n        # sp.spatial.distance.euclidean(v_u, v_v)\n        return np.sqrt(np.sum(np.power((v_u - v_v),2)))  \n\n    elif metric == 'normalised_euclidean':\n        return 1 / (vectorised_projection(G, u, v, metric='euclidean') + 1)\n\n    elif metric == 'pearson':\n        return sp.stats.stats.pearsonr(v_u, v_v)[0] + 1\n\n    elif metric == 'cosine':\n        return 1 - sp.spatial.distance.cosine(v_u, v_v)\n\n    else:\n        print(\"Please specify one of the following metrics: ['simple_weight', 'euclidean', 'normalised_euclidean', 'pearson', 'cosine'].\")\n\n    \ndef hyperbolic(G, u, v):\n    common = set(G[u]) & set(G[v])\n    return sum([1/(len(set(G[node])) - 1) for node in common])\n    \ndef probs(G, u, v):  \n    common = set(G[u]) & set(G[v])\n    return sum([1/(len(set(G[node]))*len(set(G[u]))) for node in common])\n\ndef heats(G, u, v):  \n    common = set(G[u]) & set(G[v])\n    return sum([1/(len(set(G[node]))*len(set(G[v]))) for node in common])\n\ndef hybrid(G, u, v):  \n    common = set(G[u]) & set(G[v])\n    return sum([1/(len(set(G[node]))*len(set(G[u]))*len(set(G[v]))) for node in common])\n\n\nweight_functions = [simple_weight, jaccard, vectorised_projection, hyperbolic, probs, heats]\nfunc_names = [\"Simple weight\", \"Jaccard\", \"Vectorised projection\", \"Hyperbolic\", \"Probs\", \"Heats\"]\n\n\n# test cases\nx = np.array([0, 0, 0, 0, 0, 0, 0, 1, 1, 1])\ny = np.array([0, 0, 0, 0, 0, 1, 0, 0, 1, 1])\n\n\"\"\"\nprint('simple_weight: ', np.sum((x + y) == 2))\nprint('euclidean: ', np.sqrt(np.sum(np.power((x - y),2))))\nprint('normalised euclidean: ', 1 / (np.sqrt(np.sum(np.power((x - y),2))) + 1))\nprint('cosine: ', 1 - sp.spatial.distance.cosine(x, y))\nprint('pearsn: ', sp.stats.stats.pearsonr(x, y)[0] + 1)\n\"\"\"\n\nu = 'r6'\nv = 'r3'\n\nfor f, name in zip(weight_functions, func_names):\n    if f == vectorised_projection:\n        for metric in ['simple_weight', 'euclidean', 'normalised_euclidean', 'pearson', 'cosine']:\n            print(f\"{name} ({metric}): {f(G, u, v, metric=metric)}\")\n    else: \n        print(f\"{name}: {f(G, u, v)}\")\n\n# weight_functions = [simple_weight, jaccard]",
   "outputs": [
    {
     "name": "stdout",
     "text": "Simple weight: 46\nJaccard: 0.05644171779141104\nVectorised projection (simple_weight): 46\nVectorised projection (euclidean): 27.730849247724095\nVectorised projection (normalised_euclidean): 0.03480579329130742\nVectorised projection (pearson): 1.1141858547035441\nVectorised projection (cosine): 0.12009256824858372\nHyperbolic: 1.08084272830345\nProbs: 0.0016342158724736654\nHeats: 0.004378860478807645\n",
     "output_type": "stream"
    }
   ],
   "execution_count": null
  },
  {
   "cell_type": "code",
   "metadata": {
    "tags": [],
    "cell_id": "00048-9c928f17-cf37-4b25-b790-03012da5a9b1",
    "deepnote_to_be_reexecuted": false,
    "source_hash": "9d6d29e5",
    "execution_start": 1633892267754,
    "execution_millis": 3,
    "output_cleared": true,
    "deepnote_cell_type": "code"
   },
   "source": "if COMPUTE_PROJECTIONS:\n    weight_functions = [simple_weight, jaccard, vectorised_projection, hyperbolic, probs, heats]\n    func_names = [\"Simple weight\", \"Jaccard\", \"Vectorised projection\", \"Hyperbolic\", \"Probs\", \"Heats\"]\n    for f, name in zip(weight_functions, func_names):\n        if f == vectorised_projection:\n            for metric in ['simple_weight', 'euclidean', 'normalised_euclidean', 'pearson', 'cosine']:\n                try:\n                    projected = bipartite.generic_weighted_projected_graph(G, nodes=repos, weight_function=f(metric=metric))\n                    nx.readwrite.gml.write_gml(projected, f\"{PATH_TO['data']['projections']}/{name}_{metric}.gml\")\n                except Exception as e:\n                    print(f\"Function: {name}_{metric} - failed because:\")\n                    print(e)\n                    print(\"-\"*10)\n        else: \n            try:\n                projected = bipartite.generic_weighted_projected_graph(G, nodes=repos, weight_function=f)\n                nx.readwrite.gml.write_gml(projected, f\"{PATH_TO['data']['projections']}/{name}.gml\")\n            except Exception as e:\n                print(f\"Function: {name} - failed because\")\n                print(e)\n                print(\"-\"*10)",
   "outputs": [],
   "execution_count": null
  },
  {
   "cell_type": "markdown",
   "source": "## Linear algebra & Random walks\nThis sections implements most important things from the lecture 2.",
   "metadata": {
    "tags": [],
    "cell_id": "00050-2829328a-67b4-4ce7-8bd7-092f6717948a",
    "deepnote_cell_type": "markdown"
   }
  },
  {
   "cell_type": "markdown",
   "source": "<a style='text-decoration:none;line-height:16px;display:flex;color:#5B5B62;padding:10px;justify-content:end;' href='https://deepnote.com?utm_source=created-in-deepnote-cell&projectId=58d54238-eda4-4682-9c9f-301f49ceb237' target=\"_blank\">\n<img alt='Created in deepnote.com' style='display:inline;max-height:16px;margin:0px;margin-right:7.5px;' src='data:image/svg+xml;base64,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' > </img>\nCreated in <span style='font-weight:600;margin-left:4px;'>Deepnote</span></a>",
   "metadata": {
    "tags": [],
    "created_in_deepnote_cell": true,
    "deepnote_cell_type": "markdown"
   }
  }
 ],
 "nbformat": 4,
 "nbformat_minor": 5,
 "metadata": {
  "kernelspec": {
   "display_name": "Python 3",
   "language": "python",
   "name": "python3"
  },
  "language_info": {
   "codemirror_mode": {
    "name": "ipython",
    "version": 3
   },
   "file_extension": ".py",
   "mimetype": "text/x-python",
   "name": "python",
   "nbconvert_exporter": "python",
   "pygments_lexer": "ipython3",
   "version": "3.8.5"
  },
  "deepnote_notebook_id": "5befc242-845e-4d7f-adb3-0e0bb747a3d1",
  "deepnote": {},
  "deepnote_execution_queue": []
 }
}